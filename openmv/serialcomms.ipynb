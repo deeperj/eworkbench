{
 "cells": [
  {
   "cell_type": "raw",
   "metadata": {
    "collapsed": false
   },
   "source": [
    "import serial.tools.list_ports\n",
    "class MySerial(serial.Serial ):\n",
    "    def _reconfigure_port( self, *args, **kwargs ):\n",
    "        try:\n",
    "            super()._reconfigure_port( *args, **kwargs )\n",
    "        except serial.SerialException:\n",
    "            pass"
   ]
  },
  {
   "cell_type": "code",
   "execution_count": null,
   "metadata": {
    "collapsed": false
   },
   "outputs": [],
   "source": [
    "import sys\n",
    "from PyQt5.QtCore import Qt\n",
    "from PyQt5.QtWidgets import (QApplication, QCheckBox, QGridLayout, QGroupBox,\n",
    "                             QMenu, QPushButton, QRadioButton, QVBoxLayout, QWidget, QSlider)\n",
    "\n",
    "class Window(QWidget):\n",
    "    def __init__(self, parent=None):\n",
    "        super(Window, self).__init__(parent)\n",
    "\n",
    "        grid = QGridLayout()\n",
    "        grid.addWidget(self.createSlider(), 0, 0)\n",
    "        grid.addWidget(self.createExampleGroup(), 1, 0)\n",
    "        #grid.addWidget(self.createExampleGroup(), 0, 1)\n",
    "        #grid.addWidget(self.createExampleGroup(), 1, 1)\n",
    "        self.setLayout(grid)\n",
    "\n",
    "        self.setWindowTitle(\"PyQt5 Sliders\")\n",
    "        self.resize(400, 300)\n",
    "\n",
    "    def createSlider(self):\n",
    "        groupBox = QGroupBox(\"Set Frequency\")\n",
    "\n",
    "        slider = QSlider(Qt.Horizontal)\n",
    "        slider.setFocusPolicy(Qt.StrongFocus)\n",
    "        slider.setTickPosition(QSlider.TicksBothSides)\n",
    "        slider.setTickInterval(10)\n",
    "        slider.setSingleStep(1)\n",
    "\n",
    "        vbox = QVBoxLayout()\n",
    "        vbox.addWidget(slider)\n",
    "        #vbox.addStretch(1)\n",
    "        groupBox.setLayout(vbox)\n",
    "\n",
    "        return groupBox\n",
    "    \n",
    "    def createExampleGroup(self):\n",
    "        groupBox = QGroupBox(\"Slider Example\")\n",
    "\n",
    "        radio1 = QRadioButton(\"&Radio horizontal slider\")\n",
    "\n",
    "        slider = QSlider(Qt.Horizontal)\n",
    "        slider.setFocusPolicy(Qt.StrongFocus)\n",
    "        slider.setTickPosition(QSlider.TicksBothSides)\n",
    "        slider.setTickInterval(10)\n",
    "        slider.setSingleStep(1)\n",
    "\n",
    "        radio1.setChecked(True)\n",
    "\n",
    "        vbox = QVBoxLayout()\n",
    "        vbox.addWidget(radio1)\n",
    "        vbox.addWidget(slider)\n",
    "        vbox.addStretch(1)\n",
    "        groupBox.setLayout(vbox)\n",
    "\n",
    "        return groupBox\n",
    "\n",
    "if __name__ == '__main__':\n",
    "    app = QApplication(sys.argv)\n",
    "    clock = Window()\n",
    "    clock.show()\n",
    "    sys.exit(app.exec_())"
   ]
  },
  {
   "cell_type": "code",
   "execution_count": 1,
   "metadata": {
    "collapsed": false
   },
   "outputs": [],
   "source": [
    "import serial.tools.list_ports,time"
   ]
  },
  {
   "cell_type": "code",
   "execution_count": 2,
   "metadata": {
    "collapsed": false
   },
   "outputs": [],
   "source": [
    "for m in serial.tools.list_ports.comports():\n",
    "    if 'VID:PID=1209:ABD' in m.usb_info():\n",
    "        port=m.device"
   ]
  },
  {
   "cell_type": "code",
   "execution_count": 3,
   "metadata": {
    "collapsed": false
   },
   "outputs": [
    {
     "name": "stdout",
     "output_type": "stream",
     "text": [
      "reading serial..\n",
      "reading data.. 3181625342\n",
      "The '_length_' attribute is too large\n",
      "closing port\n"
     ]
    }
   ],
   "source": [
    "import struct\n",
    "\n",
    "ser = serial.Serial(port)  # open serial port\n",
    "ser.baudrate = 115200\n",
    "print('reading serial..')\n",
    "# This is just a simplified version, I am sure the correct section of the data is captured\n",
    "# since data separators are used.\n",
    "size = struct.unpack(\"<L\", ser.read(4))[0]\n",
    "print('reading data..',size)#\n",
    "try:\n",
    "    data = ser.read(size) # Read data\n",
    "except OverflowError as error:\n",
    "    print(error)\n",
    "else:\n",
    "    print('showing ..')\n",
    "    #f = open(\"img.jpg\", 'wb')  # open in binary\n",
    "    #f.write(data)\n",
    "    #f.close()\n",
    "    display(data)#file=\"test.png\")\n",
    "finally:\n",
    "    print('closing port')\n",
    "    ser.close()"
   ]
  },
  {
   "cell_type": "code",
   "execution_count": null,
   "metadata": {
    "collapsed": true
   },
   "outputs": [],
   "source": []
  }
 ],
 "metadata": {
  "anaconda-cloud": {},
  "kernelspec": {
   "display_name": "Python [default]",
   "language": "python",
   "name": "python3"
  },
  "language_info": {
   "codemirror_mode": {
    "name": "ipython",
    "version": 3
   },
   "file_extension": ".py",
   "mimetype": "text/x-python",
   "name": "python",
   "nbconvert_exporter": "python",
   "pygments_lexer": "ipython3",
   "version": "3.5.2"
  }
 },
 "nbformat": 4,
 "nbformat_minor": 1
}
