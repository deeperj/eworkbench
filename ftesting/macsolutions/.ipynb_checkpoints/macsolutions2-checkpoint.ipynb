{
 "cells": [
  {
   "cell_type": "markdown",
   "metadata": {},
   "source": [
    "# Get the data"
   ]
  },
  {
   "cell_type": "code",
   "execution_count": 64,
   "metadata": {
    "collapsed": true
   },
   "outputs": [],
   "source": [
    "import pandas as pd\n",
    "\n",
    "eda = pd.read_csv(\"eda.csv\") # MACA058722019  CORE END PLATE SCREEN EE TEMP (TG369A)"
   ]
  },
  {
   "cell_type": "code",
   "execution_count": 65,
   "metadata": {
    "collapsed": false,
    "scrolled": true
   },
   "outputs": [
    {
     "data": {
      "text/html": [
       "<div>\n",
       "<table border=\"1\" class=\"dataframe\">\n",
       "  <thead>\n",
       "    <tr style=\"text-align: right;\">\n",
       "      <th></th>\n",
       "      <th>ID</th>\n",
       "      <th>EventDateTime</th>\n",
       "      <th>Shelved</th>\n",
       "      <th>ConvertedDateTime</th>\n",
       "      <th>SEQ</th>\n",
       "      <th>SourceEventTime</th>\n",
       "      <th>Tag</th>\n",
       "      <th>TagDescription</th>\n",
       "      <th>PlantArea</th>\n",
       "      <th>Category</th>\n",
       "      <th>StatusValue</th>\n",
       "      <th>PVPriority</th>\n",
       "      <th>AlarmChgStr</th>\n",
       "      <th>PLIN</th>\n",
       "      <th>AlarmAction</th>\n",
       "      <th>PV_ProcessVariable</th>\n",
       "      <th>ENU</th>\n",
       "      <th>NOP</th>\n",
       "    </tr>\n",
       "  </thead>\n",
       "  <tbody>\n",
       "    <tr>\n",
       "      <th>0</th>\n",
       "      <td>1</td>\n",
       "      <td>2017-03-01 02:37:01.000</td>\n",
       "      <td>42795.10904</td>\n",
       "      <td>2017-03-01 02:37:01.000</td>\n",
       "      <td>NaN</td>\n",
       "      <td>MACA058722019RTN</td>\n",
       "      <td>MACA058722019</td>\n",
       "      <td>CORE END PLATE SCREEN EE TEMP (TG369A)</td>\n",
       "      <td>Unit 1</td>\n",
       "      <td>1</td>\n",
       "      <td>0</td>\n",
       "      <td>3</td>\n",
       "      <td>CLEAR</td>\n",
       "      <td>38360</td>\n",
       "      <td>RTN</td>\n",
       "      <td>-39.856937</td>\n",
       "      <td>degC</td>\n",
       "      <td>1</td>\n",
       "    </tr>\n",
       "    <tr>\n",
       "      <th>1</th>\n",
       "      <td>26</td>\n",
       "      <td>2017-03-01 02:39:00.000</td>\n",
       "      <td>42795.11042</td>\n",
       "      <td>2017-03-01 02:39:00.000</td>\n",
       "      <td>MACA058722019ALM_MACPA_CLR_SNICHRNA_SEQ2019ALM...</td>\n",
       "      <td>MACA058722019ALM</td>\n",
       "      <td>MACA058722019</td>\n",
       "      <td>CORE END PLATE SCREEN EE TEMP (TG369A)</td>\n",
       "      <td>Unit 1</td>\n",
       "      <td>1</td>\n",
       "      <td>4</td>\n",
       "      <td>3</td>\n",
       "      <td>HIGH</td>\n",
       "      <td>38360</td>\n",
       "      <td>ALM</td>\n",
       "      <td>393.169950</td>\n",
       "      <td>degC</td>\n",
       "      <td>1</td>\n",
       "    </tr>\n",
       "    <tr>\n",
       "      <th>2</th>\n",
       "      <td>27</td>\n",
       "      <td>2017-03-01 02:39:00.000</td>\n",
       "      <td>42795.11042</td>\n",
       "      <td>2017-03-01 02:39:00.000</td>\n",
       "      <td>MACA058722019ALM_MACA058722019ALM_MACPA_CLR_SN...</td>\n",
       "      <td>MACA058722019ALM</td>\n",
       "      <td>MACA058722019</td>\n",
       "      <td>CORE END PLATE SCREEN EE TEMP (TG369A)</td>\n",
       "      <td>Unit 1</td>\n",
       "      <td>1</td>\n",
       "      <td>3</td>\n",
       "      <td>3</td>\n",
       "      <td>VHIGH</td>\n",
       "      <td>38360</td>\n",
       "      <td>ALM</td>\n",
       "      <td>393.169950</td>\n",
       "      <td>degC</td>\n",
       "      <td>1</td>\n",
       "    </tr>\n",
       "    <tr>\n",
       "      <th>3</th>\n",
       "      <td>45</td>\n",
       "      <td>2017-03-01 02:41:01.000</td>\n",
       "      <td>42795.11182</td>\n",
       "      <td>2017-03-01 02:41:01.000</td>\n",
       "      <td>MACA058722019ALM_MACA007642019RTN_MACA04919201...</td>\n",
       "      <td>MACA058722019ALM</td>\n",
       "      <td>MACA058722019</td>\n",
       "      <td>CORE END PLATE SCREEN EE TEMP (TG369A)</td>\n",
       "      <td>Unit 1</td>\n",
       "      <td>1</td>\n",
       "      <td>4</td>\n",
       "      <td>3</td>\n",
       "      <td>HIGH</td>\n",
       "      <td>38360</td>\n",
       "      <td>ALM</td>\n",
       "      <td>117.099620</td>\n",
       "      <td>degC</td>\n",
       "      <td>1</td>\n",
       "    </tr>\n",
       "    <tr>\n",
       "      <th>4</th>\n",
       "      <td>47</td>\n",
       "      <td>2017-03-01 02:41:30.000</td>\n",
       "      <td>42795.11215</td>\n",
       "      <td>2017-03-01 02:41:30.000</td>\n",
       "      <td>MACA058722019RTN_MACA6_3082019ALM_MACA05872201...</td>\n",
       "      <td>MACA058722019RTN</td>\n",
       "      <td>MACA058722019</td>\n",
       "      <td>CORE END PLATE SCREEN EE TEMP (TG369A)</td>\n",
       "      <td>Unit 1</td>\n",
       "      <td>1</td>\n",
       "      <td>0</td>\n",
       "      <td>3</td>\n",
       "      <td>CLEAR</td>\n",
       "      <td>38360</td>\n",
       "      <td>RTN</td>\n",
       "      <td>-112.643560</td>\n",
       "      <td>degC</td>\n",
       "      <td>1</td>\n",
       "    </tr>\n",
       "  </tbody>\n",
       "</table>\n",
       "</div>"
      ],
      "text/plain": [
       "   ID            EventDateTime      Shelved        ConvertedDateTime  \\\n",
       "0   1  2017-03-01 02:37:01.000  42795.10904  2017-03-01 02:37:01.000   \n",
       "1  26  2017-03-01 02:39:00.000  42795.11042  2017-03-01 02:39:00.000   \n",
       "2  27  2017-03-01 02:39:00.000  42795.11042  2017-03-01 02:39:00.000   \n",
       "3  45  2017-03-01 02:41:01.000  42795.11182  2017-03-01 02:41:01.000   \n",
       "4  47  2017-03-01 02:41:30.000  42795.11215  2017-03-01 02:41:30.000   \n",
       "\n",
       "                                                 SEQ   SourceEventTime  \\\n",
       "0                                                NaN  MACA058722019RTN   \n",
       "1  MACA058722019ALM_MACPA_CLR_SNICHRNA_SEQ2019ALM...  MACA058722019ALM   \n",
       "2  MACA058722019ALM_MACA058722019ALM_MACPA_CLR_SN...  MACA058722019ALM   \n",
       "3  MACA058722019ALM_MACA007642019RTN_MACA04919201...  MACA058722019ALM   \n",
       "4  MACA058722019RTN_MACA6_3082019ALM_MACA05872201...  MACA058722019RTN   \n",
       "\n",
       "             Tag                          TagDescription PlantArea  Category  \\\n",
       "0  MACA058722019  CORE END PLATE SCREEN EE TEMP (TG369A)    Unit 1         1   \n",
       "1  MACA058722019  CORE END PLATE SCREEN EE TEMP (TG369A)    Unit 1         1   \n",
       "2  MACA058722019  CORE END PLATE SCREEN EE TEMP (TG369A)    Unit 1         1   \n",
       "3  MACA058722019  CORE END PLATE SCREEN EE TEMP (TG369A)    Unit 1         1   \n",
       "4  MACA058722019  CORE END PLATE SCREEN EE TEMP (TG369A)    Unit 1         1   \n",
       "\n",
       "   StatusValue  PVPriority AlarmChgStr   PLIN AlarmAction  PV_ProcessVariable  \\\n",
       "0            0           3  CLEAR       38360         RTN          -39.856937   \n",
       "1            4           3  HIGH        38360         ALM          393.169950   \n",
       "2            3           3  VHIGH       38360         ALM          393.169950   \n",
       "3            4           3  HIGH        38360         ALM          117.099620   \n",
       "4            0           3  CLEAR       38360         RTN         -112.643560   \n",
       "\n",
       "      ENU  NOP  \n",
       "0  degC      1  \n",
       "1  degC      1  \n",
       "2  degC      1  \n",
       "3  degC      1  \n",
       "4  degC      1  "
      ]
     },
     "execution_count": 65,
     "metadata": {},
     "output_type": "execute_result"
    }
   ],
   "source": [
    "eda.head()"
   ]
  },
  {
   "cell_type": "code",
   "execution_count": 66,
   "metadata": {
    "collapsed": false
   },
   "outputs": [
    {
     "name": "stdout",
     "output_type": "stream",
     "text": [
      "<class 'pandas.core.frame.DataFrame'>\n",
      "RangeIndex: 50323 entries, 0 to 50322\n",
      "Data columns (total 18 columns):\n",
      "ID                    50323 non-null int64\n",
      "EventDateTime         50323 non-null object\n",
      "Shelved               50323 non-null float64\n",
      "ConvertedDateTime     50323 non-null object\n",
      "SEQ                   50322 non-null object\n",
      "SourceEventTime       50323 non-null object\n",
      "Tag                   50323 non-null object\n",
      "TagDescription        50323 non-null object\n",
      "PlantArea             50323 non-null object\n",
      "Category              50323 non-null int64\n",
      "StatusValue           50323 non-null int64\n",
      "PVPriority            50323 non-null int64\n",
      "AlarmChgStr           50323 non-null object\n",
      "PLIN                  50323 non-null int64\n",
      "AlarmAction           50323 non-null object\n",
      "PV_ProcessVariable    50323 non-null float64\n",
      "ENU                   50323 non-null object\n",
      "NOP                   50323 non-null int64\n",
      "dtypes: float64(2), int64(6), object(10)\n",
      "memory usage: 6.9+ MB\n"
     ]
    }
   ],
   "source": [
    "eda.info()"
   ]
  },
  {
   "cell_type": "code",
   "execution_count": 67,
   "metadata": {
    "collapsed": false
   },
   "outputs": [
    {
     "data": {
      "text/plain": [
       "HIGH          25161\n",
       "VHIGH         12602\n",
       "CLEAR         12560\n",
       "Name: AlarmChgStr, dtype: int64"
      ]
     },
     "execution_count": 67,
     "metadata": {},
     "output_type": "execute_result"
    }
   ],
   "source": [
    "eda[\"AlarmChgStr\"].value_counts()"
   ]
  },
  {
   "cell_type": "code",
   "execution_count": 68,
   "metadata": {
    "collapsed": false
   },
   "outputs": [
    {
     "data": {
      "text/html": [
       "<div>\n",
       "<table border=\"1\" class=\"dataframe\">\n",
       "  <thead>\n",
       "    <tr style=\"text-align: right;\">\n",
       "      <th></th>\n",
       "      <th>ID</th>\n",
       "      <th>Shelved</th>\n",
       "      <th>Category</th>\n",
       "      <th>StatusValue</th>\n",
       "      <th>PVPriority</th>\n",
       "      <th>PLIN</th>\n",
       "      <th>PV_ProcessVariable</th>\n",
       "      <th>NOP</th>\n",
       "    </tr>\n",
       "  </thead>\n",
       "  <tbody>\n",
       "    <tr>\n",
       "      <th>count</th>\n",
       "      <td>5.032300e+04</td>\n",
       "      <td>50323.000000</td>\n",
       "      <td>50323.000000</td>\n",
       "      <td>50323.000000</td>\n",
       "      <td>50323.0</td>\n",
       "      <td>50323.0</td>\n",
       "      <td>50323.000000</td>\n",
       "      <td>50323.0</td>\n",
       "    </tr>\n",
       "    <tr>\n",
       "      <th>mean</th>\n",
       "      <td>5.631105e+05</td>\n",
       "      <td>42794.327142</td>\n",
       "      <td>15.460783</td>\n",
       "      <td>2.751227</td>\n",
       "      <td>3.0</td>\n",
       "      <td>38360.0</td>\n",
       "      <td>117.965145</td>\n",
       "      <td>1.0</td>\n",
       "    </tr>\n",
       "    <tr>\n",
       "      <th>std</th>\n",
       "      <td>3.072388e+05</td>\n",
       "      <td>6.959813</td>\n",
       "      <td>9.159397</td>\n",
       "      <td>1.638427</td>\n",
       "      <td>0.0</td>\n",
       "      <td>0.0</td>\n",
       "      <td>165.764356</td>\n",
       "      <td>0.0</td>\n",
       "    </tr>\n",
       "    <tr>\n",
       "      <th>min</th>\n",
       "      <td>1.000000e+00</td>\n",
       "      <td>42789.030500</td>\n",
       "      <td>1.000000</td>\n",
       "      <td>0.000000</td>\n",
       "      <td>3.0</td>\n",
       "      <td>38360.0</td>\n",
       "      <td>-247.946300</td>\n",
       "      <td>1.0</td>\n",
       "    </tr>\n",
       "    <tr>\n",
       "      <th>25%</th>\n",
       "      <td>2.972635e+05</td>\n",
       "      <td>42789.030500</td>\n",
       "      <td>7.000000</td>\n",
       "      <td>3.000000</td>\n",
       "      <td>3.0</td>\n",
       "      <td>38360.0</td>\n",
       "      <td>-2.665970</td>\n",
       "      <td>1.0</td>\n",
       "    </tr>\n",
       "    <tr>\n",
       "      <th>50%</th>\n",
       "      <td>5.982210e+05</td>\n",
       "      <td>42789.030500</td>\n",
       "      <td>15.000000</td>\n",
       "      <td>3.000000</td>\n",
       "      <td>3.0</td>\n",
       "      <td>38360.0</td>\n",
       "      <td>121.123050</td>\n",
       "      <td>1.0</td>\n",
       "    </tr>\n",
       "    <tr>\n",
       "      <th>75%</th>\n",
       "      <td>8.355975e+05</td>\n",
       "      <td>42803.129110</td>\n",
       "      <td>24.000000</td>\n",
       "      <td>4.000000</td>\n",
       "      <td>3.0</td>\n",
       "      <td>38360.0</td>\n",
       "      <td>255.115740</td>\n",
       "      <td>1.0</td>\n",
       "    </tr>\n",
       "    <tr>\n",
       "      <th>max</th>\n",
       "      <td>1.048524e+06</td>\n",
       "      <td>42807.143170</td>\n",
       "      <td>31.000000</td>\n",
       "      <td>4.000000</td>\n",
       "      <td>3.0</td>\n",
       "      <td>38360.0</td>\n",
       "      <td>399.939480</td>\n",
       "      <td>1.0</td>\n",
       "    </tr>\n",
       "  </tbody>\n",
       "</table>\n",
       "</div>"
      ],
      "text/plain": [
       "                 ID       Shelved      Category   StatusValue  PVPriority  \\\n",
       "count  5.032300e+04  50323.000000  50323.000000  50323.000000     50323.0   \n",
       "mean   5.631105e+05  42794.327142     15.460783      2.751227         3.0   \n",
       "std    3.072388e+05      6.959813      9.159397      1.638427         0.0   \n",
       "min    1.000000e+00  42789.030500      1.000000      0.000000         3.0   \n",
       "25%    2.972635e+05  42789.030500      7.000000      3.000000         3.0   \n",
       "50%    5.982210e+05  42789.030500     15.000000      3.000000         3.0   \n",
       "75%    8.355975e+05  42803.129110     24.000000      4.000000         3.0   \n",
       "max    1.048524e+06  42807.143170     31.000000      4.000000         3.0   \n",
       "\n",
       "          PLIN  PV_ProcessVariable      NOP  \n",
       "count  50323.0        50323.000000  50323.0  \n",
       "mean   38360.0          117.965145      1.0  \n",
       "std        0.0          165.764356      0.0  \n",
       "min    38360.0         -247.946300      1.0  \n",
       "25%    38360.0           -2.665970      1.0  \n",
       "50%    38360.0          121.123050      1.0  \n",
       "75%    38360.0          255.115740      1.0  \n",
       "max    38360.0          399.939480      1.0  "
      ]
     },
     "execution_count": 68,
     "metadata": {},
     "output_type": "execute_result"
    }
   ],
   "source": [
    "eda.describe()"
   ]
  },
  {
   "cell_type": "code",
   "execution_count": 69,
   "metadata": {
    "collapsed": false
   },
   "outputs": [
    {
     "data": {
      "text/plain": [
       "array([[<matplotlib.axes._subplots.AxesSubplot object at 0x000002543CFE83C8>,\n",
       "        <matplotlib.axes._subplots.AxesSubplot object at 0x000002543D02A3C8>,\n",
       "        <matplotlib.axes._subplots.AxesSubplot object at 0x000002543D075470>],\n",
       "       [<matplotlib.axes._subplots.AxesSubplot object at 0x000002543D0B6198>,\n",
       "        <matplotlib.axes._subplots.AxesSubplot object at 0x000002543D0FCD68>,\n",
       "        <matplotlib.axes._subplots.AxesSubplot object at 0x000002543D138E80>],\n",
       "       [<matplotlib.axes._subplots.AxesSubplot object at 0x000002543D181F98>,\n",
       "        <matplotlib.axes._subplots.AxesSubplot object at 0x000002543D1BECC0>,\n",
       "        <matplotlib.axes._subplots.AxesSubplot object at 0x000002543D211048>]],\n",
       "      dtype=object)"
      ]
     },
     "execution_count": 69,
     "metadata": {},
     "output_type": "execute_result"
    },
    {
     "data": {
      "image/png": "[encoded data removed]",
      "text/plain": [
       "<matplotlib.figure.Figure at 0x2543cfe3c18>"
      ]
     },
     "metadata": {},
     "output_type": "display_data"
    }
   ],
   "source": [
    "%matplotlib inline\n",
    "import matplotlib.pyplot as plt\n",
    "eda.hist(bins=50, figsize=(20,15))"
   ]
  },
  {
   "cell_type": "code",
   "execution_count": 70,
   "metadata": {
    "collapsed": false
   },
   "outputs": [
    {
     "data": {
      "text/plain": [
       "<matplotlib.axes._subplots.AxesSubplot at 0x2543d7fea90>"
      ]
     },
     "execution_count": 70,
     "metadata": {},
     "output_type": "execute_result"
    },
    {
     "data": {
      "image/png": "[encoded data removed]",
      "text/plain": [
       "<matplotlib.figure.Figure at 0x2543cd7f358>"
      ]
     },
     "metadata": {},
     "output_type": "display_data"
    }
   ],
   "source": [
    "eda[\"PV_ProcessVariable\"].hist(bins=50)"
   ]
  },
  {
   "cell_type": "code",
   "execution_count": 71,
   "metadata": {
    "collapsed": false
   },
   "outputs": [
    {
     "data": {
      "text/plain": [
       "<matplotlib.axes._subplots.AxesSubplot at 0x2543d972ac8>"
      ]
     },
     "execution_count": 71,
     "metadata": {},
     "output_type": "execute_result"
    },
    {
     "data": {
      "image/png": "[encoded data removed]",
      "text/plain": [
       "<matplotlib.figure.Figure at 0x2543d97fe10>"
      ]
     },
     "metadata": {},
     "output_type": "display_data"
    }
   ],
   "source": [
    "eda[\"Shelved\"].hist(bins=50)"
   ]
  },
  {
   "cell_type": "code",
   "execution_count": 72,
   "metadata": {
    "collapsed": false
   },
   "outputs": [
    {
     "data": {
      "text/plain": [
       "<matplotlib.axes._subplots.AxesSubplot at 0x2543d9d9710>"
      ]
     },
     "execution_count": 72,
     "metadata": {},
     "output_type": "execute_result"
    },
    {
     "data": {
      "image/png": "[encoded data removed]",
      "text/plain": [
       "<matplotlib.figure.Figure at 0x2543d87cf28>"
      ]
     },
     "metadata": {},
     "output_type": "display_data"
    }
   ],
   "source": [
    "eda[\"PV_ProcessVariable\"].plot()"
   ]
  },
  {
   "cell_type": "code",
   "execution_count": 73,
   "metadata": {
    "collapsed": false
   },
   "outputs": [
    {
     "data": {
      "text/plain": [
       "<matplotlib.axes._subplots.AxesSubplot at 0x2543d979e80>"
      ]
     },
     "execution_count": 73,
     "metadata": {},
     "output_type": "execute_result"
    },
    {
     "data": {
      "image/png": "[encoded data removed]",
      "text/plain": [
       "<matplotlib.figure.Figure at 0x2543e293550>"
      ]
     },
     "metadata": {},
     "output_type": "display_data"
    }
   ],
   "source": [
    "eda[\"Shelved\"].plot()"
   ]
  },
  {
   "cell_type": "code",
   "execution_count": 74,
   "metadata": {
    "collapsed": false
   },
   "outputs": [
    {
     "data": {
      "text/plain": [
       "0    -39.856937\n",
       "1    393.169950\n",
       "Name: PV_ProcessVariable, dtype: float64"
      ]
     },
     "execution_count": 74,
     "metadata": {},
     "output_type": "execute_result"
    }
   ],
   "source": [
    "eda[0:2][\"PV_ProcessVariable\"]"
   ]
  },
  {
   "cell_type": "code",
   "execution_count": 75,
   "metadata": {
    "collapsed": false
   },
   "outputs": [
    {
     "data": {
      "text/plain": [
       "<matplotlib.axes._subplots.AxesSubplot at 0x2543e270ac8>"
      ]
     },
     "execution_count": 75,
     "metadata": {},
     "output_type": "execute_result"
    },
    {
     "data": {
      "image/png": "[encoded data removed]",
      "text/plain": [
       "<matplotlib.figure.Figure at 0x2543e2a6a20>"
      ]
     },
     "metadata": {},
     "output_type": "display_data"
    }
   ],
   "source": [
    "eda[0:20][\"PV_ProcessVariable\"].plot()"
   ]
  },
  {
   "cell_type": "code",
   "execution_count": 76,
   "metadata": {
    "collapsed": false
   },
   "outputs": [
    {
     "data": {
      "text/plain": [
       "<matplotlib.axes._subplots.AxesSubplot at 0x2543e2fdac8>"
      ]
     },
     "execution_count": 76,
     "metadata": {},
     "output_type": "execute_result"
    },
    {
     "data": {
      "image/png": "[encoded data removed]",
      "text/plain": [
       "<matplotlib.figure.Figure at 0x2543e531ba8>"
      ]
     },
     "metadata": {},
     "output_type": "display_data"
    }
   ],
   "source": [
    "eda[21:200][\"PV_ProcessVariable\"].plot()"
   ]
  },
  {
   "cell_type": "code",
   "execution_count": 77,
   "metadata": {
    "collapsed": false
   },
   "outputs": [
    {
     "data": {
      "text/plain": [
       "<matplotlib.axes._subplots.AxesSubplot at 0x2543e1aabe0>"
      ]
     },
     "execution_count": 77,
     "metadata": {},
     "output_type": "execute_result"
    },
    {
     "data": {
      "image/png": "[encoded data removed]",
      "text/plain": [
       "<matplotlib.figure.Figure at 0x2543e19d080>"
      ]
     },
     "metadata": {},
     "output_type": "display_data"
    }
   ],
   "source": [
    "eda[:10300][\"Shelved\"].plot()"
   ]
  },
  {
   "cell_type": "code",
   "execution_count": 78,
   "metadata": {
    "collapsed": false
   },
   "outputs": [
    {
     "data": {
      "text/plain": [
       "<matplotlib.axes._subplots.AxesSubplot at 0x2543e1dfac8>"
      ]
     },
     "execution_count": 78,
     "metadata": {},
     "output_type": "execute_result"
    },
    {
     "data": {
      "image/png": "[encoded data removed]",
      "text/plain": [
       "<matplotlib.figure.Figure at 0x2543e032208>"
      ]
     },
     "metadata": {},
     "output_type": "display_data"
    }
   ],
   "source": [
    "eda[:10300].plot(kind=\"line\", x=\"Shelved\", y=\"PV_ProcessVariable\")"
   ]
  },
  {
   "cell_type": "code",
   "execution_count": 79,
   "metadata": {
    "collapsed": false
   },
   "outputs": [
    {
     "data": {
      "text/plain": [
       "<matplotlib.axes._subplots.AxesSubplot at 0x2543df59dd8>"
      ]
     },
     "execution_count": 79,
     "metadata": {},
     "output_type": "execute_result"
    },
    {
     "data": {
      "image/png": "[encoded data removed]",
      "text/plain": [
       "<matplotlib.figure.Figure at 0x2543e0ae1d0>"
      ]
     },
     "metadata": {},
     "output_type": "display_data"
    }
   ],
   "source": [
    "eda[21:200].plot(kind=\"line\", x=\"Shelved\", y=\"PV_ProcessVariable\")"
   ]
  },
  {
   "cell_type": "code",
   "execution_count": 80,
   "metadata": {
    "collapsed": true
   },
   "outputs": [],
   "source": [
    "import numpy as np\n",
    "\n",
    "# to make this notebook's output identical at every run\n",
    "np.random.seed(42)"
   ]
  },
  {
   "cell_type": "code",
   "execution_count": 81,
   "metadata": {
    "collapsed": true
   },
   "outputs": [],
   "source": [
    "# For illustration only. Sklearn has train_test_split()\n",
    "def split_train_test(data, test_ratio):\n",
    "    shuffled_indices = np.random.permutation(len(data))\n",
    "    test_set_size = int(len(data) * test_ratio)\n",
    "    test_indices = shuffled_indices[:test_set_size]\n",
    "    train_indices = shuffled_indices[test_set_size:]\n",
    "    return data.iloc[train_indices], data.iloc[test_indices]"
   ]
  },
  {
   "cell_type": "code",
   "execution_count": 82,
   "metadata": {
    "collapsed": false
   },
   "outputs": [
    {
     "name": "stdout",
     "output_type": "stream",
     "text": [
      "40259 train + 10064 test\n"
     ]
    }
   ],
   "source": [
    "train_set, test_set = split_train_test(eda, 0.2)\n",
    "print(len(train_set), \"train +\", len(test_set), \"test\")"
   ]
  },
  {
   "cell_type": "code",
   "execution_count": 83,
   "metadata": {
    "collapsed": false
   },
   "outputs": [
    {
     "data": {
      "text/html": [
       "<div>\n",
       "<table border=\"1\" class=\"dataframe\">\n",
       "  <thead>\n",
       "    <tr style=\"text-align: right;\">\n",
       "      <th></th>\n",
       "      <th>ID</th>\n",
       "      <th>EventDateTime</th>\n",
       "      <th>Shelved</th>\n",
       "      <th>ConvertedDateTime</th>\n",
       "      <th>SEQ</th>\n",
       "      <th>SourceEventTime</th>\n",
       "      <th>Tag</th>\n",
       "      <th>TagDescription</th>\n",
       "      <th>PlantArea</th>\n",
       "      <th>Category</th>\n",
       "      <th>StatusValue</th>\n",
       "      <th>PVPriority</th>\n",
       "      <th>AlarmChgStr</th>\n",
       "      <th>PLIN</th>\n",
       "      <th>AlarmAction</th>\n",
       "      <th>PV_ProcessVariable</th>\n",
       "      <th>ENU</th>\n",
       "      <th>NOP</th>\n",
       "    </tr>\n",
       "  </thead>\n",
       "  <tbody>\n",
       "    <tr>\n",
       "      <th>15444</th>\n",
       "      <td>343077</td>\n",
       "      <td>2017-03-10 15:16:57.000</td>\n",
       "      <td>42804.63677</td>\n",
       "      <td>2017-03-10 15:16:57.000</td>\n",
       "      <td>MACA058722019RTN_MACA058722019ALM_MACA6_550201...</td>\n",
       "      <td>MACA058722019RTN</td>\n",
       "      <td>MACA058722019</td>\n",
       "      <td>CORE END PLATE SCREEN EE TEMP (TG369A)</td>\n",
       "      <td>Unit 1</td>\n",
       "      <td>20</td>\n",
       "      <td>0</td>\n",
       "      <td>3</td>\n",
       "      <td>CLEAR</td>\n",
       "      <td>38360</td>\n",
       "      <td>RTN</td>\n",
       "      <td>42.652592</td>\n",
       "      <td>degC</td>\n",
       "      <td>1</td>\n",
       "    </tr>\n",
       "    <tr>\n",
       "      <th>6293</th>\n",
       "      <td>139720</td>\n",
       "      <td>2017-03-08 13:28:06.000</td>\n",
       "      <td>42802.56118</td>\n",
       "      <td>2017-03-08 13:28:06.000</td>\n",
       "      <td>MACA058722019ALM_MACA01_50792019ALM_MACA007642...</td>\n",
       "      <td>MACA058722019ALM</td>\n",
       "      <td>MACA058722019</td>\n",
       "      <td>CORE END PLATE SCREEN EE TEMP (TG369A)</td>\n",
       "      <td>Unit 1</td>\n",
       "      <td>8</td>\n",
       "      <td>4</td>\n",
       "      <td>3</td>\n",
       "      <td>HIGH</td>\n",
       "      <td>38360</td>\n",
       "      <td>ALM</td>\n",
       "      <td>346.845730</td>\n",
       "      <td>degC</td>\n",
       "      <td>1</td>\n",
       "    </tr>\n",
       "    <tr>\n",
       "      <th>29137</th>\n",
       "      <td>686279</td>\n",
       "      <td>2017-02-23 00:43:55.000</td>\n",
       "      <td>42789.03050</td>\n",
       "      <td>2017-02-23 00:43:55.000</td>\n",
       "      <td>MACA058722019ALM_MACA058722019ALM_MACA05872201...</td>\n",
       "      <td>MACA058722019ALM</td>\n",
       "      <td>MACA058722019</td>\n",
       "      <td>CORE END PLATE SCREEN EE TEMP (TG369A)</td>\n",
       "      <td>Unit 1</td>\n",
       "      <td>6</td>\n",
       "      <td>4</td>\n",
       "      <td>3</td>\n",
       "      <td>HIGH</td>\n",
       "      <td>38360</td>\n",
       "      <td>ALM</td>\n",
       "      <td>34.869877</td>\n",
       "      <td>degC</td>\n",
       "      <td>1</td>\n",
       "    </tr>\n",
       "    <tr>\n",
       "      <th>9801</th>\n",
       "      <td>219402</td>\n",
       "      <td>2017-03-12 13:08:51.000</td>\n",
       "      <td>42806.54781</td>\n",
       "      <td>2017-03-12 13:08:51.000</td>\n",
       "      <td>MACA058722019ALM_MACCMNSRV_MCN_SBSTPWRN2019ALM...</td>\n",
       "      <td>MACA058722019ALM</td>\n",
       "      <td>MACA058722019</td>\n",
       "      <td>CORE END PLATE SCREEN EE TEMP (TG369A)</td>\n",
       "      <td>Unit 1</td>\n",
       "      <td>12</td>\n",
       "      <td>4</td>\n",
       "      <td>3</td>\n",
       "      <td>HIGH</td>\n",
       "      <td>38360</td>\n",
       "      <td>ALM</td>\n",
       "      <td>218.610370</td>\n",
       "      <td>degC</td>\n",
       "      <td>1</td>\n",
       "    </tr>\n",
       "    <tr>\n",
       "      <th>10755</th>\n",
       "      <td>236696</td>\n",
       "      <td>2017-02-23 00:43:55.000</td>\n",
       "      <td>42789.03050</td>\n",
       "      <td>2017-02-23 00:43:55.000</td>\n",
       "      <td>MACA058722019ALM_MACA17_03232019ALM_MACPA_CLR_...</td>\n",
       "      <td>MACA058722019ALM</td>\n",
       "      <td>MACA058722019</td>\n",
       "      <td>CORE END PLATE SCREEN EE TEMP (TG369A)</td>\n",
       "      <td>Unit 1</td>\n",
       "      <td>13</td>\n",
       "      <td>4</td>\n",
       "      <td>3</td>\n",
       "      <td>HIGH</td>\n",
       "      <td>38360</td>\n",
       "      <td>ALM</td>\n",
       "      <td>-23.504641</td>\n",
       "      <td>degC</td>\n",
       "      <td>1</td>\n",
       "    </tr>\n",
       "  </tbody>\n",
       "</table>\n",
       "</div>"
      ],
      "text/plain": [
       "           ID            EventDateTime      Shelved        ConvertedDateTime  \\\n",
       "15444  343077  2017-03-10 15:16:57.000  42804.63677  2017-03-10 15:16:57.000   \n",
       "6293   139720  2017-03-08 13:28:06.000  42802.56118  2017-03-08 13:28:06.000   \n",
       "29137  686279  2017-02-23 00:43:55.000  42789.03050  2017-02-23 00:43:55.000   \n",
       "9801   219402  2017-03-12 13:08:51.000  42806.54781  2017-03-12 13:08:51.000   \n",
       "10755  236696  2017-02-23 00:43:55.000  42789.03050  2017-02-23 00:43:55.000   \n",
       "\n",
       "                                                     SEQ   SourceEventTime  \\\n",
       "15444  MACA058722019RTN_MACA058722019ALM_MACA6_550201...  MACA058722019RTN   \n",
       "6293   MACA058722019ALM_MACA01_50792019ALM_MACA007642...  MACA058722019ALM   \n",
       "29137  MACA058722019ALM_MACA058722019ALM_MACA05872201...  MACA058722019ALM   \n",
       "9801   MACA058722019ALM_MACCMNSRV_MCN_SBSTPWRN2019ALM...  MACA058722019ALM   \n",
       "10755  MACA058722019ALM_MACA17_03232019ALM_MACPA_CLR_...  MACA058722019ALM   \n",
       "\n",
       "                 Tag                          TagDescription PlantArea  \\\n",
       "15444  MACA058722019  CORE END PLATE SCREEN EE TEMP (TG369A)    Unit 1   \n",
       "6293   MACA058722019  CORE END PLATE SCREEN EE TEMP (TG369A)    Unit 1   \n",
       "29137  MACA058722019  CORE END PLATE SCREEN EE TEMP (TG369A)    Unit 1   \n",
       "9801   MACA058722019  CORE END PLATE SCREEN EE TEMP (TG369A)    Unit 1   \n",
       "10755  MACA058722019  CORE END PLATE SCREEN EE TEMP (TG369A)    Unit 1   \n",
       "\n",
       "       Category  StatusValue  PVPriority AlarmChgStr   PLIN AlarmAction  \\\n",
       "15444        20            0           3  CLEAR       38360         RTN   \n",
       "6293          8            4           3  HIGH        38360         ALM   \n",
       "29137         6            4           3  HIGH        38360         ALM   \n",
       "9801         12            4           3  HIGH        38360         ALM   \n",
       "10755        13            4           3  HIGH        38360         ALM   \n",
       "\n",
       "       PV_ProcessVariable     ENU  NOP  \n",
       "15444           42.652592  degC      1  \n",
       "6293           346.845730  degC      1  \n",
       "29137           34.869877  degC      1  \n",
       "9801           218.610370  degC      1  \n",
       "10755          -23.504641  degC      1  "
      ]
     },
     "execution_count": 83,
     "metadata": {},
     "output_type": "execute_result"
    }
   ],
   "source": [
    "test_set.head()"
   ]
  },
  {
   "cell_type": "code",
   "execution_count": 107,
   "metadata": {
    "collapsed": false
   },
   "outputs": [],
   "source": [
    "import numpy as np\n",
    "#from keras.datasets import mnist\n",
    "from keras.models import Sequential\n",
    "from keras.layers.core import Dense, Activation\n",
    "from keras.optimizers import SGD\n",
    "from keras.utils import np_utils\n",
    "np.random.seed(1671) # for reproducibility\n",
    "\n",
    "# network and training\n",
    "NB_EPOCH = 100\n",
    "BATCH_SIZE = 128\n",
    "VERBOSE = 1\n",
    "NB_CLASSES = 3 # number of outputs = number of digits\n",
    "OPTIMIZER = SGD() # SGD optimizer\n",
    "N_HIDDEN = 128\n",
    "VALIDATION_SPLIT=0.2 # how much TRAIN is reserved for VALIDATION"
   ]
  },
  {
   "cell_type": "code",
   "execution_count": 154,
   "metadata": {
    "collapsed": false
   },
   "outputs": [],
   "source": [
    "X_train=np.array(train_set[\"PV_ProcessVariable\"]).reshape(-1,1)\n",
    "X_test=np.array(test_set[\"PV_ProcessVariable\"]).reshape(-1,1)\n",
    "# normalize#\n",
    "X_train /= np.amax(X_train)\n",
    "X_test /= np.amax(X_test)"
   ]
  },
  {
   "cell_type": "code",
   "execution_count": 155,
   "metadata": {
    "collapsed": true
   },
   "outputs": [],
   "source": [
    "Y_train_data = np.array(train_set[\"AlarmChgStr\"])\n",
    "Y_test_data = np.array(test_set[\"AlarmChgStr\"])"
   ]
  },
  {
   "cell_type": "code",
   "execution_count": 156,
   "metadata": {
    "collapsed": false
   },
   "outputs": [],
   "source": [
    "from numpy import array\n",
    "from numpy import argmax\n",
    "from sklearn.preprocessing import LabelEncoder\n",
    "from sklearn.preprocessing import OneHotEncoder\n",
    "# integer encode\n",
    "Y_train_label_encoder = LabelEncoder()\n",
    "Y_test_label_encoder = LabelEncoder()\n",
    "Y_train_integer_encoded = Y_train_label_encoder.fit_transform(Y_train_data)\n",
    "Y_test_integer_encoded = Y_test_label_encoder.fit_transform(Y_test_data)"
   ]
  },
  {
   "cell_type": "raw",
   "metadata": {},
   "source": [
    "print(integer_encoded)\n",
    "# binary encode\n",
    "onehot_encoder = OneHotEncoder(sparse=False)\n",
    "integer_encoded = integer_encoded.reshape(len(integer_encoded), 1)\n",
    "onehot_encoded = onehot_encoder.fit_transform(integer_encoded)\n",
    "print(onehot_encoded)\n",
    "# invert first example\n",
    "inverted = label_encoder.inverse_transform([argmax(onehot_encoded[0, :])])\n",
    "print(inverted)"
   ]
  },
  {
   "cell_type": "code",
   "execution_count": 157,
   "metadata": {
    "collapsed": false
   },
   "outputs": [],
   "source": [
    "Y_train = np_utils.to_categorical(Y_train_integer_encoded, NB_CLASSES)\n",
    "Y_test = np_utils.to_categorical(Y_test_integer_encoded, NB_CLASSES)"
   ]
  },
  {
   "cell_type": "code",
   "execution_count": 158,
   "metadata": {
    "collapsed": false
   },
   "outputs": [
    {
     "name": "stdout",
     "output_type": "stream",
     "text": [
      "_________________________________________________________________\n",
      "Layer (type)                 Output Shape              Param #   \n",
      "=================================================================\n",
      "dense_8 (Dense)              (None, 128)               256       \n",
      "_________________________________________________________________\n",
      "activation_8 (Activation)    (None, 128)               0         \n",
      "_________________________________________________________________\n",
      "dense_9 (Dense)              (None, 128)               16512     \n",
      "_________________________________________________________________\n",
      "activation_9 (Activation)    (None, 128)               0         \n",
      "_________________________________________________________________\n",
      "dense_10 (Dense)             (None, 3)                 387       \n",
      "_________________________________________________________________\n",
      "activation_10 (Activation)   (None, 3)                 0         \n",
      "=================================================================\n",
      "Total params: 17,155\n",
      "Trainable params: 17,155\n",
      "Non-trainable params: 0\n",
      "_________________________________________________________________\n"
     ]
    }
   ],
   "source": [
    "# final stage is softmax\n",
    "model = Sequential()\n",
    "#model.add(Dense(NB_CLASSES, input_shape=(1,)))\n",
    "model.add(Dense(N_HIDDEN, input_shape=(1,)))\n",
    "model.add(Activation('relu'))\n",
    "model.add(Dense(N_HIDDEN))\n",
    "model.add(Activation('relu'))\n",
    "model.add(Dense(NB_CLASSES))\n",
    "model.add(Activation('softmax'))\n",
    "model.summary()\n",
    "model.compile(loss='categorical_crossentropy', optimizer=OPTIMIZER, metrics=['accuracy'])"
   ]
  },
  {
   "cell_type": "code",
   "execution_count": 159,
   "metadata": {
    "collapsed": false
   },
   "outputs": [
    {
     "name": "stdout",
     "output_type": "stream",
     "text": [
      "Train on 32207 samples, validate on 8052 samples\n",
      "Epoch 1/100\n",
      "32207/32207 [==============================] - 0s 13us/step - loss: 1.0283 - acc: 0.4764 - val_loss: 0.9658 - val_acc: 0.5076\n",
      "Epoch 2/100\n",
      "32207/32207 [==============================] - 0s 10us/step - loss: 0.9332 - acc: 0.4989 - val_loss: 0.8967 - val_acc: 0.5076\n",
      "Epoch 3/100\n",
      "32207/32207 [==============================] - 0s 10us/step - loss: 0.8722 - acc: 0.4989 - val_loss: 0.8460 - val_acc: 0.5063\n",
      "Epoch 4/100\n",
      "32207/32207 [==============================] - 0s 10us/step - loss: 0.8301 - acc: 0.5021 - val_loss: 0.8138 - val_acc: 0.5052\n",
      "Epoch 5/100\n",
      "32207/32207 [==============================] - 0s 10us/step - loss: 0.8044 - acc: 0.5024 - val_loss: 0.7940 - val_acc: 0.5037\n",
      "Epoch 6/100\n",
      "32207/32207 [==============================] - 0s 9us/step - loss: 0.7881 - acc: 0.5030 - val_loss: 0.7806 - val_acc: 0.5046\n",
      "Epoch 7/100\n",
      "32207/32207 [==============================] - 0s 10us/step - loss: 0.7764 - acc: 0.5038 - val_loss: 0.7705 - val_acc: 0.5052\n",
      "Epoch 8/100\n",
      "32207/32207 [==============================] - 0s 9us/step - loss: 0.7675 - acc: 0.5032 - val_loss: 0.7626 - val_acc: 0.5048\n",
      "Epoch 9/100\n",
      "32207/32207 [==============================] - 0s 9us/step - loss: 0.7604 - acc: 0.5027 - val_loss: 0.7563 - val_acc: 0.5061\n",
      "Epoch 10/100\n",
      "32207/32207 [==============================] - 0s 9us/step - loss: 0.7545 - acc: 0.5025 - val_loss: 0.7514 - val_acc: 0.5037\n",
      "Epoch 11/100\n",
      "32207/32207 [==============================] - 0s 9us/step - loss: 0.7496 - acc: 0.5035 - val_loss: 0.7470 - val_acc: 0.5045\n",
      "Epoch 12/100\n",
      "32207/32207 [==============================] - 0s 10us/step - loss: 0.7455 - acc: 0.5039 - val_loss: 0.7430 - val_acc: 0.5077\n",
      "Epoch 13/100\n",
      "32207/32207 [==============================] - 0s 9us/step - loss: 0.7418 - acc: 0.5033 - val_loss: 0.7399 - val_acc: 0.5061\n",
      "Epoch 14/100\n",
      "32207/32207 [==============================] - 0s 9us/step - loss: 0.7386 - acc: 0.5047 - val_loss: 0.7366 - val_acc: 0.5099\n",
      "Epoch 15/100\n",
      "32207/32207 [==============================] - 0s 10us/step - loss: 0.7358 - acc: 0.5016 - val_loss: 0.7340 - val_acc: 0.5098\n",
      "Epoch 16/100\n",
      "32207/32207 [==============================] - 0s 9us/step - loss: 0.7333 - acc: 0.5046 - val_loss: 0.7319 - val_acc: 0.5076\n",
      "Epoch 17/100\n",
      "32207/32207 [==============================] - 0s 10us/step - loss: 0.7310 - acc: 0.5024 - val_loss: 0.7301 - val_acc: 0.5068\n",
      "Epoch 18/100\n",
      "32207/32207 [==============================] - 0s 10us/step - loss: 0.7290 - acc: 0.5045 - val_loss: 0.7280 - val_acc: 0.5065\n",
      "Epoch 19/100\n",
      "32207/32207 [==============================] - 0s 9us/step - loss: 0.7272 - acc: 0.5048 - val_loss: 0.7264 - val_acc: 0.5068\n",
      "Epoch 20/100\n",
      "32207/32207 [==============================] - 0s 9us/step - loss: 0.7255 - acc: 0.5054 - val_loss: 0.7247 - val_acc: 0.5062\n",
      "Epoch 21/100\n",
      "32207/32207 [==============================] - 0s 10us/step - loss: 0.7239 - acc: 0.5051 - val_loss: 0.7234 - val_acc: 0.5056\n",
      "Epoch 22/100\n",
      "32207/32207 [==============================] - 0s 9us/step - loss: 0.7225 - acc: 0.5047 - val_loss: 0.7220 - val_acc: 0.5053\n",
      "Epoch 23/100\n",
      "32207/32207 [==============================] - 0s 9us/step - loss: 0.7213 - acc: 0.5075 - val_loss: 0.7211 - val_acc: 0.5050\n",
      "Epoch 24/100\n",
      "32207/32207 [==============================] - 0s 9us/step - loss: 0.7201 - acc: 0.5050 - val_loss: 0.7198 - val_acc: 0.5055\n",
      "Epoch 25/100\n",
      "32207/32207 [==============================] - 0s 9us/step - loss: 0.7190 - acc: 0.5066 - val_loss: 0.7185 - val_acc: 0.5113\n",
      "Epoch 26/100\n",
      "32207/32207 [==============================] - 0s 9us/step - loss: 0.7180 - acc: 0.5066 - val_loss: 0.7176 - val_acc: 0.5055\n",
      "Epoch 27/100\n",
      "32207/32207 [==============================] - 0s 9us/step - loss: 0.7170 - acc: 0.5080 - val_loss: 0.7175 - val_acc: 0.5029\n",
      "Epoch 28/100\n",
      "32207/32207 [==============================] - 0s 9us/step - loss: 0.7162 - acc: 0.5083 - val_loss: 0.7161 - val_acc: 0.5027\n",
      "Epoch 29/100\n",
      "32207/32207 [==============================] - 0s 9us/step - loss: 0.7153 - acc: 0.5087 - val_loss: 0.7156 - val_acc: 0.5032\n",
      "Epoch 30/100\n",
      "32207/32207 [==============================] - 0s 9us/step - loss: 0.7146 - acc: 0.5093 - val_loss: 0.7146 - val_acc: 0.5081\n",
      "Epoch 31/100\n",
      "32207/32207 [==============================] - 0s 9us/step - loss: 0.7139 - acc: 0.5090 - val_loss: 0.7142 - val_acc: 0.5025\n",
      "Epoch 32/100\n",
      "32207/32207 [==============================] - 0s 9us/step - loss: 0.7132 - acc: 0.5100 - val_loss: 0.7134 - val_acc: 0.5011\n",
      "Epoch 33/100\n",
      "32207/32207 [==============================] - 0s 9us/step - loss: 0.7126 - acc: 0.5078 - val_loss: 0.7133 - val_acc: 0.4991\n",
      "Epoch 34/100\n",
      "32207/32207 [==============================] - 0s 10us/step - loss: 0.7120 - acc: 0.5110 - val_loss: 0.7122 - val_acc: 0.5037\n",
      "Epoch 35/100\n",
      "32207/32207 [==============================] - 0s 9us/step - loss: 0.7114 - acc: 0.5102 - val_loss: 0.7117 - val_acc: 0.5096\n",
      "Epoch 36/100\n",
      "32207/32207 [==============================] - 0s 9us/step - loss: 0.7109 - acc: 0.5095 - val_loss: 0.7112 - val_acc: 0.5087\n",
      "Epoch 37/100\n",
      "32207/32207 [==============================] - 0s 9us/step - loss: 0.7105 - acc: 0.5088 - val_loss: 0.7110 - val_acc: 0.4991\n",
      "Epoch 38/100\n",
      "32207/32207 [==============================] - 0s 9us/step - loss: 0.7100 - acc: 0.5104 - val_loss: 0.7107 - val_acc: 0.4986\n",
      "Epoch 39/100\n",
      "32207/32207 [==============================] - 0s 9us/step - loss: 0.7095 - acc: 0.5098 - val_loss: 0.7101 - val_acc: 0.5045\n",
      "Epoch 40/100\n",
      "32207/32207 [==============================] - 0s 9us/step - loss: 0.7090 - acc: 0.5115 - val_loss: 0.7096 - val_acc: 0.5029\n",
      "Epoch 41/100\n",
      "32207/32207 [==============================] - 0s 9us/step - loss: 0.7086 - acc: 0.5113 - val_loss: 0.7091 - val_acc: 0.5086\n",
      "Epoch 42/100\n",
      "32207/32207 [==============================] - 0s 9us/step - loss: 0.7083 - acc: 0.5118 - val_loss: 0.7089 - val_acc: 0.5053\n",
      "Epoch 43/100\n",
      "32207/32207 [==============================] - 0s 9us/step - loss: 0.7079 - acc: 0.5091 - val_loss: 0.7088 - val_acc: 0.4998\n",
      "Epoch 44/100\n",
      "32207/32207 [==============================] - 0s 9us/step - loss: 0.7075 - acc: 0.5096 - val_loss: 0.7083 - val_acc: 0.4998\n",
      "Epoch 45/100\n",
      "32207/32207 [==============================] - 0s 9us/step - loss: 0.7072 - acc: 0.5124 - val_loss: 0.7080 - val_acc: 0.5002\n",
      "Epoch 46/100\n",
      "32207/32207 [==============================] - 0s 9us/step - loss: 0.7069 - acc: 0.5094 - val_loss: 0.7076 - val_acc: 0.5031\n",
      "Epoch 47/100\n",
      "32207/32207 [==============================] - 0s 9us/step - loss: 0.7066 - acc: 0.5090 - val_loss: 0.7073 - val_acc: 0.5043\n",
      "Epoch 48/100\n",
      "32207/32207 [==============================] - 0s 9us/step - loss: 0.7063 - acc: 0.5092 - val_loss: 0.7072 - val_acc: 0.5004\n",
      "Epoch 49/100\n",
      "32207/32207 [==============================] - 0s 9us/step - loss: 0.7060 - acc: 0.5077 - val_loss: 0.7067 - val_acc: 0.5006\n",
      "Epoch 50/100\n",
      "32207/32207 [==============================] - 0s 9us/step - loss: 0.7057 - acc: 0.5095 - val_loss: 0.7065 - val_acc: 0.5007\n",
      "Epoch 51/100\n",
      "32207/32207 [==============================] - 0s 9us/step - loss: 0.7054 - acc: 0.5091 - val_loss: 0.7062 - val_acc: 0.5014\n",
      "Epoch 52/100\n",
      "32207/32207 [==============================] - 0s 9us/step - loss: 0.7051 - acc: 0.5090 - val_loss: 0.7061 - val_acc: 0.5020\n",
      "Epoch 53/100\n",
      "32207/32207 [==============================] - 0s 9us/step - loss: 0.7049 - acc: 0.5088 - val_loss: 0.7061 - val_acc: 0.5005\n",
      "Epoch 54/100\n",
      "32207/32207 [==============================] - 0s 9us/step - loss: 0.7046 - acc: 0.5095 - val_loss: 0.7060 - val_acc: 0.5016\n",
      "Epoch 55/100\n",
      "32207/32207 [==============================] - 0s 9us/step - loss: 0.7045 - acc: 0.5092 - val_loss: 0.7055 - val_acc: 0.5043\n",
      "Epoch 56/100\n",
      "32207/32207 [==============================] - 0s 10us/step - loss: 0.7041 - acc: 0.5105 - val_loss: 0.7053 - val_acc: 0.5056\n",
      "Epoch 57/100\n",
      "32207/32207 [==============================] - 0s 9us/step - loss: 0.7039 - acc: 0.5118 - val_loss: 0.7056 - val_acc: 0.5060\n",
      "Epoch 58/100\n",
      "32207/32207 [==============================] - 0s 9us/step - loss: 0.7038 - acc: 0.5107 - val_loss: 0.7047 - val_acc: 0.5014\n",
      "Epoch 59/100\n",
      "32207/32207 [==============================] - 0s 9us/step - loss: 0.7035 - acc: 0.5118 - val_loss: 0.7046 - val_acc: 0.5062\n",
      "Epoch 60/100\n",
      "32207/32207 [==============================] - 0s 9us/step - loss: 0.7033 - acc: 0.5108 - val_loss: 0.7046 - val_acc: 0.5012\n",
      "Epoch 61/100\n",
      "32207/32207 [==============================] - 0s 9us/step - loss: 0.7032 - acc: 0.5099 - val_loss: 0.7045 - val_acc: 0.5067\n",
      "Epoch 62/100\n",
      "32207/32207 [==============================] - 0s 9us/step - loss: 0.7030 - acc: 0.5067 - val_loss: 0.7044 - val_acc: 0.5017\n",
      "Epoch 63/100\n",
      "32207/32207 [==============================] - 0s 9us/step - loss: 0.7028 - acc: 0.5132 - val_loss: 0.7039 - val_acc: 0.5053\n",
      "Epoch 64/100\n",
      "32207/32207 [==============================] - 0s 9us/step - loss: 0.7025 - acc: 0.5117 - val_loss: 0.7048 - val_acc: 0.5016\n",
      "Epoch 65/100\n",
      "32207/32207 [==============================] - 0s 9us/step - loss: 0.7024 - acc: 0.5116 - val_loss: 0.7042 - val_acc: 0.5010\n",
      "Epoch 66/100\n",
      "32207/32207 [==============================] - 0s 9us/step - loss: 0.7023 - acc: 0.5107 - val_loss: 0.7034 - val_acc: 0.5051\n",
      "Epoch 67/100\n",
      "32207/32207 [==============================] - 0s 9us/step - loss: 0.7021 - acc: 0.5092 - val_loss: 0.7035 - val_acc: 0.5019\n",
      "Epoch 68/100\n",
      "32207/32207 [==============================] - 0s 9us/step - loss: 0.7019 - acc: 0.5094 - val_loss: 0.7042 - val_acc: 0.5002\n",
      "Epoch 69/100\n",
      "32207/32207 [==============================] - 0s 9us/step - loss: 0.7018 - acc: 0.5095 - val_loss: 0.7027 - val_acc: 0.5046\n",
      "Epoch 70/100\n",
      "32207/32207 [==============================] - 0s 9us/step - loss: 0.7016 - acc: 0.5090 - val_loss: 0.7028 - val_acc: 0.5010\n",
      "Epoch 71/100\n",
      "32207/32207 [==============================] - 0s 9us/step - loss: 0.7014 - acc: 0.5072 - val_loss: 0.7025 - val_acc: 0.4994\n",
      "Epoch 72/100\n",
      "32207/32207 [==============================] - 0s 9us/step - loss: 0.7013 - acc: 0.5087 - val_loss: 0.7027 - val_acc: 0.5014\n",
      "Epoch 73/100\n",
      "32207/32207 [==============================] - 0s 9us/step - loss: 0.7012 - acc: 0.5077 - val_loss: 0.7024 - val_acc: 0.5048\n",
      "Epoch 74/100\n",
      "32207/32207 [==============================] - 0s 9us/step - loss: 0.7010 - acc: 0.5078 - val_loss: 0.7022 - val_acc: 0.5010\n",
      "Epoch 75/100\n",
      "32207/32207 [==============================] - 0s 9us/step - loss: 0.7009 - acc: 0.5108 - val_loss: 0.7021 - val_acc: 0.5072\n",
      "Epoch 76/100\n",
      "32207/32207 [==============================] - 0s 9us/step - loss: 0.7007 - acc: 0.5098 - val_loss: 0.7024 - val_acc: 0.5002\n",
      "Epoch 77/100\n",
      "32207/32207 [==============================] - 0s 9us/step - loss: 0.7006 - acc: 0.5099 - val_loss: 0.7018 - val_acc: 0.5032\n",
      "Epoch 78/100\n",
      "32207/32207 [==============================] - 0s 9us/step - loss: 0.7005 - acc: 0.5121 - val_loss: 0.7023 - val_acc: 0.5010\n",
      "Epoch 79/100\n",
      "32207/32207 [==============================] - 0s 9us/step - loss: 0.7004 - acc: 0.5115 - val_loss: 0.7015 - val_acc: 0.5050\n",
      "Epoch 80/100\n",
      "32207/32207 [==============================] - 0s 9us/step - loss: 0.7003 - acc: 0.5089 - val_loss: 0.7016 - val_acc: 0.5068\n",
      "Epoch 81/100\n",
      "32207/32207 [==============================] - 0s 9us/step - loss: 0.7001 - acc: 0.5109 - val_loss: 0.7012 - val_acc: 0.5024\n",
      "Epoch 82/100\n",
      "32207/32207 [==============================] - 0s 9us/step - loss: 0.7000 - acc: 0.5090 - val_loss: 0.7013 - val_acc: 0.5042\n",
      "Epoch 83/100\n",
      "32207/32207 [==============================] - 0s 9us/step - loss: 0.6998 - acc: 0.5087 - val_loss: 0.7012 - val_acc: 0.5043\n",
      "Epoch 84/100\n",
      "32207/32207 [==============================] - 0s 9us/step - loss: 0.6998 - acc: 0.5077 - val_loss: 0.7011 - val_acc: 0.5038\n",
      "Epoch 85/100\n",
      "32207/32207 [==============================] - 0s 9us/step - loss: 0.6997 - acc: 0.5091 - val_loss: 0.7012 - val_acc: 0.4998\n",
      "Epoch 86/100\n",
      "32207/32207 [==============================] - 0s 9us/step - loss: 0.6997 - acc: 0.5097 - val_loss: 0.7011 - val_acc: 0.5007\n",
      "Epoch 87/100\n",
      "32207/32207 [==============================] - 0s 9us/step - loss: 0.6995 - acc: 0.5081 - val_loss: 0.7009 - val_acc: 0.5035\n",
      "Epoch 88/100\n",
      "32207/32207 [==============================] - 0s 9us/step - loss: 0.6994 - acc: 0.5095 - val_loss: 0.7010 - val_acc: 0.5020\n",
      "Epoch 89/100\n",
      "32207/32207 [==============================] - 0s 9us/step - loss: 0.6993 - acc: 0.5095 - val_loss: 0.7011 - val_acc: 0.5002\n",
      "Epoch 90/100\n",
      "32207/32207 [==============================] - 0s 9us/step - loss: 0.6992 - acc: 0.5116 - val_loss: 0.7006 - val_acc: 0.5035\n",
      "Epoch 91/100\n",
      "32207/32207 [==============================] - 0s 9us/step - loss: 0.6990 - acc: 0.5112 - val_loss: 0.7002 - val_acc: 0.5047\n",
      "Epoch 92/100\n",
      "32207/32207 [==============================] - 0s 10us/step - loss: 0.6990 - acc: 0.5089 - val_loss: 0.7002 - val_acc: 0.5022\n",
      "Epoch 93/100\n",
      "32207/32207 [==============================] - 0s 10us/step - loss: 0.6989 - acc: 0.5088 - val_loss: 0.7004 - val_acc: 0.5014\n",
      "Epoch 94/100\n",
      "32207/32207 [==============================] - 0s 9us/step - loss: 0.6988 - acc: 0.5122 - val_loss: 0.7011 - val_acc: 0.5010\n",
      "Epoch 95/100\n",
      "32207/32207 [==============================] - 0s 9us/step - loss: 0.6988 - acc: 0.5120 - val_loss: 0.7001 - val_acc: 0.5006\n",
      "Epoch 96/100\n",
      "32207/32207 [==============================] - 0s 9us/step - loss: 0.6986 - acc: 0.5111 - val_loss: 0.7003 - val_acc: 0.5000\n",
      "Epoch 97/100\n",
      "32207/32207 [==============================] - 0s 9us/step - loss: 0.6985 - acc: 0.5090 - val_loss: 0.7003 - val_acc: 0.5040\n",
      "Epoch 98/100\n",
      "32207/32207 [==============================] - 0s 9us/step - loss: 0.6985 - acc: 0.5083 - val_loss: 0.7005 - val_acc: 0.5009\n",
      "Epoch 99/100\n",
      "32207/32207 [==============================] - 0s 9us/step - loss: 0.6984 - acc: 0.5104 - val_loss: 0.6997 - val_acc: 0.5006\n",
      "Epoch 100/100\n",
      "32207/32207 [==============================] - 0s 9us/step - loss: 0.6983 - acc: 0.5119 - val_loss: 0.6994 - val_acc: 0.5046\n",
      "10064/10064 [==============================] - 0s 12us/step\n",
      "Test score: 0.699700666156217\n",
      "Test accuracy: 0.5051669316375199\n"
     ]
    }
   ],
   "source": [
    "history = model.fit(X_train, Y_train,batch_size=BATCH_SIZE, epochs=NB_EPOCH,verbose=VERBOSE, validation_split=VALIDATION_SPLIT)\n",
    "score = model.evaluate(X_test, Y_test, verbose=VERBOSE)\n",
    "print(\"Test score:\", score[0])\n",
    "print('Test accuracy:', score[1])"
   ]
  },
  {
   "cell_type": "code",
   "execution_count": 131,
   "metadata": {
    "collapsed": false
   },
   "outputs": [],
   "source": [
    "p=np.argmax(model.predict(array([i for i in range(-200,400)])/400),axis=1)"
   ]
  },
  {
   "cell_type": "code",
   "execution_count": 135,
   "metadata": {
    "collapsed": false
   },
   "outputs": [
    {
     "data": {
      "text/plain": [
       "array([ 0.10665334,  0.86729212,  0.08719257, ...,  0.81862982,\n",
       "       -0.20350243,  0.83585012])"
      ]
     },
     "execution_count": 135,
     "metadata": {},
     "output_type": "execute_result"
    }
   ],
   "source": [
    "X_test"
   ]
  },
  {
   "cell_type": "code",
   "execution_count": 133,
   "metadata": {
    "collapsed": false
   },
   "outputs": [
    {
     "data": {
      "text/plain": [
       "[(-200, 1),\n",
       " (-199, 1),\n",
       " (-198, 1),\n",
       " (-197, 1),\n",
       " (-196, 1),\n",
       " (-195, 1),\n",
       " (-194, 1),\n",
       " (-193, 1),\n",
       " (-192, 1),\n",
       " (-191, 1),\n",
       " (-190, 1),\n",
       " (-189, 1),\n",
       " (-188, 1),\n",
       " (-187, 1),\n",
       " (-186, 1),\n",
       " (-185, 1),\n",
       " (-184, 1),\n",
       " (-183, 1),\n",
       " (-182, 1),\n",
       " (-181, 1),\n",
       " (-180, 1),\n",
       " (-179, 1),\n",
       " (-178, 1),\n",
       " (-177, 1),\n",
       " (-176, 1),\n",
       " (-175, 1),\n",
       " (-174, 1),\n",
       " (-173, 1),\n",
       " (-172, 1),\n",
       " (-171, 1),\n",
       " (-170, 1),\n",
       " (-169, 1),\n",
       " (-168, 1),\n",
       " (-167, 1),\n",
       " (-166, 1),\n",
       " (-165, 1),\n",
       " (-164, 1),\n",
       " (-163, 1),\n",
       " (-162, 1),\n",
       " (-161, 1),\n",
       " (-160, 1),\n",
       " (-159, 1),\n",
       " (-158, 1),\n",
       " (-157, 1),\n",
       " (-156, 1),\n",
       " (-155, 1),\n",
       " (-154, 1),\n",
       " (-153, 1),\n",
       " (-152, 1),\n",
       " (-151, 1),\n",
       " (-150, 1),\n",
       " (-149, 1),\n",
       " (-148, 1),\n",
       " (-147, 1),\n",
       " (-146, 1),\n",
       " (-145, 1),\n",
       " (-144, 1),\n",
       " (-143, 1),\n",
       " (-142, 1),\n",
       " (-141, 1),\n",
       " (-140, 1),\n",
       " (-139, 1),\n",
       " (-138, 1),\n",
       " (-137, 1),\n",
       " (-136, 1),\n",
       " (-135, 1),\n",
       " (-134, 1),\n",
       " (-133, 1),\n",
       " (-132, 1),\n",
       " (-131, 1),\n",
       " (-130, 1),\n",
       " (-129, 1),\n",
       " (-128, 1),\n",
       " (-127, 1),\n",
       " (-126, 1),\n",
       " (-125, 1),\n",
       " (-124, 1),\n",
       " (-123, 1),\n",
       " (-122, 1),\n",
       " (-121, 1),\n",
       " (-120, 1),\n",
       " (-119, 1),\n",
       " (-118, 1),\n",
       " (-117, 1),\n",
       " (-116, 1),\n",
       " (-115, 1),\n",
       " (-114, 1),\n",
       " (-113, 1),\n",
       " (-112, 1),\n",
       " (-111, 1),\n",
       " (-110, 1),\n",
       " (-109, 1),\n",
       " (-108, 1),\n",
       " (-107, 1),\n",
       " (-106, 1),\n",
       " (-105, 1),\n",
       " (-104, 1),\n",
       " (-103, 1),\n",
       " (-102, 1),\n",
       " (-101, 1),\n",
       " (-100, 1),\n",
       " (-99, 1),\n",
       " (-98, 1),\n",
       " (-97, 1),\n",
       " (-96, 1),\n",
       " (-95, 1),\n",
       " (-94, 1),\n",
       " (-93, 1),\n",
       " (-92, 1),\n",
       " (-91, 1),\n",
       " (-90, 1),\n",
       " (-89, 1),\n",
       " (-88, 1),\n",
       " (-87, 1),\n",
       " (-86, 1),\n",
       " (-85, 1),\n",
       " (-84, 1),\n",
       " (-83, 1),\n",
       " (-82, 1),\n",
       " (-81, 1),\n",
       " (-80, 1),\n",
       " (-79, 1),\n",
       " (-78, 1),\n",
       " (-77, 1),\n",
       " (-76, 1),\n",
       " (-75, 1),\n",
       " (-74, 1),\n",
       " (-73, 1),\n",
       " (-72, 1),\n",
       " (-71, 1),\n",
       " (-70, 1),\n",
       " (-69, 1),\n",
       " (-68, 1),\n",
       " (-67, 1),\n",
       " (-66, 1),\n",
       " (-65, 1),\n",
       " (-64, 1),\n",
       " (-63, 1),\n",
       " (-62, 1),\n",
       " (-61, 1),\n",
       " (-60, 1),\n",
       " (-59, 1),\n",
       " (-58, 1),\n",
       " (-57, 1),\n",
       " (-56, 1),\n",
       " (-55, 1),\n",
       " (-54, 1),\n",
       " (-53, 1),\n",
       " (-52, 1),\n",
       " (-51, 1),\n",
       " (-50, 1),\n",
       " (-49, 1),\n",
       " (-48, 1),\n",
       " (-47, 1),\n",
       " (-46, 1),\n",
       " (-45, 1),\n",
       " (-44, 1),\n",
       " (-43, 1),\n",
       " (-42, 1),\n",
       " (-41, 1),\n",
       " (-40, 1),\n",
       " (-39, 1),\n",
       " (-38, 1),\n",
       " (-37, 1),\n",
       " (-36, 1),\n",
       " (-35, 1),\n",
       " (-34, 1),\n",
       " (-33, 1),\n",
       " (-32, 1),\n",
       " (-31, 1),\n",
       " (-30, 1),\n",
       " (-29, 1),\n",
       " (-28, 1),\n",
       " (-27, 1),\n",
       " (-26, 1),\n",
       " (-25, 1),\n",
       " (-24, 1),\n",
       " (-23, 1),\n",
       " (-22, 1),\n",
       " (-21, 1),\n",
       " (-20, 1),\n",
       " (-19, 1),\n",
       " (-18, 1),\n",
       " (-17, 1),\n",
       " (-16, 1),\n",
       " (-15, 1),\n",
       " (-14, 1),\n",
       " (-13, 1),\n",
       " (-12, 1),\n",
       " (-11, 1),\n",
       " (-10, 1),\n",
       " (-9, 1),\n",
       " (-8, 1),\n",
       " (-7, 0),\n",
       " (-6, 0),\n",
       " (-5, 0),\n",
       " (-4, 0),\n",
       " (-3, 0),\n",
       " (-2, 0),\n",
       " (-1, 0),\n",
       " (0, 0),\n",
       " (1, 0),\n",
       " (2, 0),\n",
       " (3, 0),\n",
       " (4, 0),\n",
       " (5, 0),\n",
       " (6, 0),\n",
       " (7, 0),\n",
       " (8, 0),\n",
       " (9, 0),\n",
       " (10, 0),\n",
       " (11, 0),\n",
       " (12, 0),\n",
       " (13, 0),\n",
       " (14, 0),\n",
       " (15, 0),\n",
       " (16, 0),\n",
       " (17, 0),\n",
       " (18, 0),\n",
       " (19, 0),\n",
       " (20, 0),\n",
       " (21, 0),\n",
       " (22, 0),\n",
       " (23, 0),\n",
       " (24, 0),\n",
       " (25, 0),\n",
       " (26, 0),\n",
       " (27, 0),\n",
       " (28, 0),\n",
       " (29, 0),\n",
       " (30, 0),\n",
       " (31, 0),\n",
       " (32, 0),\n",
       " (33, 0),\n",
       " (34, 0),\n",
       " (35, 0),\n",
       " (36, 0),\n",
       " (37, 0),\n",
       " (38, 0),\n",
       " (39, 0),\n",
       " (40, 0),\n",
       " (41, 0),\n",
       " (42, 0),\n",
       " (43, 0),\n",
       " (44, 0),\n",
       " (45, 0),\n",
       " (46, 0),\n",
       " (47, 0),\n",
       " (48, 0),\n",
       " (49, 0),\n",
       " (50, 0),\n",
       " (51, 0),\n",
       " (52, 0),\n",
       " (53, 0),\n",
       " (54, 0),\n",
       " (55, 0),\n",
       " (56, 0),\n",
       " (57, 0),\n",
       " (58, 0),\n",
       " (59, 0),\n",
       " (60, 0),\n",
       " (61, 0),\n",
       " (62, 0),\n",
       " (63, 0),\n",
       " (64, 0),\n",
       " (65, 0),\n",
       " (66, 0),\n",
       " (67, 0),\n",
       " (68, 0),\n",
       " (69, 0),\n",
       " (70, 0),\n",
       " (71, 0),\n",
       " (72, 0),\n",
       " (73, 0),\n",
       " (74, 0),\n",
       " (75, 0),\n",
       " (76, 0),\n",
       " (77, 0),\n",
       " (78, 0),\n",
       " (79, 0),\n",
       " (80, 0),\n",
       " (81, 0),\n",
       " (82, 0),\n",
       " (83, 0),\n",
       " (84, 0),\n",
       " (85, 0),\n",
       " (86, 0),\n",
       " (87, 0),\n",
       " (88, 0),\n",
       " (89, 0),\n",
       " (90, 0),\n",
       " (91, 0),\n",
       " (92, 1),\n",
       " (93, 1),\n",
       " (94, 1),\n",
       " (95, 1),\n",
       " (96, 1),\n",
       " (97, 1),\n",
       " (98, 1),\n",
       " (99, 1),\n",
       " (100, 1),\n",
       " (101, 1),\n",
       " (102, 1),\n",
       " (103, 1),\n",
       " (104, 1),\n",
       " (105, 1),\n",
       " (106, 1),\n",
       " (107, 1),\n",
       " (108, 1),\n",
       " (109, 1),\n",
       " (110, 1),\n",
       " (111, 1),\n",
       " (112, 1),\n",
       " (113, 1),\n",
       " (114, 1),\n",
       " (115, 1),\n",
       " (116, 1),\n",
       " (117, 1),\n",
       " (118, 1),\n",
       " (119, 1),\n",
       " (120, 1),\n",
       " (121, 1),\n",
       " (122, 1),\n",
       " (123, 1),\n",
       " (124, 1),\n",
       " (125, 1),\n",
       " (126, 1),\n",
       " (127, 1),\n",
       " (128, 1),\n",
       " (129, 1),\n",
       " (130, 1),\n",
       " (131, 1),\n",
       " (132, 1),\n",
       " (133, 1),\n",
       " (134, 1),\n",
       " (135, 1),\n",
       " (136, 1),\n",
       " (137, 1),\n",
       " (138, 1),\n",
       " (139, 1),\n",
       " (140, 1),\n",
       " (141, 1),\n",
       " (142, 1),\n",
       " (143, 1),\n",
       " (144, 1),\n",
       " (145, 1),\n",
       " (146, 1),\n",
       " (147, 1),\n",
       " (148, 1),\n",
       " (149, 1),\n",
       " (150, 2),\n",
       " (151, 2),\n",
       " (152, 2),\n",
       " (153, 2),\n",
       " (154, 2),\n",
       " (155, 2),\n",
       " (156, 2),\n",
       " (157, 2),\n",
       " (158, 2),\n",
       " (159, 2),\n",
       " (160, 2),\n",
       " (161, 2),\n",
       " (162, 2),\n",
       " (163, 2),\n",
       " (164, 2),\n",
       " (165, 2),\n",
       " (166, 2),\n",
       " (167, 2),\n",
       " (168, 2),\n",
       " (169, 2),\n",
       " (170, 2),\n",
       " (171, 2),\n",
       " (172, 2),\n",
       " (173, 2),\n",
       " (174, 2),\n",
       " (175, 2),\n",
       " (176, 2),\n",
       " (177, 2),\n",
       " (178, 2),\n",
       " (179, 2),\n",
       " (180, 2),\n",
       " (181, 2),\n",
       " (182, 2),\n",
       " (183, 2),\n",
       " (184, 2),\n",
       " (185, 2),\n",
       " (186, 2),\n",
       " (187, 2),\n",
       " (188, 2),\n",
       " (189, 2),\n",
       " (190, 2),\n",
       " (191, 2),\n",
       " (192, 2),\n",
       " (193, 2),\n",
       " (194, 2),\n",
       " (195, 2),\n",
       " (196, 2),\n",
       " (197, 2),\n",
       " (198, 2),\n",
       " (199, 2),\n",
       " (200, 2),\n",
       " (201, 2),\n",
       " (202, 2),\n",
       " (203, 2),\n",
       " (204, 2),\n",
       " (205, 2),\n",
       " (206, 2),\n",
       " (207, 2),\n",
       " (208, 2),\n",
       " (209, 2),\n",
       " (210, 2),\n",
       " (211, 2),\n",
       " (212, 2),\n",
       " (213, 2),\n",
       " (214, 2),\n",
       " (215, 2),\n",
       " (216, 2),\n",
       " (217, 2),\n",
       " (218, 2),\n",
       " (219, 2),\n",
       " (220, 2),\n",
       " (221, 2),\n",
       " (222, 2),\n",
       " (223, 2),\n",
       " (224, 2),\n",
       " (225, 2),\n",
       " (226, 2),\n",
       " (227, 2),\n",
       " (228, 2),\n",
       " (229, 2),\n",
       " (230, 2),\n",
       " (231, 2),\n",
       " (232, 2),\n",
       " (233, 2),\n",
       " (234, 2),\n",
       " (235, 2),\n",
       " (236, 2),\n",
       " (237, 2),\n",
       " (238, 2),\n",
       " (239, 2),\n",
       " (240, 2),\n",
       " (241, 2),\n",
       " (242, 2),\n",
       " (243, 2),\n",
       " (244, 2),\n",
       " (245, 2),\n",
       " (246, 2),\n",
       " (247, 2),\n",
       " (248, 2),\n",
       " (249, 2),\n",
       " (250, 2),\n",
       " (251, 2),\n",
       " (252, 2),\n",
       " (253, 2),\n",
       " (254, 2),\n",
       " (255, 1),\n",
       " (256, 1),\n",
       " (257, 1),\n",
       " (258, 1),\n",
       " (259, 1),\n",
       " (260, 1),\n",
       " (261, 1),\n",
       " (262, 1),\n",
       " (263, 1),\n",
       " (264, 1),\n",
       " (265, 1),\n",
       " (266, 1),\n",
       " (267, 1),\n",
       " (268, 1),\n",
       " (269, 1),\n",
       " (270, 1),\n",
       " (271, 1),\n",
       " (272, 1),\n",
       " (273, 1),\n",
       " (274, 1),\n",
       " (275, 1),\n",
       " (276, 1),\n",
       " (277, 1),\n",
       " (278, 1),\n",
       " (279, 1),\n",
       " (280, 1),\n",
       " (281, 1),\n",
       " (282, 1),\n",
       " (283, 1),\n",
       " (284, 1),\n",
       " (285, 1),\n",
       " (286, 1),\n",
       " (287, 1),\n",
       " (288, 1),\n",
       " (289, 1),\n",
       " (290, 1),\n",
       " (291, 1),\n",
       " (292, 1),\n",
       " (293, 1),\n",
       " (294, 1),\n",
       " (295, 1),\n",
       " (296, 1),\n",
       " (297, 1),\n",
       " (298, 1),\n",
       " (299, 1),\n",
       " (300, 1),\n",
       " (301, 1),\n",
       " (302, 1),\n",
       " (303, 1),\n",
       " (304, 1),\n",
       " (305, 1),\n",
       " (306, 1),\n",
       " (307, 1),\n",
       " (308, 1),\n",
       " (309, 1),\n",
       " (310, 1),\n",
       " (311, 1),\n",
       " (312, 1),\n",
       " (313, 1),\n",
       " (314, 1),\n",
       " (315, 1),\n",
       " (316, 1),\n",
       " (317, 1),\n",
       " (318, 1),\n",
       " (319, 1),\n",
       " (320, 1),\n",
       " (321, 1),\n",
       " (322, 1),\n",
       " (323, 1),\n",
       " (324, 1),\n",
       " (325, 1),\n",
       " (326, 1),\n",
       " (327, 1),\n",
       " (328, 1),\n",
       " (329, 1),\n",
       " (330, 1),\n",
       " (331, 1),\n",
       " (332, 1),\n",
       " (333, 1),\n",
       " (334, 1),\n",
       " (335, 1),\n",
       " (336, 1),\n",
       " (337, 1),\n",
       " (338, 1),\n",
       " (339, 1),\n",
       " (340, 1),\n",
       " (341, 1),\n",
       " (342, 1),\n",
       " (343, 1),\n",
       " (344, 1),\n",
       " (345, 1),\n",
       " (346, 1),\n",
       " (347, 1),\n",
       " (348, 1),\n",
       " (349, 1),\n",
       " (350, 1),\n",
       " (351, 1),\n",
       " (352, 1),\n",
       " (353, 1),\n",
       " (354, 1),\n",
       " (355, 1),\n",
       " (356, 1),\n",
       " (357, 1),\n",
       " (358, 1),\n",
       " (359, 1),\n",
       " (360, 1),\n",
       " (361, 1),\n",
       " (362, 1),\n",
       " (363, 1),\n",
       " (364, 1),\n",
       " (365, 1),\n",
       " (366, 1),\n",
       " (367, 1),\n",
       " (368, 1),\n",
       " (369, 1),\n",
       " (370, 1),\n",
       " (371, 1),\n",
       " (372, 1),\n",
       " (373, 1),\n",
       " (374, 1),\n",
       " (375, 1),\n",
       " (376, 1),\n",
       " (377, 1),\n",
       " (378, 1),\n",
       " (379, 1),\n",
       " (380, 1),\n",
       " (381, 1),\n",
       " (382, 1),\n",
       " (383, 1),\n",
       " (384, 1),\n",
       " (385, 1),\n",
       " (386, 1),\n",
       " (387, 1),\n",
       " (388, 1),\n",
       " (389, 1),\n",
       " (390, 1),\n",
       " (391, 1),\n",
       " (392, 1),\n",
       " (393, 1),\n",
       " (394, 1),\n",
       " (395, 1),\n",
       " (396, 1),\n",
       " (397, 1),\n",
       " (398, 1),\n",
       " (399, 1)]"
      ]
     },
     "execution_count": 133,
     "metadata": {},
     "output_type": "execute_result"
    }
   ],
   "source": [
    "[(i-200,p[i]) for i in range(len(p))]"
   ]
  },
  {
   "cell_type": "code",
   "execution_count": 146,
   "metadata": {
    "collapsed": false
   },
   "outputs": [
    {
     "name": "stdout",
     "output_type": "stream",
     "text": [
      "[[1542 1016    0]\n",
      " [1722 1047 2236]\n",
      " [   0  390 2111]]\n"
     ]
    },
    {
     "name": "stderr",
     "output_type": "stream",
     "text": [
      "C:\\Users\\u1273400\\AppData\\Local\\Continuum\\Anaconda3\\lib\\site-packages\\sklearn\\preprocessing\\label.py:166: DeprecationWarning: The truth value of an empty array is ambiguous. Returning False, but in future this will result in an error. Use `array.size > 0` to check that an array is not empty.\n",
      "  if diff:\n"
     ]
    }
   ],
   "source": [
    "import xgboost as xgb\n",
    "import numpy as np\n",
    "#from sklearn.model_selection import KFold, train_test_split, GridSearchCV\n",
    "\n",
    "y_train = array(train_set['AlarmChgStr'])#.reshape(-1,1)\n",
    "X_train = array(train_set['PV_ProcessVariable']).reshape(-1,1)\n",
    "X_test = array(test_set['PV_ProcessVariable']).reshape(-1,1)\n",
    "y_test = array(test_set['AlarmChgStr'])#.reshape(-1,1)\n",
    "#kf = KFold(n_splits=2, shuffle=True, random_state=rng)\n",
    "#for train_index, test_index in kf.split(X):\n",
    "#    xgb_model = xgb.XGBClassifier().fit(X[train_index], y[train_index])\n",
    "#    predictions = xgb_model.predict(X[test_index])\n",
    "#    actuals = y[test_index]\n",
    "#    print(confusion_matrix(actuals, predictions))\n",
    "xgb_model = xgb.XGBClassifier().fit(X_train, y_train)\n",
    "predictions = xgb_model.predict(X_test)\n",
    "print(confusion_matrix(y_test, predictions))"
   ]
  },
  {
   "cell_type": "code",
   "execution_count": 149,
   "metadata": {
    "collapsed": false
   },
   "outputs": [
    {
     "name": "stderr",
     "output_type": "stream",
     "text": [
      "C:\\Users\\u1273400\\AppData\\Local\\Continuum\\Anaconda3\\lib\\site-packages\\sklearn\\preprocessing\\label.py:166: DeprecationWarning: The truth value of an empty array is ambiguous. Returning False, but in future this will result in an error. Use `array.size > 0` to check that an array is not empty.\n",
      "  if diff:\n"
     ]
    },
    {
     "data": {
      "text/plain": [
       "array(['HIGH      ', 'HIGH      ', 'HIGH      ', 'HIGH      ',\n",
       "       'HIGH      ', 'HIGH      ', 'HIGH      ', 'HIGH      ',\n",
       "       'HIGH      ', 'HIGH      ', 'HIGH      ', 'HIGH      ',\n",
       "       'HIGH      ', 'HIGH      ', 'HIGH      ', 'HIGH      ',\n",
       "       'HIGH      ', 'HIGH      ', 'HIGH      ', 'HIGH      ',\n",
       "       'HIGH      ', 'HIGH      ', 'HIGH      ', 'HIGH      ',\n",
       "       'HIGH      ', 'HIGH      ', 'HIGH      ', 'HIGH      ',\n",
       "       'CLEAR     ', 'CLEAR     ', 'CLEAR     ', 'CLEAR     ',\n",
       "       'CLEAR     ', 'CLEAR     ', 'CLEAR     ', 'CLEAR     ',\n",
       "       'CLEAR     ', 'CLEAR     ', 'CLEAR     ', 'CLEAR     ',\n",
       "       'CLEAR     ', 'CLEAR     ', 'CLEAR     ', 'HIGH      ',\n",
       "       'HIGH      ', 'HIGH      ', 'HIGH      ', 'HIGH      ',\n",
       "       'HIGH      ', 'HIGH      ', 'HIGH      ', 'HIGH      ',\n",
       "       'HIGH      ', 'HIGH      ', 'HIGH      ', 'HIGH      ',\n",
       "       'HIGH      ', 'HIGH      ', 'HIGH      ', 'HIGH      ',\n",
       "       'HIGH      ', 'HIGH      ', 'HIGH      ', 'HIGH      ',\n",
       "       'HIGH      ', 'HIGH      ', 'HIGH      ', 'CLEAR     ',\n",
       "       'CLEAR     ', 'CLEAR     ', 'CLEAR     ', 'HIGH      ',\n",
       "       'HIGH      ', 'CLEAR     ', 'CLEAR     ', 'CLEAR     ',\n",
       "       'CLEAR     ', 'CLEAR     ', 'CLEAR     ', 'CLEAR     ',\n",
       "       'CLEAR     ', 'CLEAR     ', 'CLEAR     ', 'CLEAR     ',\n",
       "       'HIGH      ', 'HIGH      ', 'HIGH      ', 'HIGH      ',\n",
       "       'HIGH      ', 'HIGH      ', 'HIGH      ', 'HIGH      ',\n",
       "       'HIGH      ', 'HIGH      ', 'HIGH      ', 'HIGH      ',\n",
       "       'HIGH      ', 'HIGH      ', 'HIGH      ', 'HIGH      ',\n",
       "       'HIGH      ', 'HIGH      ', 'HIGH      ', 'HIGH      ',\n",
       "       'HIGH      ', 'HIGH      ', 'HIGH      ', 'HIGH      ',\n",
       "       'HIGH      ', 'HIGH      ', 'HIGH      ', 'HIGH      ',\n",
       "       'HIGH      ', 'HIGH      ', 'HIGH      ', 'HIGH      ',\n",
       "       'HIGH      ', 'HIGH      ', 'HIGH      ', 'HIGH      ',\n",
       "       'HIGH      ', 'HIGH      ', 'HIGH      ', 'HIGH      ',\n",
       "       'HIGH      ', 'HIGH      ', 'HIGH      ', 'HIGH      ',\n",
       "       'HIGH      ', 'HIGH      ', 'HIGH      ', 'HIGH      ',\n",
       "       'HIGH      ', 'HIGH      ', 'HIGH      ', 'HIGH      ',\n",
       "       'HIGH      ', 'HIGH      ', 'HIGH      ', 'HIGH      ',\n",
       "       'HIGH      ', 'HIGH      ', 'HIGH      ', 'HIGH      ',\n",
       "       'HIGH      ', 'HIGH      ', 'HIGH      ', 'HIGH      ',\n",
       "       'HIGH      ', 'HIGH      ', 'HIGH      ', 'HIGH      ',\n",
       "       'HIGH      ', 'HIGH      ', 'HIGH      ', 'CLEAR     ',\n",
       "       'HIGH      ', 'CLEAR     ', 'CLEAR     ', 'CLEAR     ',\n",
       "       'CLEAR     ', 'CLEAR     ', 'CLEAR     ', 'CLEAR     ',\n",
       "       'CLEAR     ', 'CLEAR     ', 'CLEAR     ', 'CLEAR     ',\n",
       "       'CLEAR     ', 'CLEAR     ', 'CLEAR     ', 'CLEAR     ',\n",
       "       'CLEAR     ', 'CLEAR     ', 'CLEAR     ', 'CLEAR     ',\n",
       "       'CLEAR     ', 'CLEAR     ', 'CLEAR     ', 'CLEAR     ',\n",
       "       'CLEAR     ', 'CLEAR     ', 'CLEAR     ', 'CLEAR     ',\n",
       "       'CLEAR     ', 'CLEAR     ', 'CLEAR     ', 'CLEAR     ',\n",
       "       'CLEAR     ', 'CLEAR     ', 'CLEAR     ', 'CLEAR     ',\n",
       "       'CLEAR     ', 'CLEAR     ', 'CLEAR     ', 'CLEAR     ',\n",
       "       'CLEAR     ', 'CLEAR     ', 'CLEAR     ', 'CLEAR     ',\n",
       "       'CLEAR     ', 'CLEAR     ', 'CLEAR     ', 'CLEAR     ',\n",
       "       'CLEAR     ', 'CLEAR     ', 'CLEAR     ', 'CLEAR     ',\n",
       "       'CLEAR     ', 'CLEAR     ', 'CLEAR     ', 'CLEAR     ',\n",
       "       'CLEAR     ', 'CLEAR     ', 'CLEAR     ', 'CLEAR     ',\n",
       "       'CLEAR     ', 'CLEAR     ', 'CLEAR     ', 'CLEAR     ',\n",
       "       'CLEAR     ', 'CLEAR     ', 'CLEAR     ', 'CLEAR     ',\n",
       "       'CLEAR     ', 'CLEAR     ', 'CLEAR     ', 'CLEAR     ',\n",
       "       'CLEAR     ', 'CLEAR     ', 'CLEAR     ', 'CLEAR     ',\n",
       "       'CLEAR     ', 'CLEAR     ', 'CLEAR     ', 'CLEAR     ',\n",
       "       'CLEAR     ', 'CLEAR     ', 'CLEAR     ', 'CLEAR     ',\n",
       "       'CLEAR     ', 'CLEAR     ', 'CLEAR     ', 'CLEAR     ',\n",
       "       'CLEAR     ', 'CLEAR     ', 'CLEAR     ', 'CLEAR     ',\n",
       "       'CLEAR     ', 'CLEAR     ', 'CLEAR     ', 'CLEAR     ',\n",
       "       'CLEAR     ', 'CLEAR     ', 'CLEAR     ', 'CLEAR     ',\n",
       "       'CLEAR     ', 'CLEAR     ', 'CLEAR     ', 'CLEAR     ',\n",
       "       'CLEAR     ', 'CLEAR     ', 'CLEAR     ', 'CLEAR     ',\n",
       "       'CLEAR     ', 'CLEAR     ', 'CLEAR     ', 'CLEAR     ',\n",
       "       'CLEAR     ', 'CLEAR     ', 'CLEAR     ', 'CLEAR     ',\n",
       "       'CLEAR     ', 'CLEAR     ', 'CLEAR     ', 'CLEAR     ',\n",
       "       'CLEAR     ', 'CLEAR     ', 'CLEAR     ', 'CLEAR     ',\n",
       "       'CLEAR     ', 'CLEAR     ', 'CLEAR     ', 'CLEAR     ',\n",
       "       'CLEAR     ', 'CLEAR     ', 'CLEAR     ', 'CLEAR     ',\n",
       "       'CLEAR     ', 'CLEAR     ', 'CLEAR     ', 'CLEAR     ',\n",
       "       'CLEAR     ', 'CLEAR     ', 'CLEAR     ', 'CLEAR     ',\n",
       "       'CLEAR     ', 'CLEAR     ', 'CLEAR     ', 'CLEAR     ',\n",
       "       'CLEAR     ', 'CLEAR     ', 'CLEAR     ', 'CLEAR     ',\n",
       "       'CLEAR     ', 'CLEAR     ', 'HIGH      ', 'HIGH      ',\n",
       "       'HIGH      ', 'HIGH      ', 'HIGH      ', 'HIGH      ',\n",
       "       'HIGH      ', 'CLEAR     ', 'CLEAR     ', 'CLEAR     ',\n",
       "       'HIGH      ', 'HIGH      ', 'HIGH      ', 'HIGH      ',\n",
       "       'HIGH      ', 'HIGH      ', 'HIGH      ', 'HIGH      ',\n",
       "       'HIGH      ', 'HIGH      ', 'HIGH      ', 'VHIGH     ',\n",
       "       'VHIGH     ', 'VHIGH     ', 'HIGH      ', 'VHIGH     ',\n",
       "       'HIGH      ', 'HIGH      ', 'HIGH      ', 'HIGH      ',\n",
       "       'HIGH      ', 'HIGH      ', 'HIGH      ', 'HIGH      ',\n",
       "       'HIGH      ', 'HIGH      ', 'HIGH      ', 'HIGH      ',\n",
       "       'VHIGH     ', 'VHIGH     ', 'VHIGH     ', 'VHIGH     ',\n",
       "       'VHIGH     ', 'VHIGH     ', 'VHIGH     ', 'VHIGH     ',\n",
       "       'VHIGH     ', 'VHIGH     ', 'VHIGH     ', 'VHIGH     ',\n",
       "       'VHIGH     ', 'VHIGH     ', 'VHIGH     ', 'VHIGH     ',\n",
       "       'VHIGH     ', 'VHIGH     ', 'VHIGH     ', 'VHIGH     ',\n",
       "       'VHIGH     ', 'VHIGH     ', 'VHIGH     ', 'VHIGH     ',\n",
       "       'VHIGH     ', 'VHIGH     ', 'VHIGH     ', 'VHIGH     ',\n",
       "       'VHIGH     ', 'VHIGH     ', 'HIGH      ', 'VHIGH     ',\n",
       "       'VHIGH     ', 'VHIGH     ', 'VHIGH     ', 'VHIGH     ',\n",
       "       'VHIGH     ', 'VHIGH     ', 'VHIGH     ', 'VHIGH     ',\n",
       "       'VHIGH     ', 'VHIGH     ', 'VHIGH     ', 'VHIGH     ',\n",
       "       'VHIGH     ', 'VHIGH     ', 'VHIGH     ', 'VHIGH     ',\n",
       "       'VHIGH     ', 'VHIGH     ', 'VHIGH     ', 'VHIGH     ',\n",
       "       'VHIGH     ', 'VHIGH     ', 'VHIGH     ', 'VHIGH     ',\n",
       "       'VHIGH     ', 'VHIGH     ', 'VHIGH     ', 'VHIGH     ',\n",
       "       'VHIGH     ', 'VHIGH     ', 'VHIGH     ', 'VHIGH     ',\n",
       "       'VHIGH     ', 'VHIGH     ', 'VHIGH     ', 'VHIGH     ',\n",
       "       'VHIGH     ', 'VHIGH     ', 'VHIGH     ', 'VHIGH     ',\n",
       "       'VHIGH     ', 'VHIGH     ', 'VHIGH     ', 'VHIGH     ',\n",
       "       'VHIGH     ', 'VHIGH     ', 'VHIGH     ', 'VHIGH     ',\n",
       "       'VHIGH     ', 'VHIGH     ', 'VHIGH     ', 'VHIGH     ',\n",
       "       'VHIGH     ', 'VHIGH     ', 'VHIGH     ', 'VHIGH     ',\n",
       "       'VHIGH     ', 'VHIGH     ', 'VHIGH     ', 'VHIGH     ',\n",
       "       'VHIGH     ', 'VHIGH     ', 'VHIGH     ', 'VHIGH     ',\n",
       "       'VHIGH     ', 'VHIGH     ', 'VHIGH     ', 'VHIGH     ',\n",
       "       'VHIGH     ', 'VHIGH     ', 'VHIGH     ', 'VHIGH     ',\n",
       "       'VHIGH     ', 'VHIGH     ', 'VHIGH     ', 'VHIGH     ',\n",
       "       'VHIGH     ', 'VHIGH     ', 'VHIGH     ', 'HIGH      ',\n",
       "       'VHIGH     ', 'VHIGH     ', 'VHIGH     ', 'VHIGH     ',\n",
       "       'VHIGH     ', 'VHIGH     ', 'VHIGH     ', 'VHIGH     ',\n",
       "       'VHIGH     ', 'VHIGH     ', 'VHIGH     ', 'VHIGH     ',\n",
       "       'VHIGH     ', 'VHIGH     ', 'VHIGH     ', 'VHIGH     ',\n",
       "       'VHIGH     ', 'VHIGH     ', 'VHIGH     ', 'VHIGH     ',\n",
       "       'VHIGH     ', 'VHIGH     ', 'VHIGH     ', 'VHIGH     ',\n",
       "       'VHIGH     ', 'VHIGH     ', 'VHIGH     ', 'VHIGH     ',\n",
       "       'VHIGH     ', 'VHIGH     ', 'VHIGH     ', 'VHIGH     ',\n",
       "       'VHIGH     ', 'VHIGH     ', 'VHIGH     ', 'VHIGH     ',\n",
       "       'VHIGH     ', 'VHIGH     ', 'VHIGH     ', 'VHIGH     ',\n",
       "       'VHIGH     ', 'VHIGH     ', 'HIGH      ', 'HIGH      ',\n",
       "       'VHIGH     ', 'VHIGH     ', 'VHIGH     ', 'VHIGH     ',\n",
       "       'VHIGH     ', 'VHIGH     ', 'VHIGH     ', 'VHIGH     ',\n",
       "       'VHIGH     ', 'VHIGH     ', 'VHIGH     ', 'VHIGH     ',\n",
       "       'VHIGH     ', 'VHIGH     ', 'VHIGH     ', 'VHIGH     ',\n",
       "       'VHIGH     ', 'VHIGH     ', 'VHIGH     ', 'VHIGH     ',\n",
       "       'VHIGH     ', 'VHIGH     ', 'VHIGH     ', 'VHIGH     ',\n",
       "       'VHIGH     ', 'VHIGH     ', 'VHIGH     ', 'VHIGH     ',\n",
       "       'VHIGH     ', 'VHIGH     ', 'VHIGH     ', 'VHIGH     ',\n",
       "       'VHIGH     ', 'VHIGH     ', 'VHIGH     ', 'VHIGH     ',\n",
       "       'VHIGH     ', 'VHIGH     ', 'VHIGH     ', 'VHIGH     ',\n",
       "       'VHIGH     ', 'VHIGH     ', 'VHIGH     ', 'VHIGH     ',\n",
       "       'VHIGH     ', 'VHIGH     ', 'VHIGH     ', 'VHIGH     ',\n",
       "       'VHIGH     ', 'VHIGH     ', 'VHIGH     ', 'VHIGH     ',\n",
       "       'VHIGH     ', 'VHIGH     ', 'VHIGH     ', 'VHIGH     ',\n",
       "       'VHIGH     ', 'VHIGH     ', 'VHIGH     ', 'HIGH      ',\n",
       "       'HIGH      ', 'HIGH      ', 'HIGH      ', 'HIGH      ',\n",
       "       'HIGH      ', 'HIGH      ', 'HIGH      ', 'HIGH      ',\n",
       "       'VHIGH     ', 'VHIGH     ', 'VHIGH     ', 'VHIGH     ',\n",
       "       'VHIGH     ', 'VHIGH     ', 'VHIGH     ', 'VHIGH     ',\n",
       "       'VHIGH     ', 'VHIGH     ', 'VHIGH     ', 'VHIGH     ',\n",
       "       'VHIGH     ', 'VHIGH     ', 'VHIGH     ', 'VHIGH     ',\n",
       "       'VHIGH     ', 'VHIGH     ', 'VHIGH     ', 'VHIGH     ',\n",
       "       'VHIGH     ', 'HIGH      ', 'VHIGH     ', 'HIGH      ',\n",
       "       'HIGH      ', 'HIGH      ', 'HIGH      ', 'HIGH      ',\n",
       "       'VHIGH     ', 'HIGH      ', 'HIGH      ', 'VHIGH     '],\n",
       "      dtype=object)"
      ]
     },
     "execution_count": 149,
     "metadata": {},
     "output_type": "execute_result"
    }
   ],
   "source": [
    "xgb_model.predict(array([i for i in range(-200,400)]).reshape(-1,1))"
   ]
  },
  {
   "cell_type": "raw",
   "metadata": {},
   "source": [
    "from sklearn.svm import SVR\n",
    "\n",
    "svm_reg = SVR(kernel=\"linear\")\n",
    "svm_reg.fit(housing_prepared, housing_labels)\n",
    "housing_predictions = svm_reg.predict(housing_prepared)\n",
    "svm_mse = mean_squared_error(housing_labels, housing_predictions)\n",
    "svm_rmse = np.sqrt(svm_mse)\n",
    "svm_rmse"
   ]
  },
  {
   "cell_type": "code",
   "execution_count": 151,
   "metadata": {
    "collapsed": false
   },
   "outputs": [
    {
     "data": {
      "text/plain": [
       "SVC(C=100, cache_size=200, class_weight=None, coef0=0.0,\n",
       "  decision_function_shape=None, degree=3, gamma=0.001, kernel='rbf',\n",
       "  max_iter=-1, probability=False, random_state=None, shrinking=True,\n",
       "  tol=0.001, verbose=False)"
      ]
     },
     "execution_count": 151,
     "metadata": {},
     "output_type": "execute_result"
    }
   ],
   "source": [
    "from sklearn import svm\n",
    "clf=svm.SVC(gamma=0.001,C=100)\n",
    "clf.fit(X_train, y_train)"
   ]
  },
  {
   "cell_type": "code",
   "execution_count": 152,
   "metadata": {
    "collapsed": false
   },
   "outputs": [
    {
     "data": {
      "text/plain": [
       "array(['HIGH      ', 'HIGH      ', 'HIGH      ', 'HIGH      ',\n",
       "       'HIGH      ', 'HIGH      ', 'HIGH      ', 'HIGH      ',\n",
       "       'HIGH      ', 'HIGH      ', 'HIGH      ', 'HIGH      ',\n",
       "       'HIGH      ', 'HIGH      ', 'HIGH      ', 'HIGH      ',\n",
       "       'HIGH      ', 'HIGH      ', 'HIGH      ', 'HIGH      ',\n",
       "       'HIGH      ', 'HIGH      ', 'HIGH      ', 'HIGH      ',\n",
       "       'HIGH      ', 'HIGH      ', 'HIGH      ', 'HIGH      ',\n",
       "       'HIGH      ', 'HIGH      ', 'CLEAR     ', 'CLEAR     ',\n",
       "       'CLEAR     ', 'CLEAR     ', 'CLEAR     ', 'CLEAR     ',\n",
       "       'CLEAR     ', 'CLEAR     ', 'CLEAR     ', 'CLEAR     ',\n",
       "       'CLEAR     ', 'CLEAR     ', 'CLEAR     ', 'CLEAR     ',\n",
       "       'CLEAR     ', 'CLEAR     ', 'CLEAR     ', 'CLEAR     ',\n",
       "       'CLEAR     ', 'CLEAR     ', 'CLEAR     ', 'HIGH      ',\n",
       "       'HIGH      ', 'HIGH      ', 'HIGH      ', 'HIGH      ',\n",
       "       'HIGH      ', 'HIGH      ', 'HIGH      ', 'HIGH      ',\n",
       "       'HIGH      ', 'HIGH      ', 'HIGH      ', 'HIGH      ',\n",
       "       'HIGH      ', 'HIGH      ', 'HIGH      ', 'HIGH      ',\n",
       "       'HIGH      ', 'HIGH      ', 'HIGH      ', 'HIGH      ',\n",
       "       'HIGH      ', 'CLEAR     ', 'CLEAR     ', 'CLEAR     ',\n",
       "       'CLEAR     ', 'CLEAR     ', 'CLEAR     ', 'CLEAR     ',\n",
       "       'CLEAR     ', 'CLEAR     ', 'CLEAR     ', 'CLEAR     ',\n",
       "       'CLEAR     ', 'CLEAR     ', 'CLEAR     ', 'CLEAR     ',\n",
       "       'CLEAR     ', 'CLEAR     ', 'CLEAR     ', 'CLEAR     ',\n",
       "       'CLEAR     ', 'CLEAR     ', 'CLEAR     ', 'CLEAR     ',\n",
       "       'CLEAR     ', 'CLEAR     ', 'CLEAR     ', 'CLEAR     ',\n",
       "       'CLEAR     ', 'CLEAR     ', 'CLEAR     ', 'CLEAR     ',\n",
       "       'CLEAR     ', 'CLEAR     ', 'HIGH      ', 'HIGH      ',\n",
       "       'HIGH      ', 'HIGH      ', 'HIGH      ', 'HIGH      ',\n",
       "       'HIGH      ', 'HIGH      ', 'HIGH      ', 'HIGH      ',\n",
       "       'HIGH      ', 'HIGH      ', 'HIGH      ', 'HIGH      ',\n",
       "       'HIGH      ', 'HIGH      ', 'HIGH      ', 'HIGH      ',\n",
       "       'HIGH      ', 'HIGH      ', 'HIGH      ', 'HIGH      ',\n",
       "       'HIGH      ', 'HIGH      ', 'HIGH      ', 'HIGH      ',\n",
       "       'HIGH      ', 'HIGH      ', 'HIGH      ', 'HIGH      ',\n",
       "       'HIGH      ', 'HIGH      ', 'HIGH      ', 'HIGH      ',\n",
       "       'HIGH      ', 'HIGH      ', 'HIGH      ', 'HIGH      ',\n",
       "       'HIGH      ', 'HIGH      ', 'HIGH      ', 'HIGH      ',\n",
       "       'HIGH      ', 'HIGH      ', 'HIGH      ', 'HIGH      ',\n",
       "       'HIGH      ', 'HIGH      ', 'HIGH      ', 'HIGH      ',\n",
       "       'HIGH      ', 'CLEAR     ', 'CLEAR     ', 'CLEAR     ',\n",
       "       'CLEAR     ', 'CLEAR     ', 'CLEAR     ', 'CLEAR     ',\n",
       "       'CLEAR     ', 'CLEAR     ', 'CLEAR     ', 'CLEAR     ',\n",
       "       'CLEAR     ', 'CLEAR     ', 'CLEAR     ', 'CLEAR     ',\n",
       "       'CLEAR     ', 'CLEAR     ', 'CLEAR     ', 'CLEAR     ',\n",
       "       'CLEAR     ', 'CLEAR     ', 'CLEAR     ', 'CLEAR     ',\n",
       "       'CLEAR     ', 'CLEAR     ', 'CLEAR     ', 'CLEAR     ',\n",
       "       'CLEAR     ', 'CLEAR     ', 'CLEAR     ', 'CLEAR     ',\n",
       "       'CLEAR     ', 'CLEAR     ', 'CLEAR     ', 'CLEAR     ',\n",
       "       'CLEAR     ', 'CLEAR     ', 'CLEAR     ', 'CLEAR     ',\n",
       "       'CLEAR     ', 'CLEAR     ', 'CLEAR     ', 'CLEAR     ',\n",
       "       'CLEAR     ', 'CLEAR     ', 'CLEAR     ', 'CLEAR     ',\n",
       "       'CLEAR     ', 'CLEAR     ', 'CLEAR     ', 'CLEAR     ',\n",
       "       'CLEAR     ', 'CLEAR     ', 'CLEAR     ', 'CLEAR     ',\n",
       "       'CLEAR     ', 'CLEAR     ', 'CLEAR     ', 'CLEAR     ',\n",
       "       'CLEAR     ', 'CLEAR     ', 'CLEAR     ', 'CLEAR     ',\n",
       "       'CLEAR     ', 'CLEAR     ', 'CLEAR     ', 'CLEAR     ',\n",
       "       'CLEAR     ', 'CLEAR     ', 'CLEAR     ', 'CLEAR     ',\n",
       "       'CLEAR     ', 'CLEAR     ', 'CLEAR     ', 'CLEAR     ',\n",
       "       'CLEAR     ', 'CLEAR     ', 'CLEAR     ', 'CLEAR     ',\n",
       "       'CLEAR     ', 'CLEAR     ', 'CLEAR     ', 'CLEAR     ',\n",
       "       'CLEAR     ', 'CLEAR     ', 'CLEAR     ', 'CLEAR     ',\n",
       "       'CLEAR     ', 'CLEAR     ', 'CLEAR     ', 'CLEAR     ',\n",
       "       'CLEAR     ', 'CLEAR     ', 'CLEAR     ', 'CLEAR     ',\n",
       "       'CLEAR     ', 'CLEAR     ', 'CLEAR     ', 'CLEAR     ',\n",
       "       'CLEAR     ', 'CLEAR     ', 'CLEAR     ', 'CLEAR     ',\n",
       "       'CLEAR     ', 'CLEAR     ', 'CLEAR     ', 'CLEAR     ',\n",
       "       'CLEAR     ', 'CLEAR     ', 'CLEAR     ', 'CLEAR     ',\n",
       "       'CLEAR     ', 'CLEAR     ', 'CLEAR     ', 'CLEAR     ',\n",
       "       'CLEAR     ', 'CLEAR     ', 'CLEAR     ', 'CLEAR     ',\n",
       "       'CLEAR     ', 'CLEAR     ', 'CLEAR     ', 'CLEAR     ',\n",
       "       'CLEAR     ', 'CLEAR     ', 'CLEAR     ', 'CLEAR     ',\n",
       "       'CLEAR     ', 'CLEAR     ', 'CLEAR     ', 'CLEAR     ',\n",
       "       'CLEAR     ', 'CLEAR     ', 'CLEAR     ', 'CLEAR     ',\n",
       "       'CLEAR     ', 'CLEAR     ', 'CLEAR     ', 'CLEAR     ',\n",
       "       'CLEAR     ', 'CLEAR     ', 'CLEAR     ', 'CLEAR     ',\n",
       "       'CLEAR     ', 'CLEAR     ', 'CLEAR     ', 'CLEAR     ',\n",
       "       'CLEAR     ', 'CLEAR     ', 'CLEAR     ', 'CLEAR     ',\n",
       "       'CLEAR     ', 'CLEAR     ', 'CLEAR     ', 'CLEAR     ',\n",
       "       'HIGH      ', 'HIGH      ', 'HIGH      ', 'HIGH      ',\n",
       "       'HIGH      ', 'HIGH      ', 'HIGH      ', 'HIGH      ',\n",
       "       'HIGH      ', 'HIGH      ', 'HIGH      ', 'HIGH      ',\n",
       "       'HIGH      ', 'HIGH      ', 'HIGH      ', 'HIGH      ',\n",
       "       'HIGH      ', 'HIGH      ', 'HIGH      ', 'HIGH      ',\n",
       "       'HIGH      ', 'HIGH      ', 'HIGH      ', 'HIGH      ',\n",
       "       'HIGH      ', 'HIGH      ', 'HIGH      ', 'HIGH      ',\n",
       "       'HIGH      ', 'HIGH      ', 'HIGH      ', 'HIGH      ',\n",
       "       'HIGH      ', 'HIGH      ', 'HIGH      ', 'HIGH      ',\n",
       "       'HIGH      ', 'HIGH      ', 'VHIGH     ', 'VHIGH     ',\n",
       "       'VHIGH     ', 'VHIGH     ', 'VHIGH     ', 'VHIGH     ',\n",
       "       'VHIGH     ', 'VHIGH     ', 'VHIGH     ', 'VHIGH     ',\n",
       "       'VHIGH     ', 'VHIGH     ', 'VHIGH     ', 'VHIGH     ',\n",
       "       'VHIGH     ', 'VHIGH     ', 'VHIGH     ', 'VHIGH     ',\n",
       "       'VHIGH     ', 'VHIGH     ', 'VHIGH     ', 'VHIGH     ',\n",
       "       'VHIGH     ', 'VHIGH     ', 'VHIGH     ', 'VHIGH     ',\n",
       "       'VHIGH     ', 'VHIGH     ', 'VHIGH     ', 'VHIGH     ',\n",
       "       'VHIGH     ', 'VHIGH     ', 'VHIGH     ', 'VHIGH     ',\n",
       "       'VHIGH     ', 'VHIGH     ', 'VHIGH     ', 'VHIGH     ',\n",
       "       'VHIGH     ', 'VHIGH     ', 'VHIGH     ', 'VHIGH     ',\n",
       "       'VHIGH     ', 'VHIGH     ', 'VHIGH     ', 'VHIGH     ',\n",
       "       'VHIGH     ', 'VHIGH     ', 'VHIGH     ', 'VHIGH     ',\n",
       "       'VHIGH     ', 'VHIGH     ', 'VHIGH     ', 'VHIGH     ',\n",
       "       'VHIGH     ', 'VHIGH     ', 'VHIGH     ', 'VHIGH     ',\n",
       "       'VHIGH     ', 'VHIGH     ', 'VHIGH     ', 'VHIGH     ',\n",
       "       'VHIGH     ', 'VHIGH     ', 'VHIGH     ', 'VHIGH     ',\n",
       "       'VHIGH     ', 'VHIGH     ', 'VHIGH     ', 'VHIGH     ',\n",
       "       'VHIGH     ', 'VHIGH     ', 'VHIGH     ', 'VHIGH     ',\n",
       "       'VHIGH     ', 'VHIGH     ', 'VHIGH     ', 'VHIGH     ',\n",
       "       'VHIGH     ', 'VHIGH     ', 'VHIGH     ', 'VHIGH     ',\n",
       "       'VHIGH     ', 'VHIGH     ', 'VHIGH     ', 'VHIGH     ',\n",
       "       'VHIGH     ', 'VHIGH     ', 'VHIGH     ', 'VHIGH     ',\n",
       "       'VHIGH     ', 'VHIGH     ', 'VHIGH     ', 'VHIGH     ',\n",
       "       'VHIGH     ', 'VHIGH     ', 'VHIGH     ', 'VHIGH     ',\n",
       "       'VHIGH     ', 'VHIGH     ', 'VHIGH     ', 'VHIGH     ',\n",
       "       'VHIGH     ', 'VHIGH     ', 'VHIGH     ', 'VHIGH     ',\n",
       "       'VHIGH     ', 'VHIGH     ', 'VHIGH     ', 'VHIGH     ',\n",
       "       'VHIGH     ', 'VHIGH     ', 'VHIGH     ', 'VHIGH     ',\n",
       "       'VHIGH     ', 'VHIGH     ', 'VHIGH     ', 'VHIGH     ',\n",
       "       'VHIGH     ', 'VHIGH     ', 'VHIGH     ', 'VHIGH     ',\n",
       "       'VHIGH     ', 'VHIGH     ', 'VHIGH     ', 'VHIGH     ',\n",
       "       'VHIGH     ', 'VHIGH     ', 'VHIGH     ', 'VHIGH     ',\n",
       "       'VHIGH     ', 'VHIGH     ', 'VHIGH     ', 'VHIGH     ',\n",
       "       'VHIGH     ', 'VHIGH     ', 'VHIGH     ', 'VHIGH     ',\n",
       "       'VHIGH     ', 'VHIGH     ', 'VHIGH     ', 'VHIGH     ',\n",
       "       'VHIGH     ', 'VHIGH     ', 'VHIGH     ', 'VHIGH     ',\n",
       "       'VHIGH     ', 'VHIGH     ', 'VHIGH     ', 'VHIGH     ',\n",
       "       'VHIGH     ', 'VHIGH     ', 'VHIGH     ', 'VHIGH     ',\n",
       "       'VHIGH     ', 'VHIGH     ', 'VHIGH     ', 'VHIGH     ',\n",
       "       'VHIGH     ', 'VHIGH     ', 'VHIGH     ', 'VHIGH     ',\n",
       "       'VHIGH     ', 'VHIGH     ', 'VHIGH     ', 'VHIGH     ',\n",
       "       'VHIGH     ', 'VHIGH     ', 'VHIGH     ', 'VHIGH     ',\n",
       "       'VHIGH     ', 'VHIGH     ', 'VHIGH     ', 'VHIGH     ',\n",
       "       'VHIGH     ', 'VHIGH     ', 'VHIGH     ', 'VHIGH     ',\n",
       "       'VHIGH     ', 'VHIGH     ', 'VHIGH     ', 'VHIGH     ',\n",
       "       'VHIGH     ', 'VHIGH     ', 'VHIGH     ', 'VHIGH     ',\n",
       "       'VHIGH     ', 'VHIGH     ', 'VHIGH     ', 'VHIGH     ',\n",
       "       'VHIGH     ', 'VHIGH     ', 'VHIGH     ', 'VHIGH     ',\n",
       "       'VHIGH     ', 'VHIGH     ', 'VHIGH     ', 'VHIGH     ',\n",
       "       'VHIGH     ', 'VHIGH     ', 'VHIGH     ', 'VHIGH     ',\n",
       "       'VHIGH     ', 'VHIGH     ', 'VHIGH     ', 'VHIGH     ',\n",
       "       'VHIGH     ', 'VHIGH     ', 'VHIGH     ', 'VHIGH     ',\n",
       "       'VHIGH     ', 'VHIGH     ', 'VHIGH     ', 'VHIGH     ',\n",
       "       'VHIGH     ', 'VHIGH     ', 'VHIGH     ', 'VHIGH     ',\n",
       "       'VHIGH     ', 'VHIGH     ', 'VHIGH     ', 'VHIGH     ',\n",
       "       'VHIGH     ', 'VHIGH     ', 'VHIGH     ', 'VHIGH     ',\n",
       "       'VHIGH     ', 'VHIGH     ', 'VHIGH     ', 'VHIGH     ',\n",
       "       'VHIGH     ', 'VHIGH     ', 'VHIGH     ', 'VHIGH     ',\n",
       "       'VHIGH     ', 'VHIGH     ', 'VHIGH     ', 'VHIGH     ',\n",
       "       'VHIGH     ', 'VHIGH     ', 'VHIGH     ', 'VHIGH     ',\n",
       "       'VHIGH     ', 'VHIGH     ', 'VHIGH     ', 'HIGH      ',\n",
       "       'HIGH      ', 'HIGH      ', 'HIGH      ', 'HIGH      '],\n",
       "      dtype=object)"
      ]
     },
     "execution_count": 152,
     "metadata": {},
     "output_type": "execute_result"
    }
   ],
   "source": [
    "clf.predict(array([i for i in range(-200,400)]).reshape(-1,1))"
   ]
  },
  {
   "cell_type": "code",
   "execution_count": 161,
   "metadata": {
    "collapsed": false
   },
   "outputs": [
    {
     "data": {
      "text/plain": [
       "[1, 2, 3, 4, 5, 6]"
      ]
     },
     "execution_count": 161,
     "metadata": {},
     "output_type": "execute_result"
    }
   ],
   "source": [
    "[1,2,3]+[4,5,6]"
   ]
  },
  {
   "cell_type": "code",
   "execution_count": 167,
   "metadata": {
    "collapsed": false
   },
   "outputs": [],
   "source": [
    "Y=['CLEAR']*400 + ['HIGH']*100 + ['VHIGH']*100"
   ]
  },
  {
   "cell_type": "code",
   "execution_count": 166,
   "metadata": {
    "collapsed": false
   },
   "outputs": [
    {
     "data": {
      "text/plain": [
       "600"
      ]
     },
     "execution_count": 166,
     "metadata": {},
     "output_type": "execute_result"
    }
   ],
   "source": []
  },
  {
   "cell_type": "code",
   "execution_count": 168,
   "metadata": {
    "collapsed": true
   },
   "outputs": [],
   "source": [
    "X=[i for i in range(-200,400)]"
   ]
  },
  {
   "cell_type": "code",
   "execution_count": 169,
   "metadata": {
    "collapsed": false
   },
   "outputs": [
    {
     "data": {
      "text/plain": [
       "600"
      ]
     },
     "execution_count": 169,
     "metadata": {},
     "output_type": "execute_result"
    }
   ],
   "source": [
    "len(X)"
   ]
  },
  {
   "cell_type": "code",
   "execution_count": 170,
   "metadata": {
    "collapsed": true
   },
   "outputs": [],
   "source": [
    "NY=Y*10000"
   ]
  },
  {
   "cell_type": "code",
   "execution_count": 173,
   "metadata": {
    "collapsed": false
   },
   "outputs": [],
   "source": [
    "NX=X*10000"
   ]
  },
  {
   "cell_type": "code",
   "execution_count": 181,
   "metadata": {
    "collapsed": false
   },
   "outputs": [],
   "source": [
    "v=pd.DataFrame({'data':NX,'labels':NY})"
   ]
  },
  {
   "cell_type": "code",
   "execution_count": 187,
   "metadata": {
    "collapsed": false
   },
   "outputs": [
    {
     "name": "stdout",
     "output_type": "stream",
     "text": [
      "4800000 train + 1200000 test\n"
     ]
    }
   ],
   "source": [
    "ntrain_set, ntest_set = split_train_test(v, 0.2)\n",
    "print(len(ntrain_set), \"train +\", len(ntest_set), \"test\")"
   ]
  },
  {
   "cell_type": "code",
   "execution_count": 190,
   "metadata": {
    "collapsed": false
   },
   "outputs": [],
   "source": [
    "NXT=array(ntrain_set['data']).reshape(-1,1)\n",
    "NX=array(ntest_set['data']).reshape(-1,1)\n",
    "NYT=array(ntrain_set['labels'])\n",
    "NY=array(ntest_set['labels'])"
   ]
  },
  {
   "cell_type": "code",
   "execution_count": null,
   "metadata": {
    "collapsed": true
   },
   "outputs": [],
   "source": [
    "clf.fit(NXT, NYT)\n",
    "clf.predict(array([i for i in range(-200,400)]).reshape(-1,1))"
   ]
  },
  {
   "cell_type": "code",
   "execution_count": null,
   "metadata": {
    "collapsed": true
   },
   "outputs": [],
   "source": []
  }
 ],
 "metadata": {
  "anaconda-cloud": {},
  "kernelspec": {
   "display_name": "Python 3",
   "language": "python",
   "name": "python3"
  },
  "language_info": {
   "codemirror_mode": {
    "name": "ipython",
    "version": 3
   },
   "file_extension": ".py",
   "mimetype": "text/x-python",
   "name": "python",
   "nbconvert_exporter": "python",
   "pygments_lexer": "ipython3",
   "version": "3.5.2"
  },
  "nav_menu": {
   "height": "279px",
   "width": "309px"
  },
  "toc": {
   "navigate_menu": true,
   "number_sections": true,
   "sideBar": true,
   "threshold": 6,
   "toc_cell": false,
   "toc_section_display": "block",
   "toc_window_display": false
  }
 },
 "nbformat": 4,
 "nbformat_minor": 1
}
