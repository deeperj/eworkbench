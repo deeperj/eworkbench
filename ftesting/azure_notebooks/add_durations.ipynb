{
 "cells": [
  {
   "cell_type": "code",
   "execution_count": 40,
   "metadata": {
    "collapsed": false
   },
   "outputs": [
    {
     "data": {
      "text/plain": [
       "['e01trn-valid.csv',\n",
       " 'e01trn-other.csv',\n",
       " 'e01tst-valid.csv',\n",
       " 'e01tst-other.csv',\n",
       " 'e01dev-other.csv',\n",
       " 'e01dev-valid.csv']"
      ]
     },
     "execution_count": 40,
     "metadata": {},
     "output_type": "execute_result"
    }
   ],
   "source": [
    "import pandas as pd\n",
    "import matplotlib as plt\n",
    "import numpy as np\n",
    "import os\n",
    "\n",
    "dp=[f for f in os.listdir('data/e/') if (f.startswith('e01t') or f.startswith('e01dev')) and f.endswith('csv')]\n",
    "dp"
   ]
  },
  {
   "cell_type": "code",
   "execution_count": 41,
   "metadata": {
    "collapsed": false
   },
   "outputs": [
    {
     "data": {
      "text/html": [
       "<div>\n",
       "<table border=\"1\" class=\"dataframe\">\n",
       "  <thead>\n",
       "    <tr style=\"text-align: right;\">\n",
       "      <th></th>\n",
       "      <th>Unnamed: 0</th>\n",
       "      <th>Unnamed: 0.1</th>\n",
       "      <th>filename</th>\n",
       "      <th>duration</th>\n",
       "      <th>transcript</th>\n",
       "      <th>up_votes</th>\n",
       "      <th>wav_filename</th>\n",
       "      <th>wav_filesize</th>\n",
       "    </tr>\n",
       "  </thead>\n",
       "  <tbody>\n",
       "    <tr>\n",
       "      <th>0</th>\n",
       "      <td>0</td>\n",
       "      <td>182715</td>\n",
       "      <td>cv-valid-train</td>\n",
       "      <td>4.824</td>\n",
       "      <td>the fine manufacturing company was a bookkeepe...</td>\n",
       "      <td>/home/john/src/data/dsd/cv_corpus_v1/</td>\n",
       "      <td>/home/john/src/data/dsd/cv_corpus_v1/cv-valid-...</td>\n",
       "      <td>463182</td>\n",
       "    </tr>\n",
       "    <tr>\n",
       "      <th>1</th>\n",
       "      <td>1</td>\n",
       "      <td>114956</td>\n",
       "      <td>cv-valid-train</td>\n",
       "      <td>5.544</td>\n",
       "      <td>the mixture took on a reddish color almost the...</td>\n",
       "      <td>/home/john/src/data/dsd/cv_corpus_v1/</td>\n",
       "      <td>/home/john/src/data/dsd/cv_corpus_v1/cv-valid-...</td>\n",
       "      <td>532302</td>\n",
       "    </tr>\n",
       "    <tr>\n",
       "      <th>2</th>\n",
       "      <td>2</td>\n",
       "      <td>139880</td>\n",
       "      <td>cv-valid-train</td>\n",
       "      <td>2.304</td>\n",
       "      <td>enough said the boy</td>\n",
       "      <td>/home/john/src/data/dsd/cv_corpus_v1/</td>\n",
       "      <td>/home/john/src/data/dsd/cv_corpus_v1/cv-valid-...</td>\n",
       "      <td>221262</td>\n",
       "    </tr>\n",
       "    <tr>\n",
       "      <th>3</th>\n",
       "      <td>3</td>\n",
       "      <td>34538</td>\n",
       "      <td>cv-valid-train</td>\n",
       "      <td>5.544</td>\n",
       "      <td>then he sat in the sunfilled doorway smoking t...</td>\n",
       "      <td>/home/john/src/data/dsd/cv_corpus_v1/</td>\n",
       "      <td>/home/john/src/data/dsd/cv_corpus_v1/cv-valid-...</td>\n",
       "      <td>532302</td>\n",
       "    </tr>\n",
       "    <tr>\n",
       "      <th>4</th>\n",
       "      <td>4</td>\n",
       "      <td>142907</td>\n",
       "      <td>cv-valid-train</td>\n",
       "      <td>3.600</td>\n",
       "      <td>i've just guaranteed the bank sufficient funds...</td>\n",
       "      <td>/home/john/src/data/dsd/cv_corpus_v1/</td>\n",
       "      <td>/home/john/src/data/dsd/cv_corpus_v1/cv-valid-...</td>\n",
       "      <td>345678</td>\n",
       "    </tr>\n",
       "  </tbody>\n",
       "</table>\n",
       "</div>"
      ],
      "text/plain": [
       "   Unnamed: 0  Unnamed: 0.1        filename  duration  \\\n",
       "0           0        182715  cv-valid-train     4.824   \n",
       "1           1        114956  cv-valid-train     5.544   \n",
       "2           2        139880  cv-valid-train     2.304   \n",
       "3           3         34538  cv-valid-train     5.544   \n",
       "4           4        142907  cv-valid-train     3.600   \n",
       "\n",
       "                                          transcript  \\\n",
       "0  the fine manufacturing company was a bookkeepe...   \n",
       "1  the mixture took on a reddish color almost the...   \n",
       "2                                enough said the boy   \n",
       "3  then he sat in the sunfilled doorway smoking t...   \n",
       "4  i've just guaranteed the bank sufficient funds...   \n",
       "\n",
       "                                up_votes  \\\n",
       "0  /home/john/src/data/dsd/cv_corpus_v1/   \n",
       "1  /home/john/src/data/dsd/cv_corpus_v1/   \n",
       "2  /home/john/src/data/dsd/cv_corpus_v1/   \n",
       "3  /home/john/src/data/dsd/cv_corpus_v1/   \n",
       "4  /home/john/src/data/dsd/cv_corpus_v1/   \n",
       "\n",
       "                                        wav_filename  wav_filesize  \n",
       "0  /home/john/src/data/dsd/cv_corpus_v1/cv-valid-...        463182  \n",
       "1  /home/john/src/data/dsd/cv_corpus_v1/cv-valid-...        532302  \n",
       "2  /home/john/src/data/dsd/cv_corpus_v1/cv-valid-...        221262  \n",
       "3  /home/john/src/data/dsd/cv_corpus_v1/cv-valid-...        532302  \n",
       "4  /home/john/src/data/dsd/cv_corpus_v1/cv-valid-...        345678  "
      ]
     },
     "execution_count": 41,
     "metadata": {},
     "output_type": "execute_result"
    }
   ],
   "source": [
    "def printnnl(string):\n",
    "    import sys\n",
    "    sys.stdout.write('\\r%s'%(string))\n",
    "    sys.stdout.flush()\n",
    "fn='data/e/'\n",
    "data=[pd.read_csv(fn+i) for i in dp]\n",
    "data[0].head()"
   ]
  },
  {
   "cell_type": "code",
   "execution_count": 42,
   "metadata": {
    "collapsed": false
   },
   "outputs": [
    {
     "name": "stdout",
     "output_type": "stream",
     "text": [
      "4.824\n"
     ]
    }
   ],
   "source": [
    "# sklearn.__all__\n",
    "import os\n",
    "import sox\n",
    "\n",
    "for i in range(len(data[0])):\n",
    "    print(sox.file_info.duration(data[0]['wav_filename'][i]))\n",
    "    break"
   ]
  },
  {
   "cell_type": "code",
   "execution_count": null,
   "metadata": {
    "collapsed": true
   },
   "outputs": [],
   "source": [
    "import sys,time\n",
    "def progress(count, total, status=''):\n",
    "    bar_len = 60\n",
    "    filled_len = int(round(bar_len * count / float(total)))\n",
    "\n",
    "    percents = round(100.0 * count / float(total), 1)\n",
    "    bar = '=' * filled_len + '-' * (bar_len - filled_len)\n",
    "\n",
    "    sys.stdout.write('[%s] %s%s ...%s\\r' % (bar, percents, '%', status))\n",
    "    sys.stdout.flush() \n",
    "\n",
    "class Progress:\n",
    "    \"\"\"Text mode progress bar.\n",
    "    Usage:\n",
    "            p = Progress(30)\n",
    "            p.step()\n",
    "            p.step()\n",
    "            p.step(start=True) # to restart form 0%\n",
    "    The progress bar displays a new header at each restart.\"\"\"\n",
    "    def __init__(self, maxi, size=100, msg=\"\"):\n",
    "        \"\"\"\n",
    "        :param maxi: the number of steps required to reach 100%\n",
    "        :param size: the number of characters taken on the screen by the progress bar\n",
    "        :param msg: the message displayed in the header of the progress bat\n",
    "        \"\"\"\n",
    "        self.maxi = maxi\n",
    "        self.p = self.__start_progress(maxi)()  # () to get the iterator from the generator\n",
    "        self.header_printed = False\n",
    "        self.msg = msg\n",
    "        self.size = size\n",
    "\n",
    "    def step(self, reset=False):\n",
    "        if reset:\n",
    "            self.__init__(self.maxi, self.size, self.msg)\n",
    "        if not self.header_printed:\n",
    "            self.__print_header()\n",
    "        next(self.p)\n",
    "\n",
    "    def __print_header(self):\n",
    "        print()\n",
    "        format_string = \"0%{: ^\" + str(self.size - 6) + \"}100%\"\n",
    "        print(format_string.format(self.msg))\n",
    "        self.header_printed = True\n",
    "\n",
    "    def __start_progress(self, maxi):\n",
    "        def print_progress():\n",
    "            # Bresenham's algorithm. Yields the number of dots printed.\n",
    "            # This will always print 100 dots in max invocations.\n",
    "            dx = maxi\n",
    "            dy = self.size\n",
    "            d = dy - dx\n",
    "            for x in range(maxi):\n",
    "                k = 0\n",
    "                while d >= 0:\n",
    "                    print('=', end=\"\", flush=True)\n",
    "                    k += 1\n",
    "                    d -= dx\n",
    "                d += dy\n",
    "                yield k\n",
    "\n",
    "        return print_progress"
   ]
  },
  {
   "cell_type": "code",
   "execution_count": null,
   "metadata": {
    "collapsed": false
   },
   "outputs": [
    {
     "name": "stdout",
     "output_type": "stream",
     "text": [
      "processing 6 of 1958 files .. 5.05% complete. time elapsed 0:00:00 eta 0:01:17"
     ]
    },
    {
     "name": "stderr",
     "output_type": "stream",
     "text": [
      "/home/john/anaconda3/lib/python3.5/site-packages/ipykernel/__main__.py:18: SettingWithCopyWarning: \n",
      "A value is trying to be set on a copy of a slice from a DataFrame\n",
      "\n",
      "See the caveats in the documentation: http://pandas.pydata.org/pandas-docs/stable/indexing.html#indexing-view-versus-copy\n"
     ]
    },
    {
     "name": "stdout",
     "output_type": "stream",
     "text": [
      "processing 1534 of 1958 files .. 1533.05% complete. time elapsed 0:01:02 eta 0:00:17"
     ]
    }
   ],
   "source": [
    "# sklearn.__all__\n",
    "\n",
    "import os,datetime\n",
    "\n",
    "for j in range(len(data)):\n",
    "    total=len(data[j])\n",
    "    start_time = time.time()\n",
    "    t=0\n",
    "    for i in range(len(data[j])):\n",
    "        end_time = time.time()\n",
    "        uptime =end_time - start_time\n",
    "        el=(datetime.timedelta(seconds=int(uptime)))\n",
    "        pc=(total/(t+1)*uptime)-uptime\n",
    "        eta=(datetime.timedelta(seconds=int(pc)))\n",
    "        printnnl('processing {} of {} files .. {:.2f}% complete. time elapsed {} eta {}'.format(t+1,total,t+1/total*100,str(el),str(eta)))\n",
    "        t+=1\n",
    "        try:\n",
    "            data[j]['duration'][i]=sox.file_info.duration(data[j]['wav_filename'][i])\n",
    "        except:\n",
    "            print('could not find',data[j]['wav_filename'][i])\n",
    "            continue\n",
    "    print('saving to ',dp[j],'..')\n",
    "    data[j].to_csv(dp[j],encoding='latin_1')"
   ]
  }
 ],
 "metadata": {
  "anaconda-cloud": {},
  "kernelspec": {
   "display_name": "Python [default]",
   "language": "python",
   "name": "python3"
  },
  "language_info": {
   "codemirror_mode": {
    "name": "ipython",
    "version": 3
   },
   "file_extension": ".py",
   "mimetype": "text/x-python",
   "name": "python",
   "nbconvert_exporter": "python",
   "pygments_lexer": "ipython3",
   "version": "3.5.2"
  }
 },
 "nbformat": 4,
 "nbformat_minor": 2
}
