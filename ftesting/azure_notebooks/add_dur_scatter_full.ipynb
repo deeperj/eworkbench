{
 "cells": [
  {
   "cell_type": "code",
   "execution_count": 1,
   "metadata": {
    "collapsed": false
   },
   "outputs": [],
   "source": [
    "import pandas as pd\n",
    "import matplotlib as plt\n",
    "import numpy as np\n",
    "import sys\n",
    "import os\n",
    "if os.path.exists(\"C:/Users/u1273400/apps/sox-win\") and \"C:/Users/u1273400/apps/sox-win\" not in sys.path:\n",
    "    sys.path.append(\"C:/Users/u1273400/apps/sox-win\")\n",
    "if os.path.exists(\"C:/Users/u1273400/apps/sox-win\") and \"C:/Users/u1273400/apps/sox-win\" not in os.environ[\"PATH\"]:\n",
    "    os.environ[\"PATH\"]+=';C:/Users/u1273400/apps/sox-win'\n",
    "import sox\n",
    "import time\n",
    "import numbers\n",
    "import math"
   ]
  },
  {
   "cell_type": "code",
   "execution_count": null,
   "metadata": {
    "collapsed": false
   },
   "outputs": [],
   "source": []
  },
  {
   "cell_type": "code",
   "execution_count": 2,
   "metadata": {
    "collapsed": false
   },
   "outputs": [],
   "source": [
    "def printnnl(string):\n",
    "    import sys\n",
    "    sys.stdout.write('\\r%s'%(string))\n",
    "    sys.stdout.flush()"
   ]
  },
  {
   "cell_type": "code",
   "execution_count": 3,
   "metadata": {
    "collapsed": false
   },
   "outputs": [
    {
     "data": {
      "text/html": [
       "<div>\n",
       "<table border=\"1\" class=\"dataframe\">\n",
       "  <thead>\n",
       "    <tr style=\"text-align: right;\">\n",
       "      <th></th>\n",
       "      <th>filename</th>\n",
       "      <th>samplename</th>\n",
       "      <th>text</th>\n",
       "      <th>range</th>\n",
       "      <th>scatterc</th>\n",
       "      <th>age</th>\n",
       "      <th>wav_filename</th>\n",
       "      <th>accent</th>\n",
       "      <th>duration</th>\n",
       "      <th>wav_filesize</th>\n",
       "    </tr>\n",
       "  </thead>\n",
       "  <tbody>\n",
       "    <tr>\n",
       "      <th>0</th>\n",
       "      <td>P:/Student_Save/Backup/s/cv_corpus_v1/cv-other...</td>\n",
       "      <td>sample-000000</td>\n",
       "      <td>she composed an emotional song in her bedroom</td>\n",
       "      <td>cv-other-dev</td>\n",
       "      <td>P:/Student_Save/Backup/s/cv_corpus_v1/cv-other...</td>\n",
       "      <td>NaN</td>\n",
       "      <td>P:/Student_Save/Backup/s/cv_corpus_v1/cv-other...</td>\n",
       "      <td>NaN</td>\n",
       "      <td>NaN</td>\n",
       "      <td>NaN</td>\n",
       "    </tr>\n",
       "  </tbody>\n",
       "</table>\n",
       "</div>"
      ],
      "text/plain": [
       "                                            filename     samplename  \\\n",
       "0  P:/Student_Save/Backup/s/cv_corpus_v1/cv-other...  sample-000000   \n",
       "\n",
       "                                            text         range  \\\n",
       "0  she composed an emotional song in her bedroom  cv-other-dev   \n",
       "\n",
       "                                            scatterc  age  \\\n",
       "0  P:/Student_Save/Backup/s/cv_corpus_v1/cv-other...  NaN   \n",
       "\n",
       "                                        wav_filename accent  duration  \\\n",
       "0  P:/Student_Save/Backup/s/cv_corpus_v1/cv-other...    NaN       NaN   \n",
       "\n",
       "   wav_filesize  \n",
       "0           NaN  "
      ]
     },
     "execution_count": 3,
     "metadata": {},
     "output_type": "execute_result"
    }
   ],
   "source": [
    "dp=[f for f in os.listdir('data/e/') if f.startswith('cv-') and f.endswith('csv')]\n",
    "fn='data/e/'\n",
    "data=[pd.read_csv(fn+i) for i in dp]\n",
    "data[0].head(1)"
   ]
  },
  {
   "cell_type": "code",
   "execution_count": 4,
   "metadata": {
    "collapsed": false
   },
   "outputs": [],
   "source": [
    "df = data[0].iloc[0:0]\n",
    "for i in data:\n",
    "    df=pd.concat([df,i])\n",
    "df=df.reset_index(drop=True)"
   ]
  },
  {
   "cell_type": "code",
   "execution_count": null,
   "metadata": {
    "collapsed": false
   },
   "outputs": [
    {
     "name": "stderr",
     "output_type": "stream",
     "text": [
      "C:\\Apps\\Annaconda3\\envs\\tensorflow\\lib\\site-packages\\ipykernel\\__main__.py:22: SettingWithCopyWarning: \n",
      "A value is trying to be set on a copy of a slice from a DataFrame\n",
      "\n",
      "See the caveats in the documentation: http://pandas.pydata.org/pandas-docs/stable/indexing.html#indexing-view-versus-copy\n",
      "C:\\Apps\\Annaconda3\\envs\\tensorflow\\lib\\site-packages\\ipykernel\\__main__.py:23: SettingWithCopyWarning: \n",
      "A value is trying to be set on a copy of a slice from a DataFrame\n",
      "\n",
      "See the caveats in the documentation: http://pandas.pydata.org/pandas-docs/stable/indexing.html#indexing-view-versus-copy\n"
     ]
    },
    {
     "name": "stdout",
     "output_type": "stream",
     "text": [
      "21, Jun 2018 12:53:13>> processing 250 of 80367 files .. 0.31% complete. time elapsed 0:00:30 eta 2:44:15\n",
      "could not find P:/Student_Save/Backup/s/cv_corpus_v1/cv-other-dev/wave/sample-000644.wav\n"
     ]
    }
   ],
   "source": [
    "total=len(df)\n",
    "start_time = time.time()\n",
    "t=1\n",
    "\n",
    "import os,datetime\n",
    "for k in range(len(df)):\n",
    "    end_time = time.time()\n",
    "    uptime =end_time - start_time\n",
    "    el=(datetime.timedelta(seconds=int(uptime)))\n",
    "    pc=(total/(t+1)*uptime)-uptime\n",
    "    eta=(datetime.timedelta(seconds=int(pc)))\n",
    "    if t%1000==0 or t==10 or t==100 or t==250:\n",
    "        printnnl(\"{:%d, %b %Y %H:%M:%S}>> \".format(datetime.datetime.today())+'processing {} of {} files .. {:.2f}% complete. time elapsed {} eta {}'.format(t,total,t/total*100,str(el),str(eta)))\n",
    "        df.to_csv('data/e/cv.csv',encoding='latin_1')\n",
    "    t+=1\n",
    "    path=df['wav_filename'][k]#.replace(\"/wave\",\"\").replace(\".wav\",\".mp3\")\n",
    "    fz=df['wav_filesize'][k]\n",
    "    try:\n",
    "        if not os.path.exists(path):\n",
    "            raise ValueError(path,\"not found\")\n",
    "        if not isinstance(fz, numbers.Number) or math.isnan(fz):\n",
    "            df['wav_filesize'][k]=os.path.getsize(path)\n",
    "            df['duration'][k]=sox.file_info.duration(path)\n",
    "    except:\n",
    "        print('\\ncould not find',path)\n",
    "df.head(1)\n",
    "df.to_csv('data/e/cv.csv',encoding='latin_1')"
   ]
  }
 ],
 "metadata": {
  "anaconda-cloud": {},
  "kernelspec": {
   "display_name": "Python 3",
   "language": "python",
   "name": "python3"
  },
  "language_info": {
   "codemirror_mode": {
    "name": "ipython",
    "version": 3
   },
   "file_extension": ".py",
   "mimetype": "text/x-python",
   "name": "python",
   "nbconvert_exporter": "python",
   "pygments_lexer": "ipython3",
   "version": "3.5.2"
  }
 },
 "nbformat": 4,
 "nbformat_minor": 2
}
