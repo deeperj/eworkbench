{
 "cells": [
  {
   "cell_type": "markdown",
   "metadata": {},
   "source": [
    "<img src=\"https://www.dropbox.com/s/l8v1b51kg1wrzib/fmlp3.PNG?dl=1\" width=300>\n",
    "# $fMLp^3$ Lab 5: Tree-based Algorithms and Support Vector machines"
   ]
  },
  {
   "cell_type": "markdown",
   "metadata": {},
   "source": [
    "## Introduction<a id=\"sec-2-1\" name=\"sec-2-1\"></a>\n",
    "\n",
    "The last two labs focused on Linear and probabilistic models. In this lab session, we consider some more interesting machine learning algorithms.  The surprisingly simple tree but versatile tree-based algorithms and the robust support vector machines."
   ]
  },
  {
   "cell_type": "markdown",
   "metadata": {},
   "source": [
    "## Linear Regression <a id=\"sec-2-2-1\" name=\"sec-2-2-1\"></a>\n",
    "\n",
    "The general equation for a straight line is given as $y=mx+c$ where m is the coefficient of the independent variable x and c is the intercept on the y-axis.\n",
    "\n",
    "This is a very simple case of a linear model having just one independent variable.  In more complex tasks we may have more than one variable which may have interdependencies amongst them. Given the dataset below of housing prices, having 2 independent variables, we develop the following linear equation.\n",
    "\n",
    "$$h_\\theta(x)=\\theta_0+\\theta_1 x_1+\\theta_2 x_2$$\n",
    "\n",
    "Again,While $\\theta_0$ is the constant, $\\theta_k (k>0)$ are the coefficients of the independet variables denoted as $x_k (k>0)$.\n",
    "\n",
    "If we introduce $x_0=1$, we can therefore use the vector inner products of $\\theta_k$ and $x_k$ as follows:"
   ]
  },
  {
   "cell_type": "markdown",
   "metadata": {},
   "source": [
    "### Get the data<a id=\"sec-2-2-2\" name=\"sec-2-2-2\"></a>\n",
    "\n",
    "1.  List the data you ned and how much you need\n",
    "2.  Find and document where you can get that data\n",
    "3.  check how much space it will take\n",
    "4.  Check legal obligations and get authorisation if necessary\n",
    "5.  Get access authorisations\n",
    "6.  Create a workspace with enough storage\n",
    "7.  get the data\n",
    "8.  Convert the data to the format you can easily manipulate without chainging the data itself\n",
    "9.  Ensure sensitive invormation is removed or protected\n",
    "10. Sample a test set, and never look at it"
   ]
  },
  {
   "cell_type": "markdown",
   "metadata": {},
   "source": [
    "### Explore the data<a id=\"sec-2-2-3\" name=\"sec-2-2-3\"></a>\n",
    "\n",
    "1.  Create a copy of the data for exploration (sampling it down to a manageable size if necesssary)\n",
    "2.  Create a Jupyter notebook to keep record of your data exploration\n",
    "3.  Study each attribute and its characteristics ie.e\n",
    "    -   name\n",
    "    -   type (categorical/int/float/bounded/unbounded/text/structured etc\n",
    "    -   any missing values\n",
    "    -   Noisiness and type of noise (stochastic, outlier, rounding errors etc)\n",
    "    -   Type of distribution (gaussian, uniform, log, etc)\n",
    "4.  For supervised learning, identify target attributes (features)\n",
    "5.  Visualise the data\n",
    "6.  Study the correlations between attributes\n",
    "7.  Study how you would solve the problem manually\n",
    "8.  Identify the promising transformations you may want to apply\n",
    "9.  Identify extra data that would be useful\n",
    "10. Document what you have learned"
   ]
  },
  {
   "cell_type": "markdown",
   "metadata": {},
   "source": [
    "### Prepare the data<a id=\"sec-2-2-4\" name=\"sec-2-2-4\"></a>\n",
    "\n",
    "1.  Work on copies of the data (keep originals intact)\n",
    "2.  Write functions for all data transformations you apply for 5 reasons \n",
    "    1.  So you can easily prepare the data\n",
    "    2.  So you can apply these transformations in similar situations in the future\n",
    "    3.  to clean and prepare the test set\n",
    "    4.  to clean and prepare instances once your solution is live\n",
    "    5.  to make it easy to treat your preparation choices as hyperparameters\n",
    "3.  Data Cleaning\n",
    "    -   Fix or remove outliers if need be.\n",
    "    -   Fill in missing values (with zero, mean, median) or drop rows or columns\n",
    "4.  Feature selection (optional)\n",
    "    -   Drop attributes that prodie no useful information for the task\n",
    "5.  Feature engineering where appropriate e.g.\n",
    "    -   Descretise continuous features\n",
    "    -   Decompose features (e.g. categorical, date/time, etc.)\n",
    "    -   Add promising transformations of features (e.g., log(x), sqrt(x), x<sup>2</sup>, etc)\n",
    "    -   Aggregate features into promising new features\n",
    "6.  Feature Scaling\n",
    "    -   Standardise or normalise features"
   ]
  },
  {
   "cell_type": "markdown",
   "metadata": {},
   "source": [
    "### Short-list promising models<a id=\"sec-2-2-5\" name=\"sec-2-2-5\"></a>\n",
    "\n",
    "If the data is large, you may want to sample smaller training sets so you can train many different models in a reasonable time (be aware that this penalises complex models such as large neural nets or random forests).  Once again try to automate these steps as much as possible.\n",
    "1.  Train many quick and dirty models from different categories (e.g. linear, naive bayes, SVM, random forests, neural nets etc.) using standard parameters.\n",
    "2.  Measure and compare their performance:  For each model, use N-fold cross-validation and compute the mean and standard deviation of the performance on the N-folds.\n",
    "3.  Analyse the most significant variables for each algorithm.\n",
    "4.  Analyse the types of errors the models make and proffer how such errors can be avoided.\n",
    "5.  Have a quick round of feature selection and engineering\n",
    "6.  Have one or two more quick iterations of steps 1 to 5\n",
    "7.  Short list the top three to five most promising models, preferring models that make different types of errors?"
   ]
  },
  {
   "cell_type": "markdown",
   "metadata": {},
   "source": [
    "### Fine tune the system<a id=\"sec-2-2-6\" name=\"sec-2-2-6\"></a>\n",
    "\n",
    "1.  You will want to use as much data as possible for this step, especially as you move toward the end of fine-tuning.\n",
    "2.  Automate what you can\n",
    "3.  Fine-tune hyper parameters using cross-validation\n",
    "4.  Treat data transformation choices you are sure about as hyper parameters\n",
    "5.  Unless there are very few hyper parameter values to explore, prefer random search over grid search.  If training is very long, you may prefer a Bayesian optimisation approach using Gaussian process priors  <https://goo.gl/PEFfGr> [@snoek2012practical]\n",
    "6.  Try Ensemble methods.  Combining your best models will often perform better than running them individually.\n",
    "7.  Once you are confident about the final model, measre its performance on the test set to estimate the generalisation error."
   ]
  },
  {
   "cell_type": "markdown",
   "metadata": {},
   "source": [
    "### Present your solution<a id=\"sec-2-2-7\" name=\"sec-2-2-7\"></a>\n",
    "\n",
    "1.  Document what you have done.\n",
    "2.  Create a presentation highlighting the big picture\n",
    "3.  Explain why your solution achieves the business objective\n",
    "4.  Present interesting points  you learned along the way.  Describe what worked and what did not. List the assumptions and system limitations.\n",
    "5.  Use visualisation to communicate key findings. e.g. the median income is the number one predictor of housing prices."
   ]
  },
  {
   "cell_type": "markdown",
   "metadata": {},
   "source": [
    "### Launch<a id=\"sec-2-2-8\" name=\"sec-2-2-8\"></a>\n",
    "\n",
    "1.  Plug in production data inputs, write unit tests etc.\n",
    "2.  Write monitoring code to check you system's live performance at regular intervals and trigger alerts when it drops.\n",
    "    -   Beware of slow degration as models tend to wrote as data eveloves\n",
    "    -   Performance measurement may require crowd sourcing.\n",
    "    -   Monitor inputs quality.\n",
    "3.  Retrain your models at regular basis on fresh data (automate as much as possible)"
   ]
  },
  {
   "cell_type": "markdown",
   "metadata": {},
   "source": [
    "## Decision Trees<a id=\"sec-2-3\" name=\"sec-2-3\"></a>\n",
    "\n",
    "Decision trees are capable of performing both regression and classification.  They also are fundamental components of random forest.  We first look at the classification properties of decision trees before considering the regression capabilities."
   ]
  },
  {
   "cell_type": "markdown",
   "metadata": {},
   "source": [
    "### Decision Tree classifier\n",
    "Suppose you find an iris flower and you want to classify it.  You start at the root node (depth 0, at the top): this node asks whether the flower's petal length is smaller than 2.45cm.  If it is then you move down to the root's left child node (depth 1, left).  In this case, it is a leaf node (i.e. it does not have any children nodes), so it does not ask any more questions: you can simply look at the predicted class for that node and the decision tree predicts that the flower belongs to the class (Class=Setosa).\n",
    "\n",
    "Now suppose you find another flow, but this time the petal length is greater than 2.45 cm.  You must move down to the root's right child node (depth 2, left).  If not, it is likely an Iris-Virginica (depth 2, right).\n",
    "\n",
    "One nice quality of decision trees is that they require much less data preparation, in particular decision trees are neutral to normalisation of the data.\n",
    "\n",
    "A node's samples attribute counts how many training instances it applies to.  for example, 100 training instances have a petal length greater than 2.45cm (depth 1, right), among  which 54 have a petal width smaller than 1.75cm (depth 2 left).  A node's value attribute tells you how many training instances of each class this node applies to: for example, the bottom-right node applies to 0 Iris-Setosa, 1 Iris-Versicolor and 45 Iris-Virginica.  Finally, a node's gini attribute measures its impurity: a node is \"pure\"(gini=0) if all training instances it applies to belong to the same class.  For example, since the depth-1 left node applies to only Iris-Setosa training instances, it is pure and its gini score is 0.  Equation (1) below shows how the training algorithm computes the gini Score $G_i$ of the ith node.  For example, the depth 2 left node has a gini score equal to $1-(0/54)^2-(49/54)^2-(5/54)\\approx 0.168$.  Another impurity measure will be disccussed shortly.\n",
    "$$G_i=1-\\sum_{k=1}^np_{i,k}^2 - - (5.1)$$"
   ]
  },
  {
   "cell_type": "markdown",
   "metadata": {},
   "source": [
    "- $p_{i,k}$ is the ratio of class k instances among the training instances in the ith node.\n",
    "\n",
    "Figure (6.2)"
   ]
  },
  {
   "cell_type": "code",
   "execution_count": 10,
   "metadata": {},
   "outputs": [
    {
     "data": {
      "text/html": [
       "<div>\n",
       "<style>\n",
       "    .dataframe thead tr:only-child th {\n",
       "        text-align: right;\n",
       "    }\n",
       "\n",
       "    .dataframe thead th {\n",
       "        text-align: left;\n",
       "    }\n",
       "\n",
       "    .dataframe tbody tr th {\n",
       "        vertical-align: top;\n",
       "    }\n",
       "</style>\n",
       "<table border=\"1\" class=\"dataframe\">\n",
       "  <thead>\n",
       "    <tr style=\"text-align: right;\">\n",
       "      <th></th>\n",
       "      <th>Unnamed: 0</th>\n",
       "      <th>sepal_length</th>\n",
       "      <th>sepal_width</th>\n",
       "      <th>petal_length</th>\n",
       "      <th>petal_width</th>\n",
       "      <th>species</th>\n",
       "    </tr>\n",
       "  </thead>\n",
       "  <tbody>\n",
       "    <tr>\n",
       "      <th>0</th>\n",
       "      <td>0</td>\n",
       "      <td>5.1</td>\n",
       "      <td>3.5</td>\n",
       "      <td>1.4</td>\n",
       "      <td>0.2</td>\n",
       "      <td>setosa</td>\n",
       "    </tr>\n",
       "    <tr>\n",
       "      <th>1</th>\n",
       "      <td>1</td>\n",
       "      <td>4.9</td>\n",
       "      <td>3.0</td>\n",
       "      <td>1.4</td>\n",
       "      <td>0.2</td>\n",
       "      <td>setosa</td>\n",
       "    </tr>\n",
       "    <tr>\n",
       "      <th>2</th>\n",
       "      <td>2</td>\n",
       "      <td>4.7</td>\n",
       "      <td>3.2</td>\n",
       "      <td>1.3</td>\n",
       "      <td>0.2</td>\n",
       "      <td>setosa</td>\n",
       "    </tr>\n",
       "    <tr>\n",
       "      <th>3</th>\n",
       "      <td>3</td>\n",
       "      <td>4.6</td>\n",
       "      <td>3.1</td>\n",
       "      <td>1.5</td>\n",
       "      <td>0.2</td>\n",
       "      <td>setosa</td>\n",
       "    </tr>\n",
       "    <tr>\n",
       "      <th>4</th>\n",
       "      <td>4</td>\n",
       "      <td>5.0</td>\n",
       "      <td>3.6</td>\n",
       "      <td>1.4</td>\n",
       "      <td>0.2</td>\n",
       "      <td>setosa</td>\n",
       "    </tr>\n",
       "  </tbody>\n",
       "</table>\n",
       "</div>"
      ],
      "text/plain": [
       "   Unnamed: 0  sepal_length  sepal_width  petal_length  petal_width species\n",
       "0           0           5.1          3.5           1.4          0.2  setosa\n",
       "1           1           4.9          3.0           1.4          0.2  setosa\n",
       "2           2           4.7          3.2           1.3          0.2  setosa\n",
       "3           3           4.6          3.1           1.5          0.2  setosa\n",
       "4           4           5.0          3.6           1.4          0.2  setosa"
      ]
     },
     "execution_count": 10,
     "metadata": {},
     "output_type": "execute_result"
    }
   ],
   "source": [
    "import numpy as np\n",
    "import pandas as pd\n",
    "iris=pd.read_csv('iris.csv')\n",
    "iris.head()"
   ]
  },
  {
   "cell_type": "code",
   "execution_count": 13,
   "metadata": {},
   "outputs": [
    {
     "name": "stdout",
     "output_type": "stream",
     "text": [
      "setosa        50\n",
      "versicolor    50\n",
      "virginica     50\n",
      "Name: species, dtype: int64\n",
      "<class 'pandas.core.series.Series'>\n",
      "50\n",
      "[50 50 50]\n",
      "Index(['setosa', 'versicolor', 'virginica'], dtype='object')\n",
      "<class 'float'>\n"
     ]
    }
   ],
   "source": [
    "chk=iris.species.value_counts()\n",
    "print(chk)\n",
    "print(type(chk))\n",
    "print(chk.versicolor)\n",
    "print(chk.values)\n",
    "print(chk.index)\n",
    "print(type(64.0))"
   ]
  },
  {
   "cell_type": "code",
   "execution_count": 38,
   "metadata": {
    "collapsed": true
   },
   "outputs": [],
   "source": [
    "labels=iris['species'].copy()"
   ]
  },
  {
   "cell_type": "code",
   "execution_count": 39,
   "metadata": {
    "collapsed": true
   },
   "outputs": [],
   "source": [
    "data=iris['petal_width'].copy()"
   ]
  },
  {
   "cell_type": "code",
   "execution_count": 51,
   "metadata": {},
   "outputs": [
    {
     "data": {
      "text/html": [
       "<div>\n",
       "<style>\n",
       "    .dataframe thead tr:only-child th {\n",
       "        text-align: right;\n",
       "    }\n",
       "\n",
       "    .dataframe thead th {\n",
       "        text-align: left;\n",
       "    }\n",
       "\n",
       "    .dataframe tbody tr th {\n",
       "        vertical-align: top;\n",
       "    }\n",
       "</style>\n",
       "<table border=\"1\" class=\"dataframe\">\n",
       "  <thead>\n",
       "    <tr style=\"text-align: right;\">\n",
       "      <th></th>\n",
       "      <th>data</th>\n",
       "      <th>lab</th>\n",
       "    </tr>\n",
       "  </thead>\n",
       "  <tbody>\n",
       "    <tr>\n",
       "      <th>0</th>\n",
       "      <td>0.2</td>\n",
       "      <td>setosa</td>\n",
       "    </tr>\n",
       "    <tr>\n",
       "      <th>1</th>\n",
       "      <td>0.2</td>\n",
       "      <td>setosa</td>\n",
       "    </tr>\n",
       "    <tr>\n",
       "      <th>2</th>\n",
       "      <td>0.2</td>\n",
       "      <td>setosa</td>\n",
       "    </tr>\n",
       "    <tr>\n",
       "      <th>3</th>\n",
       "      <td>0.2</td>\n",
       "      <td>setosa</td>\n",
       "    </tr>\n",
       "    <tr>\n",
       "      <th>4</th>\n",
       "      <td>0.2</td>\n",
       "      <td>setosa</td>\n",
       "    </tr>\n",
       "  </tbody>\n",
       "</table>\n",
       "</div>"
      ],
      "text/plain": [
       "   data     lab\n",
       "0   0.2  setosa\n",
       "1   0.2  setosa\n",
       "2   0.2  setosa\n",
       "3   0.2  setosa\n",
       "4   0.2  setosa"
      ]
     },
     "execution_count": 51,
     "metadata": {},
     "output_type": "execute_result"
    }
   ],
   "source": [
    "dataset=pd.DataFrame({'data':data, 'lab':labels})\n",
    "dataset.head()"
   ]
  },
  {
   "cell_type": "markdown",
   "metadata": {},
   "source": [
    "To get the probability of each label will be the value_counts divided by the sum of the value counts.  We can perform this in a single line of code as follows:"
   ]
  },
  {
   "cell_type": "code",
   "execution_count": 52,
   "metadata": {},
   "outputs": [
    {
     "data": {
      "text/plain": [
       "versicolor    0.333333\n",
       "setosa        0.333333\n",
       "virginica     0.333333\n",
       "Name: species, dtype: float64"
      ]
     },
     "execution_count": 52,
     "metadata": {},
     "output_type": "execute_result"
    }
   ],
   "source": [
    "chk/sum(chk.values)"
   ]
  },
  {
   "cell_type": "markdown",
   "metadata": {},
   "source": [
    "Similarly, to obtain the mean and variance for the combined dataset is as follows:"
   ]
  },
  {
   "cell_type": "code",
   "execution_count": 55,
   "metadata": {},
   "outputs": [
    {
     "data": {
      "text/html": [
       "<div>\n",
       "<style>\n",
       "    .dataframe thead tr:only-child th {\n",
       "        text-align: right;\n",
       "    }\n",
       "\n",
       "    .dataframe thead th {\n",
       "        text-align: left;\n",
       "    }\n",
       "\n",
       "    .dataframe tbody tr th {\n",
       "        vertical-align: top;\n",
       "    }\n",
       "</style>\n",
       "<table border=\"1\" class=\"dataframe\">\n",
       "  <thead>\n",
       "    <tr style=\"text-align: right;\">\n",
       "      <th></th>\n",
       "      <th>data</th>\n",
       "      <th>lab</th>\n",
       "    </tr>\n",
       "  </thead>\n",
       "  <tbody>\n",
       "    <tr>\n",
       "      <th>50</th>\n",
       "      <td>1.4</td>\n",
       "      <td>versicolor</td>\n",
       "    </tr>\n",
       "    <tr>\n",
       "      <th>51</th>\n",
       "      <td>1.5</td>\n",
       "      <td>versicolor</td>\n",
       "    </tr>\n",
       "    <tr>\n",
       "      <th>52</th>\n",
       "      <td>1.5</td>\n",
       "      <td>versicolor</td>\n",
       "    </tr>\n",
       "    <tr>\n",
       "      <th>53</th>\n",
       "      <td>1.3</td>\n",
       "      <td>versicolor</td>\n",
       "    </tr>\n",
       "    <tr>\n",
       "      <th>54</th>\n",
       "      <td>1.5</td>\n",
       "      <td>versicolor</td>\n",
       "    </tr>\n",
       "  </tbody>\n",
       "</table>\n",
       "</div>"
      ],
      "text/plain": [
       "    data         lab\n",
       "50   1.4  versicolor\n",
       "51   1.5  versicolor\n",
       "52   1.5  versicolor\n",
       "53   1.3  versicolor\n",
       "54   1.5  versicolor"
      ]
     },
     "execution_count": 55,
     "metadata": {},
     "output_type": "execute_result"
    }
   ],
   "source": [
    "ds = [dataset.loc[dataset.lab==label] for label in chk.index]\n",
    "ds[0].head()"
   ]
  },
  {
   "cell_type": "code",
   "execution_count": 54,
   "metadata": {},
   "outputs": [
    {
     "data": {
      "text/plain": [
       "versicolor    50\n",
       "setosa        50\n",
       "virginica     50\n",
       "Name: lab, dtype: int64"
      ]
     },
     "execution_count": 54,
     "metadata": {},
     "output_type": "execute_result"
    }
   ],
   "source": [
    "dataset.lab.value_counts()"
   ]
  },
  {
   "cell_type": "code",
   "execution_count": 56,
   "metadata": {},
   "outputs": [
    {
     "data": {
      "text/plain": [
       "[1.3259999999999998, 0.2459999999999999, 2.026]"
      ]
     },
     "execution_count": 56,
     "metadata": {},
     "output_type": "execute_result"
    }
   ],
   "source": [
    "means=[d.data.mean() for d in ds]\n",
    "means"
   ]
  },
  {
   "cell_type": "code",
   "execution_count": 57,
   "metadata": {},
   "outputs": [
    {
     "data": {
      "text/plain": [
       "[0.039106122448979576, 0.0111061224489796, 0.07543265306122447]"
      ]
     },
     "execution_count": 57,
     "metadata": {},
     "output_type": "execute_result"
    }
   ],
   "source": [
    "dvars=[d.data.var() for d in ds]\n",
    "dvars"
   ]
  },
  {
   "cell_type": "markdown",
   "metadata": {},
   "source": [
    "The complete Implementation is as follows:"
   ]
  },
  {
   "cell_type": "markdown",
   "metadata": {
    "collapsed": true
   },
   "source": [
    "# Appendix 1: Word2Vec Co-occurrence Matrix Decomposition with SVD Model"
   ]
  },
  {
   "cell_type": "markdown",
   "metadata": {
    "collapsed": true
   },
   "source": [
    "For the co-occurrence model we count the number of times a certain number of words occur together take for example a vocuabulary of words and a count of the times two words co-occur together in the illustration below:\n",
    "![Co-occurrence Matrix](https://www.dropbox.com/s/pcl4c8lf5as56tl/svd1.png?dl=1)"
   ]
  },
  {
   "cell_type": "markdown",
   "metadata": {},
   "source": [
    "Example Corpus:\n",
    "- I like deep learning.\n",
    "- I like NLP.\n",
    "- I enjoy flying.\n",
    "\n",
    "The word vectors can therefore be determined using Singular Value Decomposition (SVD) as follows:\n"
   ]
  },
  {
   "cell_type": "code",
   "execution_count": 10,
   "metadata": {},
   "outputs": [
    {
     "data": {
      "image/png": "[encoded data removed]",
      "text/plain": [
       "<matplotlib.figure.Figure at 0x7fe30f6c89b0>"
      ]
     },
     "metadata": {},
     "output_type": "display_data"
    }
   ],
   "source": [
    "import numpy as np\n",
    "import matplotlib.pyplot as plt\n",
    "la=np.linalg\n",
    "words=['I','like','enjoy','deep','learning','NLP','flying','.']\n",
    "x=np.array([[0,2,1,0,0,0,0,0],\n",
    "            [2,0,0,1,0,1,0,0],\n",
    "            [1,0,0,0,0,0,1,0],\n",
    "            [0,1,0,0,1,0,0,0],\n",
    "            [0,0,0,1,0,0,0,1],\n",
    "            [0,1,0,0,0,0,0,1],\n",
    "            [0,0,1,0,0,0,0,1],\n",
    "            [0,0,0,0,1,1,1,0]\n",
    "           ])\n",
    "U,s,Vh=la.svd(x,full_matrices=False)\n",
    "for i in range(len(words)):\n",
    "    plt.text(U[i,0],U[i,1],words[i])\n",
    "plt.show()"
   ]
  },
  {
   "cell_type": "code",
   "execution_count": 11,
   "metadata": {},
   "outputs": [
    {
     "data": {
      "text/plain": [
       "array([[ -5.24124930e-01,  -5.72859145e-01,   9.54463014e-02,\n",
       "          3.83228493e-01,  -1.76963375e-01,  -1.76092183e-01,\n",
       "         -4.19185600e-01,  -5.57702732e-02],\n",
       "       [ -5.94438071e-01,   6.30120664e-01,  -1.70207779e-01,\n",
       "          3.10038363e-01,   1.84062339e-01,  -2.34777849e-01,\n",
       "          1.29535474e-01,   1.36813128e-01],\n",
       "       [ -2.56274005e-01,   2.74017533e-01,   1.59810848e-01,\n",
       "         -5.55111512e-16,  -5.78984617e-01,   6.36550929e-01,\n",
       "         -6.10622664e-16,  -3.05414877e-01],\n",
       "       [ -2.85637408e-01,  -2.47912130e-01,   3.54610324e-01,\n",
       "         -7.31901294e-02,   4.45784489e-01,   8.36141432e-02,\n",
       "          5.48721075e-01,  -4.68012411e-01],\n",
       "       [ -1.93139313e-01,   3.38495048e-02,  -5.00790405e-01,\n",
       "         -4.28462480e-01,   3.47110226e-01,   1.55483227e-01,\n",
       "         -4.68663749e-01,  -4.03576557e-01],\n",
       "       [ -3.05134684e-01,  -2.93988990e-01,  -2.23433593e-01,\n",
       "         -1.91614246e-01,   1.27460940e-01,   4.91219408e-01,\n",
       "          2.09592800e-01,   6.57535375e-01],\n",
       "       [ -1.82489837e-01,  -1.61027767e-01,  -3.97842428e-01,\n",
       "         -3.83228493e-01,  -5.12923221e-01,  -4.27574417e-01,\n",
       "          4.19185600e-01,  -1.18313828e-01],\n",
       "       [ -2.46898426e-01,   1.57254762e-01,   5.92991677e-01,\n",
       "         -6.20076727e-01,  -3.21868120e-02,  -2.31065080e-01,\n",
       "         -2.59070949e-01,   2.37976916e-01]])"
      ]
     },
     "execution_count": 11,
     "metadata": {},
     "output_type": "execute_result"
    }
   ],
   "source": [
    "U"
   ]
  }
 ],
 "metadata": {
  "kernelspec": {
   "display_name": "Python 3.6",
   "language": "python",
   "name": "python36"
  },
  "language_info": {
   "codemirror_mode": {
    "name": "ipython",
    "version": 3
   },
   "file_extension": ".py",
   "mimetype": "text/x-python",
   "name": "python",
   "nbconvert_exporter": "python",
   "pygments_lexer": "ipython3",
   "version": "3.6.3"
  }
 },
 "nbformat": 4,
 "nbformat_minor": 2
}
