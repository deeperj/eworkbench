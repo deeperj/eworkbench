{
 "cells": [
  {
   "cell_type": "code",
   "execution_count": 1,
   "metadata": {
    "collapsed": false
   },
   "outputs": [],
   "source": [
    "import pandas as pd\n",
    "import matplotlib as plt\n",
    "import numpy as np\n",
    "import os,sys\n",
    "#import sox\n",
    "import sys,time"
   ]
  },
  {
   "cell_type": "code",
   "execution_count": 2,
   "metadata": {
    "collapsed": false
   },
   "outputs": [
    {
     "data": {
      "text/html": [
       "<div>\n",
       "<table border=\"1\" class=\"dataframe\">\n",
       "  <thead>\n",
       "    <tr style=\"text-align: right;\">\n",
       "      <th></th>\n",
       "      <th>mfc_exists</th>\n",
       "      <th>filename</th>\n",
       "      <th>samplename</th>\n",
       "      <th>transcript</th>\n",
       "      <th>range</th>\n",
       "      <th>scatterc</th>\n",
       "      <th>mfc_size</th>\n",
       "      <th>gender</th>\n",
       "      <th>wav_filename</th>\n",
       "      <th>duration</th>\n",
       "      <th>wav_filesize</th>\n",
       "    </tr>\n",
       "  </thead>\n",
       "  <tbody>\n",
       "    <tr>\n",
       "      <th>0</th>\n",
       "      <td>0</td>\n",
       "      <td>P:/Student_Save/Backup/s/cv_corpus_v1/cv-other...</td>\n",
       "      <td>sample-000000</td>\n",
       "      <td>he had to spit some tobacco out of his mouth</td>\n",
       "      <td>cv-other-train</td>\n",
       "      <td>P:/Student_Save/Backup/s/cv_corpus_v1/cv-other...</td>\n",
       "      <td>seventies</td>\n",
       "      <td>male</td>\n",
       "      <td>P:/Student_Save/Backup/s/cv_corpus_v1/cv-other...</td>\n",
       "      <td>3.576</td>\n",
       "      <td>343374</td>\n",
       "    </tr>\n",
       "  </tbody>\n",
       "</table>\n",
       "</div>"
      ],
      "text/plain": [
       "   mfc_exists                                           filename  \\\n",
       "0           0  P:/Student_Save/Backup/s/cv_corpus_v1/cv-other...   \n",
       "\n",
       "      samplename                                    transcript  \\\n",
       "0  sample-000000  he had to spit some tobacco out of his mouth   \n",
       "\n",
       "            range                                           scatterc  \\\n",
       "0  cv-other-train  P:/Student_Save/Backup/s/cv_corpus_v1/cv-other...   \n",
       "\n",
       "    mfc_size gender                                       wav_filename  \\\n",
       "0  seventies   male  P:/Student_Save/Backup/s/cv_corpus_v1/cv-other...   \n",
       "\n",
       "   duration  wav_filesize  \n",
       "0     3.576        343374  "
      ]
     },
     "execution_count": 2,
     "metadata": {},
     "output_type": "execute_result"
    }
   ],
   "source": [
    "dp=[f for f in os.listdir('data/e/') if f.startswith('cv-') and f.endswith('csv')]\n",
    "fn='data/e/'\n",
    "data=[pd.read_csv(fn+i) for i in dp]\n",
    "data[0].head(1)"
   ]
  },
  {
   "cell_type": "code",
   "execution_count": 3,
   "metadata": {
    "collapsed": false
   },
   "outputs": [],
   "source": [
    "df = data[0].iloc[0:0]\n",
    "for i in data:\n",
    "    df=pd.concat([df,i])\n",
    "df=df.reset_index(drop=True)"
   ]
  },
  {
   "cell_type": "code",
   "execution_count": 4,
   "metadata": {
    "collapsed": false
   },
   "outputs": [],
   "source": [
    "def printnnl(string):\n",
    "    import sys\n",
    "    sys.stdout.write('\\r%s'%(string))\n",
    "    sys.stdout.flush()"
   ]
  },
  {
   "cell_type": "code",
   "execution_count": null,
   "metadata": {
    "collapsed": false
   },
   "outputs": [
    {
     "name": "stdout",
     "output_type": "stream",
     "text": [
      "processing 1900 of 354965 files .. 0.54% complete. time elapsed 0:00:07 eta 0:21:59"
     ]
    }
   ],
   "source": [
    "total=len(df)\n",
    "start_time = time.time()\n",
    "t=1\n",
    "\n",
    "import os,datetime\n",
    "for k in range(len(df)):\n",
    "    end_time = time.time()\n",
    "    uptime =end_time - start_time\n",
    "    el=(datetime.timedelta(seconds=int(uptime)))\n",
    "    pc=(total/(t+1)*uptime)-uptime\n",
    "    eta=(datetime.timedelta(seconds=int(pc)))\n",
    "    if t%2000==0 or t==10 or t==100 or or t==750 or t==250 or t==total:\n",
    "        printnnl(\"{:%d, %b %Y %H:%M:%S}>> \".format(datetime.datetime.today())+'processing {} of {} files .. {:.2f}% complete. time elapsed {} eta {}'.format(t,total,t/total*100,str(el),str(eta)))\n",
    "        df.to_csv('data/e/cvd.csv',encoding='latin_1')\n",
    "    t+=1\n",
    "    wpath=df['wav_filename'][k]#.replace(\"/wave\",\"\").replace(\".wav\",\".mp3\")\n",
    "    mpath=df['wav_filename'][k].replace(\"/wave\",\"\").replace(\".wav\",\".mp3\")\n",
    "    if os.path.exists(wpath):\n",
    "        df['wav_exists'][k]=1\n",
    "    else\n",
    "        print(\"\\n{:%d, %b %Y %H:%M:%S}>> \".format(datetime.datetime.today())+'could not find',path)\n",
    "        df['wav_exists'][k]=0\n",
    "    if os.path.exists(mpath):\n",
    "        df['mfc_exists'][k]=1\n",
    "        df['mfc_size'][k]=os.path.getsize(mpath)\n",
    "    else:\n",
    "        df['mfc_exists'][k]=0\n",
    "        print(\"\\n{:%d, %b %Y %H:%M:%S}>> \".format(datetime.datetime.today())+'could not find',path)\n",
    "df.head(1)\n",
    "df.to_csv('data/e/cvd.csv',encoding='latin_1')"
   ]
  },
  {
   "cell_type": "code",
   "execution_count": 4,
   "metadata": {
    "collapsed": false
   },
   "outputs": [
    {
     "data": {
      "text/plain": [
       "False"
      ]
     },
     "execution_count": 4,
     "metadata": {},
     "output_type": "execute_result"
    }
   ],
   "source": [
    "os.path.exists(\"P:/Student_Save/Backup/s/cv_corpus_v1/cv-valid-test/wave/sample-000000.wav\")"
   ]
  },
  {
   "cell_type": "code",
   "execution_count": null,
   "metadata": {
    "collapsed": true
   },
   "outputs": [],
   "source": []
  }
 ],
 "metadata": {
  "anaconda-cloud": {},
  "kernelspec": {
   "display_name": "Python [default]",
   "language": "python",
   "name": "python3"
  },
  "language_info": {
   "codemirror_mode": {
    "name": "ipython",
    "version": 3
   },
   "file_extension": ".py",
   "mimetype": "text/x-python",
   "name": "python",
   "nbconvert_exporter": "python",
   "pygments_lexer": "ipython3",
   "version": "3.5.2"
  }
 },
 "nbformat": 4,
 "nbformat_minor": 2
}
