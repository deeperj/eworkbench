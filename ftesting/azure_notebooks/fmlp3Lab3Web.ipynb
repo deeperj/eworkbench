{
 "cells": [
  {
   "cell_type": "markdown",
   "metadata": {},
   "source": [
    "<img src=\"https://www.dropbox.com/s/l8v1b51kg1wrzib/fmlp3.PNG?dl=1\" width=300>\n",
    "# $fMLp^3$ Lab 3: Generalised Linear Model and PCA"
   ]
  },
  {
   "cell_type": "markdown",
   "metadata": {},
   "source": [
    "## Introduction<a id=\"sec-2-1\" name=\"sec-2-1\"></a>\n",
    "\n",
    "In previous labs we have applied logistic regression to various classification tasks using the of the shelf models within the scikit-learn machine learning libray.  In today's class we take a look under the hood by creating our own models. Linear and logistic regression follow similar modelling procedures and therefore fall into the class of machine learning models known as generalised linear models.\n"
   ]
  },
  {
   "cell_type": "markdown",
   "metadata": {},
   "source": [
    "### Linear Regression <a id=\"sec-2-2-1\" name=\"sec-2-2-1\"></a>\n",
    "\n",
    "The general equation for a straight line is given as $y=mx+c$ where m is the coefficient of the independent variable x and c is the intercept on the y-axis.\n",
    "\n",
    "This is a very simple case of a linear model having just one independent variable.  In more complex tasks we may have more than one variable which may have interdependencies amongst them. Given the dataset below of housing prices, having 2 independent variables, we develop the following linear equation.\n",
    "\n",
    "$$h_\\theta(x)=\\theta_0+\\theta_1 x_1+\\theta_2 x_2$$\n",
    "\n",
    "Again,While $\\theta_0$ is the constant, $\\theta_k (k>0)$ are the coefficients of the independet variables denoted as $x_k (k>0)$.\n",
    "\n",
    "If we introduce $x_0=1$, we can therefore use the vector inner products of $\\theta_k$ and $x_k$ as follows:"
   ]
  },
  {
   "cell_type": "markdown",
   "metadata": {},
   "source": [
    "### Get the data<a id=\"sec-2-2-2\" name=\"sec-2-2-2\"></a>\n",
    "\n",
    "1.  List the data you ned and how much you need\n",
    "2.  Find and document where you can get that data\n",
    "3.  check how much space it will take\n",
    "4.  Check legal obligations and get authorisation if necessary\n",
    "5.  Get access authorisations\n",
    "6.  Create a workspace with enough storage\n",
    "7.  get the data\n",
    "8.  Convert the data to the format you can easily manipulate without chainging the data itself\n",
    "9.  Ensure sensitive invormation is removed or protected\n",
    "10. Sample a test set, and never look at it"
   ]
  },
  {
   "cell_type": "markdown",
   "metadata": {},
   "source": [
    "### Explore the data<a id=\"sec-2-2-3\" name=\"sec-2-2-3\"></a>\n",
    "\n",
    "1.  Create a copy of the data for exploration (sampling it down to a manageable size if necesssary)\n",
    "2.  Create a Jupyter notebook to keep record of your data exploration\n",
    "3.  Study each attribute and its characteristics ie.e\n",
    "    -   name\n",
    "    -   type (categorical/int/float/bounded/unbounded/text/structured etc\n",
    "    -   any missing values\n",
    "    -   Noisiness and type of noise (stochastic, outlier, rounding errors etc)\n",
    "    -   Type of distribution (gaussian, uniform, log, etc)\n",
    "4.  For supervised learning, identify target attributes (features)\n",
    "5.  Visualise the data\n",
    "6.  Study the correlations between attributes\n",
    "7.  Study how you would solve the problem manually\n",
    "8.  Identify the promising transformations you may want to apply\n",
    "9.  Identify extra data that would be useful\n",
    "10. Document what you have learned"
   ]
  },
  {
   "cell_type": "markdown",
   "metadata": {},
   "source": [
    "### Prepare the data<a id=\"sec-2-2-4\" name=\"sec-2-2-4\"></a>\n",
    "\n",
    "1.  Work on copies of the data (keep originals intact)\n",
    "2.  Write functions for all data transformations you apply for 5 reasons \n",
    "    1.  So you can easily prepare the data\n",
    "    2.  So you can apply these transformations in similar situations in the future\n",
    "    3.  to clean and prepare the test set\n",
    "    4.  to clean and prepare instances once your solution is live\n",
    "    5.  to make it easy to treat your preparation choices as hyperparameters\n",
    "3.  Data Cleaning\n",
    "    -   Fix or remove outliers if need be.\n",
    "    -   Fill in missing values (with zero, mean, median) or drop rows or columns\n",
    "4.  Feature selection (optional)\n",
    "    -   Drop attributes that prodie no useful information for the task\n",
    "5.  Feature engineering where appropriate e.g.\n",
    "    -   Descretise continuous features\n",
    "    -   Decompose features (e.g. categorical, date/time, etc.)\n",
    "    -   Add promising transformations of features (e.g., log(x), sqrt(x), x<sup>2</sup>, etc)\n",
    "    -   Aggregate features into promising new features\n",
    "6.  Feature Scaling\n",
    "    -   Standardise or normalise features"
   ]
  },
  {
   "cell_type": "markdown",
   "metadata": {},
   "source": [
    "### Short-list promising models<a id=\"sec-2-2-5\" name=\"sec-2-2-5\"></a>\n",
    "\n",
    "If the data is large, you may want to sample smaller training sets so you can train many different models in a reasonable time (be aware that this penalises complex models such as large neural nets or random forests).  Once again try to automate these steps as much as possible.\n",
    "1.  Train many quick and dirty models from different categories (e.g. linear, naive bayes, SVM, random forests, neural nets etc.) using standard parameters.\n",
    "2.  Measure and compare their performance:  For each model, use N-fold cross-validation and compute the mean and standard deviation of the performance on the N-folds.\n",
    "3.  Analyse the most significant variables for each algorithm.\n",
    "4.  Analyse the types of errors the models make and proffer how such errors can be avoided.\n",
    "5.  Have a quick round of feature selection and engineering\n",
    "6.  Have one or two more quick iterations of steps 1 to 5\n",
    "7.  Short list the top three to five most promising models, preferring models that make different types of errors?"
   ]
  },
  {
   "cell_type": "markdown",
   "metadata": {},
   "source": [
    "### Fine tune the system<a id=\"sec-2-2-6\" name=\"sec-2-2-6\"></a>\n",
    "\n",
    "1.  You will want to use as much data as possible for this step, especially as you move toward the end of fine-tuning.\n",
    "2.  Automate what you can\n",
    "3.  Fine-tune hyper parameters using cross-validation\n",
    "4.  Treat data transformation choices you are sure about as hyper parameters\n",
    "5.  Unless there are very few hyper parameter values to explore, prefer random search over grid search.  If training is very long, you may prefer a Bayesian optimisation approach using Gaussian process priors  <https://goo.gl/PEFfGr> [@snoek2012practical]\n",
    "6.  Try Ensemble methods.  Combining your best models will often perform better than running them individually.\n",
    "7.  Once you are confident about the final model, measre its performance on the test set to estimate the generalisation error."
   ]
  },
  {
   "cell_type": "markdown",
   "metadata": {},
   "source": [
    "### Present your solution<a id=\"sec-2-2-7\" name=\"sec-2-2-7\"></a>\n",
    "\n",
    "1.  Document what you have done.\n",
    "2.  Create a presentation highlighting the big picture\n",
    "3.  Explain why your solution achieves the business objective\n",
    "4.  Present interesting points  you learned along the way.  Describe what worked and what did not. List the assumptions and system limitations.\n",
    "5.  Use visualisation to communicate key findings. e.g. the median income is the number one predictor of housing prices."
   ]
  },
  {
   "cell_type": "markdown",
   "metadata": {},
   "source": [
    "### Launch<a id=\"sec-2-2-8\" name=\"sec-2-2-8\"></a>\n",
    "\n",
    "1.  Plug in production data inputs, write unit tests etc.\n",
    "2.  Write monitoring code to check you system's live performance at regular intervals and trigger alerts when it drops.\n",
    "    -   Beware of slow degration as models tend to wrote as data eveloves\n",
    "    -   Performance measurement may require crowd sourcing.\n",
    "    -   Monitor inputs quality.\n",
    "3.  Retrain your models at regular basis on fresh data (automate as much as possible)"
   ]
  },
  {
   "cell_type": "markdown",
   "metadata": {},
   "source": [
    "## Feature Extraction vs Data Cleaning<a id=\"sec-2-3\" name=\"sec-2-3\"></a>\n",
    "\n",
    "Feature extraction and data cleaning could almost be used interchangeably, however, there is a fine difference between the two.  While data cleaning is a procedural concept, feature engineering requires skills acquistion by experience and experimentation. In other words, data cleaning operations are mostly bye-products of the feature engineering process. These feature engineering tips will be highlighted as we walk through the data cleaning process."
   ]
  },
  {
   "cell_type": "markdown",
   "metadata": {},
   "source": [
    "### Engineering Features from the Iris Database using Scikit-learn Machine Learning Library\n",
    "In the last laboratory session, we studied two foundational python libraries namely, the NumPy and Pandas libraries.  In today's session we will look at the next library we shall be referencing throughout this course.  This is the scikit-learn library.  This is the major library in python used for data analytics and machine learning. \n",
    "\n",
    "We saw from the last laboratory session that the Iris dataset is a collection of data from three types of flowers of the Iris generic species i.e. the versicolor, virginica and setosa.  We were able to use the LDA algorithm and one feature (i.e. the petal width) to perform some form of classification.  Also based on information from plots of the dataset we are not sure if the petal width is the best feature used for discrimination.  In today's session, we will implement the last session's challenge and at the same time perform data cleaning and feature engineering.  We start by importing all the necessary libraries and with the class definition we started upon in the last lab session.  The first thing will be to implement a single variable LDA and in the second case we will implement the multivariable case and finally the generic case that can morph into whatever instance is required which in OOP is referred to as object polymorphism or the inheritance case."
   ]
  },
  {
   "cell_type": "markdown",
   "metadata": {},
   "source": [
    "### Single Variable LDA Class Implementation\n",
    "\n",
    "In this example we shall be adopting the Scikit-learn convention for implementing machine learning algorithms through their machine learning pipeline.  In this paradigm, we accept the process of getting results from the data will include an overall 2-step process\n",
    "1. Train the data:  This is actually more tha two steps because we assume that the data has been cleaned and feature engineered.  However once this is done, the training process creates the model we will be using to get the outputs.\n",
    "2. Fitting the data:  Once the model is ready, we can then use the model to perform data analysis which would either be a classification or regression analysis.\n",
    "\n",
    "Just as we had pre-model processing steps, we also have post-analysis tasks that we need to consider as part of the Machine Learning Pipeline or ML-Cycle if you like.  These steps include tasks like results and model evaluation and going live.  None the less the core steps in machine learning involve these two steps of Training and fitting data.\n",
    "\n",
    "Thus the Scikit-learn convention of Data analysis includes classes that perform two core operations, training which is given the method Model.fit() and fitting new data to the model i.e. Model.classify(). You need to forgive them for the slight mix up in the terminology but it does follow logically if you think about it deeply.  That is both in model training and model application we are trying to perform one type of fit of one thing against the other.  In training we are fitting the model to the data, while in the model application stage we are trying to see where the data fits given the model.  So to remove that ambiguity they decided to give it the name classify so it doesn't conflict with the previous fit operation.  I guess they may have decided to call the two operations Model.train() and Model.apply() but there you go.  But let us get back on track.  Based on this convention the skeleton of our LDA machine learning class should look like this:\n",
    "```python\n",
    "class DTClass:# Data Preparation Family\n",
    "    def __init__(): #initialise class constructor\n",
    "    def fit():\n",
    "    def Transform():\n",
    "```\n",
    "```python\n",
    "class MLClass:# Machine Learning Family\n",
    "    def __init__(): #initialise class constructor\n",
    "    def fit():\n",
    "    def predict():#we called classify()\n",
    "```\n",
    "This gives us a better understanding of the initial implementation we did here below "
   ]
  },
  {
   "cell_type": "code",
   "execution_count": 2,
   "metadata": {
    "collapsed": true
   },
   "outputs": [],
   "source": [
    "import numpy as np\n",
    "import pandas as pd\n",
    "\n",
    "class LDA:\n",
    "    def __init__(self, data=[],labels=[]):\n",
    "        self.data=data\n",
    "        self.labels=labels\n",
    "        self.fit()\n",
    "        \n",
    "    def fit(self, data=[], labels=[]):\n",
    "        if len(data)>0:\n",
    "            self.data=data\n",
    "        if len(label)>0:\n",
    "            self.labels=labels\n",
    "        if len(self.data)==0 or len(self.labels)==0 or len(self.labels)!=len(self.data):\n",
    "            return print(\"No Data Available or Data mismatch!\")\n",
    "        \n",
    "    def classify(self, x):#predict\n",
    "        #self.fit()\n",
    "        self.true_labels\n",
    "        "
   ]
  },
  {
   "cell_type": "markdown",
   "metadata": {},
   "source": [
    "The above code is implemented such that the X and Y data can be added either in the instance definition or when you attempt to fit the data.  When you attempt to fit the data it will check that there is actually data and that the Labels and the data have the same number of instances.  Now let us add the codes we tested in the last implementation into the fit and classify method as follows:"
   ]
  },
  {
   "cell_type": "markdown",
   "metadata": {},
   "source": [
    "Another point to observe is we are importing the iris dataset from a csv file which will be typical with a lot of real world practical applications we would be implementing."
   ]
  },
  {
   "cell_type": "code",
   "execution_count": 1,
   "metadata": {
    "collapsed": true
   },
   "outputs": [],
   "source": [
    "import numpy as np\n",
    "import pandas as pd\n",
    "\n",
    "class irisLDA:\n",
    "    def __init__(self):\n",
    "        self.iris=pd.read_csv('iris.csv')\n",
    "        self.fit()\n",
    "        \n",
    "    def fit(self):\n",
    "        dset=self.iris.loc[self.iris.species=='setosa']\n",
    "        dvirg=self.iris.loc[self.iris.species=='virginica']\n",
    "        dvers=self.iris.loc[self.iris.species=='versicolor']\n",
    "        \n",
    "\n",
    "        self.p_virg=self.p_vers=self.p_set=1/3\n",
    "\n",
    "        self.set_m=dset.petal_width.mean()\n",
    "        self.vers_m=dvers.petal_width.mean()\n",
    "        self.virg_m=dset.petal_width.mean()\n",
    "\n",
    "        self.set_v=dset.petal_width.var()\n",
    "        self.vers_v=dvers.petal_width.var()\n",
    "        self.virg_v=dvirg.petal_width.var()\n",
    "\n",
    "    def dx(self,mk,vk,pk,xx):\n",
    "        return xx*mk/vk-mk**2/(2*vk)+np.log(pk)\n",
    "\n",
    "    def classify(self, x):\n",
    "        #self.fit()\n",
    "        res=self.dx(np.array([self.set_m,self.virg_m,self.vers_m]),\\\n",
    "                    np.array([self.set_v,self.virg_v,self.vers_v]),\\\n",
    "                    np.array([self.p_set,self.p_virg,self.p_vers]),x)\n",
    "        return 'setosa' if np.argmax(res)==0 else 'virginica' if np.argmax(res)==1 else 'versicolor'"
   ]
  },
  {
   "cell_type": "markdown",
   "metadata": {},
   "source": [
    "#### Alternate Classify Method\n",
    "```python\n",
    "   def classify(self, x):\n",
    "        res1=self.dx(self.set_m,self.set_v,self.p_set,x) #these are\n",
    "        # parameters for setosa\n",
    "        res2=self.dx(self.virg_m,self.virg_v,self.p_virg,x) # these are\n",
    "        # parameters for virginica\n",
    "        res3=self.dx(self.vers_m,self.vers_v,self.p_vers,x) # these are \n",
    "        # parameters for versicolor\n",
    "        \n",
    "        if np.argmax([res1,res2,res3])==0: #since res1 is the first in \n",
    "        # array i.e. index 0 is discriminant for setosa\n",
    "            return 'setosa'\n",
    "        elif np.argmax([res1,res2,res3])==1: # 1 is index for virginica \n",
    "        # discriminant\n",
    "            return 'virginica'\n",
    "        else\n",
    "            return 'versicolor'\n",
    "```"
   ]
  },
  {
   "cell_type": "code",
   "execution_count": 8,
   "metadata": {},
   "outputs": [
    {
     "name": "stdout",
     "output_type": "stream",
     "text": [
      "4 5 6\n"
     ]
    },
    {
     "data": {
      "text/plain": [
       "2"
      ]
     },
     "execution_count": 8,
     "metadata": {},
     "output_type": "execute_result"
    }
   ],
   "source": [
    "import numpy as np\n",
    "L=[4,5,6] \n",
    "print(L[0],L[1],L[2])\n",
    "np.argmax(L) "
   ]
  },
  {
   "cell_type": "code",
   "execution_count": 23,
   "metadata": {},
   "outputs": [
    {
     "data": {
      "text/plain": [
       "'versicolor'"
      ]
     },
     "execution_count": 23,
     "metadata": {},
     "output_type": "execute_result"
    }
   ],
   "source": [
    "irisLDA().classify(2.25)"
   ]
  },
  {
   "cell_type": "code",
   "execution_count": 24,
   "metadata": {},
   "outputs": [
    {
     "data": {
      "text/plain": [
       "'setosa'"
      ]
     },
     "execution_count": 24,
     "metadata": {},
     "output_type": "execute_result"
    }
   ],
   "source": [
    "irisLDA().classify(0.25)"
   ]
  },
  {
   "cell_type": "markdown",
   "metadata": {},
   "source": [
    "So the class works but doesn't feel robust enough because it can only work for iris dataset which is fine but we can do better.  In this class we see here the discriminating function dx appearing as a operation in the class that is called by the classify method.  This class though restrictive shows how we can arrange our code based on the fit and classify method."
   ]
  },
  {
   "cell_type": "markdown",
   "metadata": {},
   "source": [
    "### Data Cleaning, Feature Engineering and Generic LDA\n",
    "\n",
    "It is time to get into the nitty gritty of data cleaning and feature extraction.  In the single variable case we just chose a random-feature to implement our LDA algorithm. This is not usually the best practice for Machine Learning.  The ideal thing to do is to study the data and using a combination of testing and best practices select the most promising features.  This would probably involve visualising the data and performing various data transformations we will introduce in this sections."
   ]
  },
  {
   "cell_type": "markdown",
   "metadata": {},
   "source": [
    "#### Implementing a Generic Single Variable LDA\n",
    "\n",
    "For this single variabel Generic LDA implementation, perform the following steps:\n",
    "\n",
    "Input data extraction:\n",
    "1. Extract labels columns (target or y-values) from the dataset\n",
    "2. Extract the chosen feature from the dataset (training or x-values)\n",
    "3. Feed them into the Single Variable LDA class either from the initialiser or the fit function.\n",
    "4. Call the classify  method\n",
    "\n",
    "Within the Single Variable Generic LDA (SVG-LDA) class we perform the following:\n",
    "1. Perform data integrity checks this would include\n",
    "   - lengths check\n",
    "   - Number of columns check\n",
    "2. Extract the number of classes from the labelled data\n",
    "3. Implement remainder of algorithm previously implemented in the irisLDA class namely:\n",
    "   - Extract sub data set containing each of the labels\n",
    "   - Calculate the discriminating parameters of each of the labels or classes\n",
    "   - The discriminating and classification functions remain the same"
   ]
  },
  {
   "cell_type": "markdown",
   "metadata": {},
   "source": [
    "We can see based on the above process that the fit function and constructor only will be modified from the irisLDA class and the discrimanatory and classify functions remains unmodified."
   ]
  },
  {
   "cell_type": "markdown",
   "metadata": {},
   "source": [
    "For step 2 to extract classes from labeled data we use the pandas library. In the sample code below, we first use the read_csv() function to open the file then, we call the head() function to determine the labels column.  Next, we call the value_counts() functions to show the individual labels and their counts.  This function returns a pandas series or 1-D indexed array.  We can use the index and values property to get the array of indexes which are the string labels or the values array which are the counts.  We need both of these properties for the step 2 and 3 of the SVG-LDA implementation.  We should also put a check to ensure that the number of classes or labels are greater than 1."
   ]
  },
  {
   "cell_type": "code",
   "execution_count": 10,
   "metadata": {},
   "outputs": [
    {
     "data": {
      "text/html": [
       "<div>\n",
       "<style>\n",
       "    .dataframe thead tr:only-child th {\n",
       "        text-align: right;\n",
       "    }\n",
       "\n",
       "    .dataframe thead th {\n",
       "        text-align: left;\n",
       "    }\n",
       "\n",
       "    .dataframe tbody tr th {\n",
       "        vertical-align: top;\n",
       "    }\n",
       "</style>\n",
       "<table border=\"1\" class=\"dataframe\">\n",
       "  <thead>\n",
       "    <tr style=\"text-align: right;\">\n",
       "      <th></th>\n",
       "      <th>Unnamed: 0</th>\n",
       "      <th>sepal_length</th>\n",
       "      <th>sepal_width</th>\n",
       "      <th>petal_length</th>\n",
       "      <th>petal_width</th>\n",
       "      <th>species</th>\n",
       "    </tr>\n",
       "  </thead>\n",
       "  <tbody>\n",
       "    <tr>\n",
       "      <th>0</th>\n",
       "      <td>0</td>\n",
       "      <td>5.1</td>\n",
       "      <td>3.5</td>\n",
       "      <td>1.4</td>\n",
       "      <td>0.2</td>\n",
       "      <td>setosa</td>\n",
       "    </tr>\n",
       "    <tr>\n",
       "      <th>1</th>\n",
       "      <td>1</td>\n",
       "      <td>4.9</td>\n",
       "      <td>3.0</td>\n",
       "      <td>1.4</td>\n",
       "      <td>0.2</td>\n",
       "      <td>setosa</td>\n",
       "    </tr>\n",
       "    <tr>\n",
       "      <th>2</th>\n",
       "      <td>2</td>\n",
       "      <td>4.7</td>\n",
       "      <td>3.2</td>\n",
       "      <td>1.3</td>\n",
       "      <td>0.2</td>\n",
       "      <td>setosa</td>\n",
       "    </tr>\n",
       "    <tr>\n",
       "      <th>3</th>\n",
       "      <td>3</td>\n",
       "      <td>4.6</td>\n",
       "      <td>3.1</td>\n",
       "      <td>1.5</td>\n",
       "      <td>0.2</td>\n",
       "      <td>setosa</td>\n",
       "    </tr>\n",
       "    <tr>\n",
       "      <th>4</th>\n",
       "      <td>4</td>\n",
       "      <td>5.0</td>\n",
       "      <td>3.6</td>\n",
       "      <td>1.4</td>\n",
       "      <td>0.2</td>\n",
       "      <td>setosa</td>\n",
       "    </tr>\n",
       "  </tbody>\n",
       "</table>\n",
       "</div>"
      ],
      "text/plain": [
       "   Unnamed: 0  sepal_length  sepal_width  petal_length  petal_width species\n",
       "0           0           5.1          3.5           1.4          0.2  setosa\n",
       "1           1           4.9          3.0           1.4          0.2  setosa\n",
       "2           2           4.7          3.2           1.3          0.2  setosa\n",
       "3           3           4.6          3.1           1.5          0.2  setosa\n",
       "4           4           5.0          3.6           1.4          0.2  setosa"
      ]
     },
     "execution_count": 10,
     "metadata": {},
     "output_type": "execute_result"
    }
   ],
   "source": [
    "import numpy as np\n",
    "import pandas as pd\n",
    "iris=pd.read_csv('iris.csv')\n",
    "iris.head()"
   ]
  },
  {
   "cell_type": "code",
   "execution_count": 13,
   "metadata": {},
   "outputs": [
    {
     "name": "stdout",
     "output_type": "stream",
     "text": [
      "setosa        50\n",
      "versicolor    50\n",
      "virginica     50\n",
      "Name: species, dtype: int64\n",
      "<class 'pandas.core.series.Series'>\n",
      "50\n",
      "[50 50 50]\n",
      "Index(['setosa', 'versicolor', 'virginica'], dtype='object')\n",
      "<class 'float'>\n"
     ]
    }
   ],
   "source": [
    "chk=iris.species.value_counts()\n",
    "print(chk)\n",
    "print(type(chk))\n",
    "print(chk.versicolor)\n",
    "print(chk.values)\n",
    "print(chk.index)\n",
    "print(type(64.0))"
   ]
  },
  {
   "cell_type": "markdown",
   "metadata": {},
   "source": [
    "Before we can compute the various parameters for the LDA algorithm we need to merge the labels and data into one dataset.  we shal use the pandas dataframe object to merge the two columns containing the petal_width and the species labels into one dataset as follows:"
   ]
  },
  {
   "cell_type": "code",
   "execution_count": 38,
   "metadata": {
    "collapsed": true
   },
   "outputs": [],
   "source": [
    "labels=iris['species'].copy()"
   ]
  },
  {
   "cell_type": "code",
   "execution_count": 39,
   "metadata": {
    "collapsed": true
   },
   "outputs": [],
   "source": [
    "data=iris['petal_width'].copy()"
   ]
  },
  {
   "cell_type": "code",
   "execution_count": 51,
   "metadata": {},
   "outputs": [
    {
     "data": {
      "text/html": [
       "<div>\n",
       "<style>\n",
       "    .dataframe thead tr:only-child th {\n",
       "        text-align: right;\n",
       "    }\n",
       "\n",
       "    .dataframe thead th {\n",
       "        text-align: left;\n",
       "    }\n",
       "\n",
       "    .dataframe tbody tr th {\n",
       "        vertical-align: top;\n",
       "    }\n",
       "</style>\n",
       "<table border=\"1\" class=\"dataframe\">\n",
       "  <thead>\n",
       "    <tr style=\"text-align: right;\">\n",
       "      <th></th>\n",
       "      <th>data</th>\n",
       "      <th>lab</th>\n",
       "    </tr>\n",
       "  </thead>\n",
       "  <tbody>\n",
       "    <tr>\n",
       "      <th>0</th>\n",
       "      <td>0.2</td>\n",
       "      <td>setosa</td>\n",
       "    </tr>\n",
       "    <tr>\n",
       "      <th>1</th>\n",
       "      <td>0.2</td>\n",
       "      <td>setosa</td>\n",
       "    </tr>\n",
       "    <tr>\n",
       "      <th>2</th>\n",
       "      <td>0.2</td>\n",
       "      <td>setosa</td>\n",
       "    </tr>\n",
       "    <tr>\n",
       "      <th>3</th>\n",
       "      <td>0.2</td>\n",
       "      <td>setosa</td>\n",
       "    </tr>\n",
       "    <tr>\n",
       "      <th>4</th>\n",
       "      <td>0.2</td>\n",
       "      <td>setosa</td>\n",
       "    </tr>\n",
       "  </tbody>\n",
       "</table>\n",
       "</div>"
      ],
      "text/plain": [
       "   data     lab\n",
       "0   0.2  setosa\n",
       "1   0.2  setosa\n",
       "2   0.2  setosa\n",
       "3   0.2  setosa\n",
       "4   0.2  setosa"
      ]
     },
     "execution_count": 51,
     "metadata": {},
     "output_type": "execute_result"
    }
   ],
   "source": [
    "dataset=pd.DataFrame({'data':data, 'lab':labels})\n",
    "dataset.head()"
   ]
  },
  {
   "cell_type": "markdown",
   "metadata": {},
   "source": [
    "To get the probability of each label will be the value_counts divided by the sum of the value counts.  We can perform this in a single line of code as follows:"
   ]
  },
  {
   "cell_type": "code",
   "execution_count": 52,
   "metadata": {},
   "outputs": [
    {
     "data": {
      "text/plain": [
       "versicolor    0.333333\n",
       "setosa        0.333333\n",
       "virginica     0.333333\n",
       "Name: species, dtype: float64"
      ]
     },
     "execution_count": 52,
     "metadata": {},
     "output_type": "execute_result"
    }
   ],
   "source": [
    "chk/sum(chk.values)"
   ]
  },
  {
   "cell_type": "markdown",
   "metadata": {},
   "source": [
    "Similarly, to obtain the mean and variance for the combined dataset is as follows:"
   ]
  },
  {
   "cell_type": "code",
   "execution_count": 55,
   "metadata": {},
   "outputs": [
    {
     "data": {
      "text/html": [
       "<div>\n",
       "<style>\n",
       "    .dataframe thead tr:only-child th {\n",
       "        text-align: right;\n",
       "    }\n",
       "\n",
       "    .dataframe thead th {\n",
       "        text-align: left;\n",
       "    }\n",
       "\n",
       "    .dataframe tbody tr th {\n",
       "        vertical-align: top;\n",
       "    }\n",
       "</style>\n",
       "<table border=\"1\" class=\"dataframe\">\n",
       "  <thead>\n",
       "    <tr style=\"text-align: right;\">\n",
       "      <th></th>\n",
       "      <th>data</th>\n",
       "      <th>lab</th>\n",
       "    </tr>\n",
       "  </thead>\n",
       "  <tbody>\n",
       "    <tr>\n",
       "      <th>50</th>\n",
       "      <td>1.4</td>\n",
       "      <td>versicolor</td>\n",
       "    </tr>\n",
       "    <tr>\n",
       "      <th>51</th>\n",
       "      <td>1.5</td>\n",
       "      <td>versicolor</td>\n",
       "    </tr>\n",
       "    <tr>\n",
       "      <th>52</th>\n",
       "      <td>1.5</td>\n",
       "      <td>versicolor</td>\n",
       "    </tr>\n",
       "    <tr>\n",
       "      <th>53</th>\n",
       "      <td>1.3</td>\n",
       "      <td>versicolor</td>\n",
       "    </tr>\n",
       "    <tr>\n",
       "      <th>54</th>\n",
       "      <td>1.5</td>\n",
       "      <td>versicolor</td>\n",
       "    </tr>\n",
       "  </tbody>\n",
       "</table>\n",
       "</div>"
      ],
      "text/plain": [
       "    data         lab\n",
       "50   1.4  versicolor\n",
       "51   1.5  versicolor\n",
       "52   1.5  versicolor\n",
       "53   1.3  versicolor\n",
       "54   1.5  versicolor"
      ]
     },
     "execution_count": 55,
     "metadata": {},
     "output_type": "execute_result"
    }
   ],
   "source": [
    "ds = [dataset.loc[dataset.lab==label] for label in chk.index]\n",
    "ds[0].head()"
   ]
  },
  {
   "cell_type": "code",
   "execution_count": 54,
   "metadata": {},
   "outputs": [
    {
     "data": {
      "text/plain": [
       "versicolor    50\n",
       "setosa        50\n",
       "virginica     50\n",
       "Name: lab, dtype: int64"
      ]
     },
     "execution_count": 54,
     "metadata": {},
     "output_type": "execute_result"
    }
   ],
   "source": [
    "dataset.lab.value_counts()"
   ]
  },
  {
   "cell_type": "code",
   "execution_count": 56,
   "metadata": {},
   "outputs": [
    {
     "data": {
      "text/plain": [
       "[1.3259999999999998, 0.2459999999999999, 2.026]"
      ]
     },
     "execution_count": 56,
     "metadata": {},
     "output_type": "execute_result"
    }
   ],
   "source": [
    "means=[d.data.mean() for d in ds]\n",
    "means"
   ]
  },
  {
   "cell_type": "code",
   "execution_count": 57,
   "metadata": {},
   "outputs": [
    {
     "data": {
      "text/plain": [
       "[0.039106122448979576, 0.0111061224489796, 0.07543265306122447]"
      ]
     },
     "execution_count": 57,
     "metadata": {},
     "output_type": "execute_result"
    }
   ],
   "source": [
    "dvars=[d.data.var() for d in ds]\n",
    "dvars"
   ]
  },
  {
   "cell_type": "markdown",
   "metadata": {},
   "source": [
    "The complete Implementation is as follows:"
   ]
  },
  {
   "cell_type": "code",
   "execution_count": null,
   "metadata": {
    "collapsed": true
   },
   "outputs": [],
   "source": [
    "import numpy as np\n",
    "import pandas as pd\n",
    "\n",
    "class SVG_LDA:\n",
    "    def __init__(self, data=[],labels=[]):\n",
    "        self.data=data\n",
    "        self.labels=labels\n",
    "        self.initialised=False\n",
    "        self.fit()\n",
    "        \n",
    "    def fit(self, data=[],labels=[]):\n",
    "        if len(data)>0:\n",
    "            self.data=data\n",
    "        if len(label)>0:\n",
    "            self.labels=labels\n",
    "        if len(self.data)==0 or len(self.labels)==0 or len(self.labels)!=len(self.data):\n",
    "            return print(\"No Data Available or Data mismatch!\")\n",
    "\n",
    "        self.unique_labels=labels.value_counts()\n",
    "        \n",
    "        self.probs=self.unique_labels/sum(self.unique_label.values).values\n",
    "        \n",
    "        self.unique_labels=self.unique_labels.index\n",
    "        \n",
    "        #check labels are greater than one\n",
    "        if (len(self.unique_labels)<2):\n",
    "            return print(\"Insufficient data in dataset\")\n",
    "\n",
    "        self.ds = [dataset.loc[dataset.lab==label] for label in self.unique_labels]\n",
    "\n",
    "        self.means=[d.data.mean() for d in self.ds]\n",
    "\n",
    "        self.vars=[d.data.var() for d in self.ds]\n",
    "        \n",
    "        self.initialised=True\n",
    "\n",
    "    def dx(self,mk,vk,pk,xx):\n",
    "        return xx*mk/vk-mk**2/(2*vk)+np.log(pk)\n",
    "\n",
    "    def classify(self, x):# predict\n",
    "        if(not self.initialised):\n",
    "            return print(\"Dataset is not valid!\")\n",
    "        res=self.dx(self.means,self.vars,self.probs,x)\n",
    "        return self.unique_labels[np.argmax(res)]"
   ]
  },
  {
   "cell_type": "markdown",
   "metadata": {},
   "source": [
    "The above code implements the SVG_LDA algorithm.  Notice again the changes within the fit and classify methods, while there are no changes within the dx method.  The changes are to cater for the fact that we do not know ahead of time what the labels are therefore we must put the labels in an array at run time and process the data accordingly by looping through the labels array.  Observe that this process does simplify the classify method because numpy is able to handle any math operation on an element wise basis.  This same numpy trick ensures that the dx method also remain unmodified.\n",
    "\n",
    "Robust as this code is it is not yet bullet proof in our next iteration we want to implement a Generic LDA algorithm that can handle both the single variable and multi-variable case by checking if the incoming data has more than one column.  If it does have more than one column then it is a multivariable combination if not a single variable combination."
   ]
  },
  {
   "cell_type": "markdown",
   "metadata": {},
   "source": [
    "### Full Generic LDA Implementation (inc)\n",
    "\n",
    "Recall the formula for the Multivariable LDA as follows:\n",
    "$$D_k(x)=x\\times\\frac{\\sum_{i=1}^m\\frac{\\mu_k}{m}}{\\Delta\\Sigma^2_k}-\\frac{\\sum_{i=1}^m\\frac{\\mu_k^2}{m}}{2\\times \\Delta\\Sigma^2_k}+\\ln(P(k)) - - - (1)$$\n",
    "where\n",
    "$$\\begin{matrix}\n",
    " D_k(x)&=&\\text{Classification of data, x}& \\\\\n",
    " k&=&\\text{class k}& \\\\\n",
    " \\mu_k &=& \\frac{1}{n_k}\\sum_{i=1}^nx_i\n",
    "& \\text{mean of class k} - - - (2)\\end{matrix}$$\n",
    "$$\\begin{matrix}\n",
    " \\Delta\\Sigma^2_k &=& det\\left[\\frac{1}{n-K}\\sum_{i=1}^n(x_i-\\mu_{ik})(x_j-\\mu_{jk})\\right] & \\text{determinant of covariance matrix of class k}\n",
    "\\end{matrix} - - - (3)$$\n"
   ]
  },
  {
   "cell_type": "markdown",
   "metadata": {},
   "source": [
    "For the multi-variable LDA implementation, we need to cater for multiple independent variable.  The formula above indicates that we will require the average means of all the columns involved in the input data as well as the covariance matrix determinant values.  We therefore need to perform the following tasks:\n",
    "\n",
    "1. Obtain the number of columns in a dataset.\n",
    "2. Obtain the covariance matrix of a pandas dataframe\n",
    "3. Obtain the determinant of a matrix in pandas/numpy\n",
    "4. Means to switch between the single-variable and multi-variable implementation  to obtain a full generic LDA implementation"
   ]
  },
  {
   "cell_type": "markdown",
   "metadata": {},
   "source": [
    "Firstly, let's obtain a new dataset comprising all the columns minus the 'species' label column"
   ]
  },
  {
   "cell_type": "code",
   "execution_count": 62,
   "metadata": {},
   "outputs": [
    {
     "data": {
      "text/html": [
       "<div>\n",
       "<style>\n",
       "    .dataframe thead tr:only-child th {\n",
       "        text-align: right;\n",
       "    }\n",
       "\n",
       "    .dataframe thead th {\n",
       "        text-align: left;\n",
       "    }\n",
       "\n",
       "    .dataframe tbody tr th {\n",
       "        vertical-align: top;\n",
       "    }\n",
       "</style>\n",
       "<table border=\"1\" class=\"dataframe\">\n",
       "  <thead>\n",
       "    <tr style=\"text-align: right;\">\n",
       "      <th></th>\n",
       "      <th>sepal_length</th>\n",
       "      <th>sepal_width</th>\n",
       "      <th>petal_length</th>\n",
       "      <th>petal_width</th>\n",
       "    </tr>\n",
       "  </thead>\n",
       "  <tbody>\n",
       "    <tr>\n",
       "      <th>0</th>\n",
       "      <td>5.1</td>\n",
       "      <td>3.5</td>\n",
       "      <td>1.4</td>\n",
       "      <td>0.2</td>\n",
       "    </tr>\n",
       "    <tr>\n",
       "      <th>1</th>\n",
       "      <td>4.9</td>\n",
       "      <td>3.0</td>\n",
       "      <td>1.4</td>\n",
       "      <td>0.2</td>\n",
       "    </tr>\n",
       "    <tr>\n",
       "      <th>2</th>\n",
       "      <td>4.7</td>\n",
       "      <td>3.2</td>\n",
       "      <td>1.3</td>\n",
       "      <td>0.2</td>\n",
       "    </tr>\n",
       "    <tr>\n",
       "      <th>3</th>\n",
       "      <td>4.6</td>\n",
       "      <td>3.1</td>\n",
       "      <td>1.5</td>\n",
       "      <td>0.2</td>\n",
       "    </tr>\n",
       "    <tr>\n",
       "      <th>4</th>\n",
       "      <td>5.0</td>\n",
       "      <td>3.6</td>\n",
       "      <td>1.4</td>\n",
       "      <td>0.2</td>\n",
       "    </tr>\n",
       "  </tbody>\n",
       "</table>\n",
       "</div>"
      ],
      "text/plain": [
       "   sepal_length  sepal_width  petal_length  petal_width\n",
       "0           5.1          3.5           1.4          0.2\n",
       "1           4.9          3.0           1.4          0.2\n",
       "2           4.7          3.2           1.3          0.2\n",
       "3           4.6          3.1           1.5          0.2\n",
       "4           5.0          3.6           1.4          0.2"
      ]
     },
     "execution_count": 62,
     "metadata": {},
     "output_type": "execute_result"
    }
   ],
   "source": [
    "dataset=iris.drop('species',axis=1)\n",
    "#we also drop unnamed:0 as it was added during import\n",
    "dataset=dataset.drop('Unnamed: 0',axis=1)\n",
    "dataset.head()"
   ]
  },
  {
   "cell_type": "code",
   "execution_count": 65,
   "metadata": {},
   "outputs": [
    {
     "data": {
      "text/plain": [
       "4"
      ]
     },
     "execution_count": 65,
     "metadata": {},
     "output_type": "execute_result"
    }
   ],
   "source": [
    "#step 1 get the number of columns in the dataset\n",
    "dataset.columns.size"
   ]
  },
  {
   "cell_type": "code",
   "execution_count": 68,
   "metadata": {},
   "outputs": [
    {
     "data": {
      "text/html": [
       "<div>\n",
       "<style>\n",
       "    .dataframe thead tr:only-child th {\n",
       "        text-align: right;\n",
       "    }\n",
       "\n",
       "    .dataframe thead th {\n",
       "        text-align: left;\n",
       "    }\n",
       "\n",
       "    .dataframe tbody tr th {\n",
       "        vertical-align: top;\n",
       "    }\n",
       "</style>\n",
       "<table border=\"1\" class=\"dataframe\">\n",
       "  <thead>\n",
       "    <tr style=\"text-align: right;\">\n",
       "      <th></th>\n",
       "      <th>sepal_length</th>\n",
       "      <th>sepal_width</th>\n",
       "      <th>petal_length</th>\n",
       "      <th>petal_width</th>\n",
       "    </tr>\n",
       "  </thead>\n",
       "  <tbody>\n",
       "    <tr>\n",
       "      <th>sepal_length</th>\n",
       "      <td>0.685694</td>\n",
       "      <td>-0.042434</td>\n",
       "      <td>1.274315</td>\n",
       "      <td>0.516271</td>\n",
       "    </tr>\n",
       "    <tr>\n",
       "      <th>sepal_width</th>\n",
       "      <td>-0.042434</td>\n",
       "      <td>0.189979</td>\n",
       "      <td>-0.329656</td>\n",
       "      <td>-0.121639</td>\n",
       "    </tr>\n",
       "    <tr>\n",
       "      <th>petal_length</th>\n",
       "      <td>1.274315</td>\n",
       "      <td>-0.329656</td>\n",
       "      <td>3.116278</td>\n",
       "      <td>1.295609</td>\n",
       "    </tr>\n",
       "    <tr>\n",
       "      <th>petal_width</th>\n",
       "      <td>0.516271</td>\n",
       "      <td>-0.121639</td>\n",
       "      <td>1.295609</td>\n",
       "      <td>0.581006</td>\n",
       "    </tr>\n",
       "  </tbody>\n",
       "</table>\n",
       "</div>"
      ],
      "text/plain": [
       "              sepal_length  sepal_width  petal_length  petal_width\n",
       "sepal_length      0.685694    -0.042434      1.274315     0.516271\n",
       "sepal_width      -0.042434     0.189979     -0.329656    -0.121639\n",
       "petal_length      1.274315    -0.329656      3.116278     1.295609\n",
       "petal_width       0.516271    -0.121639      1.295609     0.581006"
      ]
     },
     "execution_count": 68,
     "metadata": {},
     "output_type": "execute_result"
    }
   ],
   "source": [
    "#step 2: Calculate the covariance matrix\n",
    "dataset.cov()"
   ]
  },
  {
   "cell_type": "code",
   "execution_count": 70,
   "metadata": {},
   "outputs": [
    {
     "data": {
      "text/plain": [
       "0.0019127296684331877"
      ]
     },
     "execution_count": 70,
     "metadata": {},
     "output_type": "execute_result"
    }
   ],
   "source": [
    "#step 3: Calculate the determinant of the covariance matrix\n",
    "np.linalg.det(dataset.cov())"
   ]
  },
  {
   "cell_type": "markdown",
   "metadata": {},
   "source": [
    "Being equiped with all the prequisites for FG_LDA the implementation becomes a trivial task as follows\n"
   ]
  },
  {
   "cell_type": "code",
   "execution_count": null,
   "metadata": {
    "collapsed": true
   },
   "outputs": [],
   "source": [
    "import numpy as np\n",
    "import pandas as pd\n",
    "\n",
    "class FG_LDA:\n",
    "    def __init__(self, data=[],labels=[]):\n",
    "        self.data=data\n",
    "        self.labels=labels\n",
    "        self.initialised=False\n",
    "        self.fit()\n",
    "        \n",
    "    def fit(self, data=[],labels=[]):\n",
    "        if len(data)>0:\n",
    "            self.data=data\n",
    "        if len(label)>0:\n",
    "            self.labels=labels\n",
    "        if len(self.data)==0 or len(self.labels)==0 or len(self.labels)!=len(self.data):\n",
    "            return print(\"No Data Available or Data mismatch!\")\n",
    "\n",
    "        self.unique_labels=labels.value_counts()\n",
    "        \n",
    "        self.probs=self.unique_labels/sum(self.unique_label.values).values\n",
    "        \n",
    "        self.unique_labels=self.unique_labels.index\n",
    "        \n",
    "        #check labels are greater than one\n",
    "        if (len(self.unique_labels)<2):\n",
    "            return print(\"Insufficient data in dataset\")\n",
    "\n",
    "        self.ds = [dataset.loc[dataset.lab==label] for label in self.unique_labels]\n",
    "\n",
    "        self.means=[d.data.mean() for d in self.ds]\n",
    "\n",
    "        self.vars=[d.data.var() for d in self.ds]\n",
    "        \n",
    "        self.initialised=True\n",
    "\n",
    "    def dx(self,mk,vk,pk,xx):\n",
    "        return xx*mk/vk-mk**2/(2*vk)+np.log(pk)\n",
    "\n",
    "    def classify(self, x):\n",
    "        if(not self.initialised):\n",
    "            return print(\"Dataset is not valid!\")\n",
    "        res=self.dx(self.means,self.vars,self.probs,x)\n",
    "        return self.unique_labels[np.argmax(res)]"
   ]
  },
  {
   "cell_type": "markdown",
   "metadata": {},
   "source": [
    "## Introduction to Scikit-Learn: Processing Textual Information\n",
    "\n",
    "In this section will use logistic regression (classification) for the iris database to see how we can analyse textual data.\n",
    "\n",
    "The good thing about the LDA algorithm we rigorously implemented is the fact that it can handle labels as text.  Not all machine learning algorithms have the ability to do this.  For instance logistic regression maps the output to zero or one and therefore labels need to be encoded in order to perform logistic classification.\n",
    "\n",
    "As far as processing textual information as numerical data in machine learning is concerned, there are two major techniques for achieving this:\n",
    "1. Using categorical information\n",
    "2. Using one-hot encoding\n",
    "\n",
    "We discuss the two methods, however in practice it is safe to say that one-hot encoding is by far more common and natural to use even though quite counter intuitive. The one hot encoding also has a disadvantage of encouraging data sparsity which is in practice is memory expensive.  While categorical data assigns a positive integer to each feature type in the data column, one hot encoding creates extra columns for each data type in the data column and assigns a binary value of one where the feature class exists and zero on every other row.\n",
    "\n",
    "For the iris dataset for instance, categorical encocding will assign 0 to setosa, 1 to virginica and 2 to versicolor.  The sample code is shown below:"
   ]
  },
  {
   "cell_type": "code",
   "execution_count": null,
   "metadata": {
    "collapsed": true
   },
   "outputs": [],
   "source": [
    "housing['ocean_proximity'].value_counts()\n",
    "\n",
    "# In[26]:\n",
    "housing_cat=housing['ocean_proximity']\n",
    "housing_cat.head(10)\n",
    "\n",
    "# In[27]:\n",
    "housing_cat_encoded,housing_categories=housing_cat.factorize()\n",
    "housing_cat_encoded[:10]\n",
    "\n",
    "# In[28]:\n",
    "y=pd.Series(housing_cat_encoded)\n",
    "\n",
    "# In[29]:\n",
    "y.value_counts()"
   ]
  },
  {
   "cell_type": "markdown",
   "metadata": {},
   "source": [
    "The one hot encoding version is achieved by making use of the scikit-learn library as follows:"
   ]
  },
  {
   "cell_type": "code",
   "execution_count": null,
   "metadata": {
    "collapsed": true
   },
   "outputs": [],
   "source": [
    "# ### SkLearn One Hot Encoder\n",
    "# In[30]:\n",
    "from sklearn.preprocessing import OneHotEncoder\n",
    "encoder=OneHotEncoder()\n",
    "housing_cat_1hot=encoder.fit_transform(housing_cat_encoded.reshape(-1,1))\n",
    "housing_cat_1hot\n",
    "\n",
    "# In[31]:\n",
    "housing_cat_1hot.toarray()"
   ]
  },
  {
   "cell_type": "markdown",
   "metadata": {},
   "source": [
    "We have seen one method of creating a DataFrame from individual DataFrame columns.  The code below shows a method of combining existing DataFrame by extending from Scikit-Learn's Transformer class which is a generic class for Datatransformations carried.\n",
    "\n",
    "In addition to column addition, a stadard machine learning transformation which is crucial for a handful of Machine learning algorithms is the dataset normalisation operation. The code below also implements data normalisation as well as demonstrates how the various data cleaning steps can be implemented in the Scikit-Learn's pipeline.  Thus, the process of data cleaning can be implemented as an automated that can be reused and finetuned according to parameters we chose."
   ]
  },
  {
   "cell_type": "code",
   "execution_count": null,
   "metadata": {
    "collapsed": true
   },
   "outputs": [],
   "source": [
    "# ### Feature Scaling Pipeline\n",
    "# \n",
    "# In[33]:\n",
    "from sklearn.base import BaseEstimator, TransformerMixin\n",
    "# column index\n",
    "rooms_ix, bedrooms_ix, population_ix, household_ix = 3, 4, 5, 6\n",
    "\n",
    "class CombinedAttributesAdder(BaseEstimator, TransformerMixin):\n",
    "    def __init__(self, add_bedrooms_per_room = True): # no *args or **kargs\n",
    "        self.add_bedrooms_per_room = add_bedrooms_per_room\n",
    "    def fit(self, X, y=None):\n",
    "        return self  # nothing else to do\n",
    "    def transform(self, X, y=None):\n",
    "        rooms_per_household = X[:, rooms_ix] / X[:, household_ix]\n",
    "        population_per_household = X[:, population_ix] / X[:, household_ix]\n",
    "        if self.add_bedrooms_per_room:\n",
    "            bedrooms_per_room = X[:, bedrooms_ix] / X[:, rooms_ix]\n",
    "            return np.c_[X, rooms_per_household, population_per_household,\n",
    "                         bedrooms_per_room]\n",
    "        else:\n",
    "            return np.c_[X, rooms_per_household, population_per_household]\n",
    "\n",
    "attr_adder = CombinedAttributesAdder(add_bedrooms_per_room=False)\n",
    "housing_extra_attribs = attr_adder.transform(housing.values)\n",
    "\n",
    "# In[38]:\n",
    "housing_extra_attribs = pd.DataFrame(housing_extra_attribs, columns=list(housing.columns)+[\"rooms_per_household\", \"population_per_household\"])\n",
    "housing_extra_attribs.head()\n",
    "\n",
    "# In[39]:\n",
    "housing.head()\n",
    "\n",
    "# In[40]:\n",
    "from sklearn.pipeline import Pipeline\n",
    "from sklearn.preprocessing import StandardScaler\n",
    "\n",
    "num_pipeline=Pipeline([\n",
    "    ('imputer', Imputer(strategy=\"median\")),\n",
    "    ('attribs_adder',CombinedAttributesAdder()),\n",
    "    ('std_scaler',StandardScaler()),\n",
    "    ])\n",
    "housing_num_tr=num_pipeline.fit_transform(housing_num)"
   ]
  },
  {
   "cell_type": "markdown",
   "metadata": {},
   "source": [
    "In the laboratory session of day three, we will discover how we can implement a Logistic regression class from scratch but in this session would be examining the ready-made version from the scikit-learn library."
   ]
  },
  {
   "cell_type": "code",
   "execution_count": 1,
   "metadata": {},
   "outputs": [
    {
     "data": {
      "image/png": "[encoded data removed]",
      "text/plain": [
       "<matplotlib.figure.Figure at 0x7f3bbab7d5c0>"
      ]
     },
     "metadata": {},
     "output_type": "display_data"
    }
   ],
   "source": [
    "import numpy as np\n",
    "import matplotlib.pyplot as plt\n",
    "from sklearn import linear_model, datasets\n",
    "\n",
    "# import some data to play with\n",
    "iris = datasets.load_iris()\n",
    "X = iris.data[:, :2]  # we only take the first two features.\n",
    "Y = iris.target\n",
    "\n",
    "h = .02  # step size in the mesh\n",
    "\n",
    "logreg = linear_model.LogisticRegression(C=1e5)\n",
    "\n",
    "# we create an instance of Neighbours Classifier and fit the data.\n",
    "logreg.fit(X, Y)\n",
    "\n",
    "# Plot the decision boundary. For that, we will assign a color to each\n",
    "# point in the mesh [x_min, x_max]x[y_min, y_max].\n",
    "x_min, x_max = X[:, 0].min() - .5, X[:, 0].max() + .5\n",
    "y_min, y_max = X[:, 1].min() - .5, X[:, 1].max() + .5\n",
    "xx, yy = np.meshgrid(np.arange(x_min, x_max, h), np.arange(y_min, y_max, h))\n",
    "Z = logreg.predict(np.c_[xx.ravel(), yy.ravel()])\n",
    "\n",
    "# Put the result into a color plot\n",
    "Z = Z.reshape(xx.shape)\n",
    "plt.figure(1, figsize=(4, 3))\n",
    "plt.pcolormesh(xx, yy, Z, cmap=plt.cm.Paired)\n",
    "\n",
    "# Plot also the training points\n",
    "plt.scatter(X[:, 0], X[:, 1], c=Y, edgecolors='k', cmap=plt.cm.Paired)\n",
    "plt.xlabel('Sepal length')\n",
    "plt.ylabel('Sepal width')\n",
    "\n",
    "plt.xlim(xx.min(), xx.max())\n",
    "plt.ylim(yy.min(), yy.max())\n",
    "plt.xticks(())\n",
    "plt.yticks(())\n",
    "\n",
    "plt.show()"
   ]
  },
  {
   "cell_type": "markdown",
   "metadata": {},
   "source": [
    "The above code gives a taste of how the sklearn library can perform various forms of regression and classification tasks as well as some advanced visualisation techniques that demonstrates how the algorithm performs discrimination among classes using a plot.  We can see here that the discrimination is still not perfect especially as two classes pretty much intermingle within each other. In the next section, we examine other important data cleaning operations.  This includes how we can produce some of these plots above, dealing with inconsistent data and most importantly the importance of dividing up the dataset into various samples for training and testing."
   ]
  },
  {
   "cell_type": "markdown",
   "metadata": {},
   "source": [
    "## Other Data cleaning operations"
   ]
  },
  {
   "cell_type": "raw",
   "metadata": {},
   "source": [
    "# In[3]:\n",
    "housing.info()\n",
    "\n",
    "# In[5]:\n",
    "housing.describe()\n",
    "\n",
    "# In[6]:\n",
    "import numpy as np\n",
    "np.random.seed(42)\n",
    "def split_train_test(data, test_ratio):\n",
    "    shuffled_indices=np.random.permutation(len(data))\n",
    "    test_set_size=int(len(data) * test_ratio)\n",
    "    test_indices=shuffled_indices[:test_set_size]\n",
    "    train_indices=shuffled_indices[test_set_size:]\n",
    "    return data.iloc[train_indices],data.iloc[test_indices]\n",
    "\n",
    "# In[7]:\n",
    "train_set,test_set=split_train_test(housing,0.2)\n",
    "print(len(train_set), \"train +\", len(test_set),\"test\")\n",
    "\n",
    "# In[8]:\n",
    "get_ipython().magic(u'matplotlib inline')\n",
    "import matplotlib.pyplot as plt\n",
    "housing.hist(bins=50, figsize=(20,15))\n",
    "\n",
    "# In[9]:\n",
    "housing[\"median_income\"].hist()\n",
    "\n",
    "# In[10]:\n",
    "housing.plot(kind=\"scatter\", x=\"longitude\", y=\"latitude\")\n",
    "\n",
    "# In[11]:\n",
    "corr_matrix=housing.corr()\n",
    "\n",
    "# In[12]:\n",
    "corr_matrix['median_house_value'].sort_values(ascending=False)\n",
    "\n",
    "# In[13]:\n",
    "from pandas import scatter_matrix\n",
    "attributes = ['median_house_value','median_income', 'total_rooms','housing_median_age']\n",
    "scatter_matrix(housing[attributes],figsize=(12,8))\n",
    "\n",
    "# In[14]:\n",
    "from sklearn.model_selection import StratifiedShuffleSplit\n",
    "split = StratifiedShuffleSplit(n_splits=1, test_size=0.2, random_state=42)\n",
    "for train_index, test_index in split.split(housing, housing[\"ocean_proximity\"]):\n",
    "    strat_train_set = housing.loc[train_index]\n",
    "    strat_test_set = housing.loc[test_index]\n",
    "\n",
    "# In[15]:\n",
    "housing = strat_train_set.drop(\"median_house_value\", axis=1) # drop labels for training set\n",
    "housing_labels = strat_train_set[\"median_house_value\"].copy()\n",
    "\n",
    "# In[16]:\n",
    "sample_incomplete_rows = housing[housing.isnull().any(axis=1)].head()\n",
    "sample_incomplete_rows\n",
    "\n",
    "# ## Dealing with incomplete data options\n",
    "# 1. Remove all the rows with blanks\n",
    "# 2. Remove the column entirely\n",
    "# 3. Fill with median value\n",
    "\n",
    "# In[17]:\n",
    "sample_incomplete_rows.drop('total_bedrooms', axis=1)\n",
    "\n",
    "# In[18]:\n",
    "median = housing[\"total_bedrooms\"].median() #calculate the median value\n",
    "sample_incomplete_rows[\"total_bedrooms\"].fillna(median, inplace=True) # option 3\n",
    "sample_incomplete_rows\n",
    "\n",
    "# In[19]:\n",
    "housing_num=housing.drop('ocean_proximity', axis=1)\n",
    "\n",
    "# In[20]:\n",
    "from sklearn.preprocessing import Imputer\n",
    "imputer=Imputer(strategy='median')\n",
    "imputer.fit(housing_num)\n",
    "\n",
    "# In[21]:\n",
    "imputer.statistics_\n",
    "\n",
    "# In[22]:\n",
    "housing_num.median().values\n",
    "\n",
    "# In[23]:\n",
    "\n",
    "X=imputer.transform(housing_num)\n",
    "housing_tr=pd.DataFrame(X,columns=housing_num.columns,index=list(housing.index.values))\n",
    "\n",
    "housing_tr.loc[sample_incomplete_rows.index.values]\n",
    "\n",
    "# In[25]:\n",
    "\n",
    "\n",
    "\n",
    "\n"
   ]
  },
  {
   "cell_type": "markdown",
   "metadata": {},
   "source": [
    "### Feature Engineering and Cross Validation (inc)\n",
    "\n",
    "When we compare results of various classification algorithms and visualise our data we are in a better position to select the features that are more likely to yield better results."
   ]
  },
  {
   "cell_type": "markdown",
   "metadata": {},
   "source": [
    "### Summary of the Machine Learning Pipeline Operations"
   ]
  },
  {
   "cell_type": "markdown",
   "metadata": {
    "collapsed": true
   },
   "source": [
    "## Implementing NER using Logistic Regression\n",
    "\n",
    "The challenge for this session introduces a Spanish Corpus of text.  This is simply a large collection of text in Spanish.  In this laboratory session challenge we are going to do some Natural Language Processing NLP.  In particular our goal today's laboratory session challenge is to perform Named Entity Recognition (NER) on the body of text.  That is, for each word found in the text, we wish to identify if the word is a Named Entity.  A Named Entity is simply A noun that can be a person's name or a named location. The classes we wish to identify in this exercise include the following:\n",
    "\n",
    "\n",
    "So how can we use Logistic regression for this task?   The first thing to do is to tokenize the body of text into individual words and sentences; and because we are performing a supervised learning task, we need to perform a manual categorisation of each task into the classes given above. \n",
    "\n",
    "We then aggregate our findings into a table.  This preprocessing table has already been provided for us in a regular csv file.  In addition, some additional features were added into the mix to see if the logistic regression can perform better with the extra features added.  The features given in the dataset is described as follows:\n",
    "\n",
    "\n",
    "Let us examine the dataset based on the tools we have at our disposal."
   ]
  },
  {
   "cell_type": "code",
   "execution_count": 4,
   "metadata": {},
   "outputs": [
    {
     "data": {
      "text/html": [
       "<div>\n",
       "<style>\n",
       "    .dataframe thead tr:only-child th {\n",
       "        text-align: right;\n",
       "    }\n",
       "\n",
       "    .dataframe thead th {\n",
       "        text-align: left;\n",
       "    }\n",
       "\n",
       "    .dataframe tbody tr th {\n",
       "        vertical-align: top;\n",
       "    }\n",
       "</style>\n",
       "<table border=\"1\" class=\"dataframe\">\n",
       "  <thead>\n",
       "    <tr style=\"text-align: right;\">\n",
       "      <th></th>\n",
       "      <th>Unnamed: 0</th>\n",
       "      <th>+1:postag</th>\n",
       "      <th>+1:postag[:2]</th>\n",
       "      <th>+1:word.istitle()</th>\n",
       "      <th>+1:word.isupper()</th>\n",
       "      <th>+1:word.lower()</th>\n",
       "      <th>-1:postag</th>\n",
       "      <th>-1:postag[:2]</th>\n",
       "      <th>-1:word.istitle()</th>\n",
       "      <th>-1:word.isupper()</th>\n",
       "      <th>...</th>\n",
       "      <th>bias</th>\n",
       "      <th>nerlabel</th>\n",
       "      <th>postag</th>\n",
       "      <th>postag[:2]</th>\n",
       "      <th>word.isdigit()</th>\n",
       "      <th>word.istitle()</th>\n",
       "      <th>word.isupper()</th>\n",
       "      <th>word.lower()</th>\n",
       "      <th>word[-2:]</th>\n",
       "      <th>word[-3:]</th>\n",
       "    </tr>\n",
       "  </thead>\n",
       "  <tbody>\n",
       "    <tr>\n",
       "      <th>0</th>\n",
       "      <td>0</td>\n",
       "      <td>Fpa</td>\n",
       "      <td>Fp</td>\n",
       "      <td>False</td>\n",
       "      <td>False</td>\n",
       "      <td>(</td>\n",
       "      <td>-</td>\n",
       "      <td>-</td>\n",
       "      <td>-</td>\n",
       "      <td>-</td>\n",
       "      <td>...</td>\n",
       "      <td>1.0</td>\n",
       "      <td>B-LOC</td>\n",
       "      <td>NP</td>\n",
       "      <td>NP</td>\n",
       "      <td>False</td>\n",
       "      <td>True</td>\n",
       "      <td>False</td>\n",
       "      <td>melbourne</td>\n",
       "      <td>ne</td>\n",
       "      <td>rne</td>\n",
       "    </tr>\n",
       "    <tr>\n",
       "      <th>1</th>\n",
       "      <td>1</td>\n",
       "      <td>NP</td>\n",
       "      <td>NP</td>\n",
       "      <td>True</td>\n",
       "      <td>False</td>\n",
       "      <td>australia</td>\n",
       "      <td>NP</td>\n",
       "      <td>NP</td>\n",
       "      <td>True</td>\n",
       "      <td>False</td>\n",
       "      <td>...</td>\n",
       "      <td>1.0</td>\n",
       "      <td>O</td>\n",
       "      <td>Fpa</td>\n",
       "      <td>Fp</td>\n",
       "      <td>False</td>\n",
       "      <td>False</td>\n",
       "      <td>False</td>\n",
       "      <td>(</td>\n",
       "      <td>(</td>\n",
       "      <td>(</td>\n",
       "    </tr>\n",
       "    <tr>\n",
       "      <th>2</th>\n",
       "      <td>2</td>\n",
       "      <td>Fpt</td>\n",
       "      <td>Fp</td>\n",
       "      <td>False</td>\n",
       "      <td>False</td>\n",
       "      <td>)</td>\n",
       "      <td>Fpa</td>\n",
       "      <td>Fp</td>\n",
       "      <td>False</td>\n",
       "      <td>False</td>\n",
       "      <td>...</td>\n",
       "      <td>1.0</td>\n",
       "      <td>B-LOC</td>\n",
       "      <td>NP</td>\n",
       "      <td>NP</td>\n",
       "      <td>False</td>\n",
       "      <td>True</td>\n",
       "      <td>False</td>\n",
       "      <td>australia</td>\n",
       "      <td>ia</td>\n",
       "      <td>lia</td>\n",
       "    </tr>\n",
       "    <tr>\n",
       "      <th>3</th>\n",
       "      <td>3</td>\n",
       "      <td>Fc</td>\n",
       "      <td>Fc</td>\n",
       "      <td>False</td>\n",
       "      <td>False</td>\n",
       "      <td>,</td>\n",
       "      <td>NP</td>\n",
       "      <td>NP</td>\n",
       "      <td>True</td>\n",
       "      <td>False</td>\n",
       "      <td>...</td>\n",
       "      <td>1.0</td>\n",
       "      <td>O</td>\n",
       "      <td>Fpt</td>\n",
       "      <td>Fp</td>\n",
       "      <td>False</td>\n",
       "      <td>False</td>\n",
       "      <td>False</td>\n",
       "      <td>)</td>\n",
       "      <td>)</td>\n",
       "      <td>)</td>\n",
       "    </tr>\n",
       "    <tr>\n",
       "      <th>4</th>\n",
       "      <td>4</td>\n",
       "      <td>Z</td>\n",
       "      <td>Z</td>\n",
       "      <td>False</td>\n",
       "      <td>False</td>\n",
       "      <td>25</td>\n",
       "      <td>Fpt</td>\n",
       "      <td>Fp</td>\n",
       "      <td>False</td>\n",
       "      <td>False</td>\n",
       "      <td>...</td>\n",
       "      <td>1.0</td>\n",
       "      <td>O</td>\n",
       "      <td>Fc</td>\n",
       "      <td>Fc</td>\n",
       "      <td>False</td>\n",
       "      <td>False</td>\n",
       "      <td>False</td>\n",
       "      <td>,</td>\n",
       "      <td>,</td>\n",
       "      <td>,</td>\n",
       "    </tr>\n",
       "  </tbody>\n",
       "</table>\n",
       "<p>5 rows × 23 columns</p>\n",
       "</div>"
      ],
      "text/plain": [
       "   Unnamed: 0 +1:postag +1:postag[:2] +1:word.istitle() +1:word.isupper()  \\\n",
       "0           0       Fpa            Fp             False             False   \n",
       "1           1        NP            NP              True             False   \n",
       "2           2       Fpt            Fp             False             False   \n",
       "3           3        Fc            Fc             False             False   \n",
       "4           4         Z             Z             False             False   \n",
       "\n",
       "  +1:word.lower() -1:postag -1:postag[:2] -1:word.istitle() -1:word.isupper()  \\\n",
       "0               (         -             -                 -                 -   \n",
       "1       australia        NP            NP              True             False   \n",
       "2               )       Fpa            Fp             False             False   \n",
       "3               ,        NP            NP              True             False   \n",
       "4              25       Fpt            Fp             False             False   \n",
       "\n",
       "     ...     bias  nerlabel  postag  postag[:2] word.isdigit() word.istitle()  \\\n",
       "0    ...      1.0     B-LOC      NP          NP          False           True   \n",
       "1    ...      1.0         O     Fpa          Fp          False          False   \n",
       "2    ...      1.0     B-LOC      NP          NP          False           True   \n",
       "3    ...      1.0         O     Fpt          Fp          False          False   \n",
       "4    ...      1.0         O      Fc          Fc          False          False   \n",
       "\n",
       "  word.isupper()  word.lower()  word[-2:]  word[-3:]  \n",
       "0          False     melbourne         ne        rne  \n",
       "1          False             (          (          (  \n",
       "2          False     australia         ia        lia  \n",
       "3          False             )          )          )  \n",
       "4          False             ,          ,          ,  \n",
       "\n",
       "[5 rows x 23 columns]"
      ]
     },
     "execution_count": 4,
     "metadata": {},
     "output_type": "execute_result"
    }
   ],
   "source": [
    "import pandas as pd\n",
    "import numpy as np\n",
    "nerds=pd.read_csv('tsents.csv',encoding='utf-8')\n",
    "nerds.head()"
   ]
  },
  {
   "cell_type": "markdown",
   "metadata": {
    "collapsed": true
   },
   "source": [
    "The first thing to observe is that the dataset is all text with a few true and false data and only one numeric data column.  However, we recall that logistic regression only takes numeric inputs.  Thankfully, we have our one-hot-encoding tool and Machine learning pipeline at our disposal to perform this task.  We will therefore perform prepocessing of this dataset using the Machine learning pipeline including the one-hot encoding and then test our dataset using the Logistic Regression class of the Scikit-Learn Library we examined earlier.  Note that we only need to one-hot-encode the inputs because the Logistic Regression class of the Scikit-learn library takes care of encoding the labels internally for us.\n",
    "\n",
    "For this exercise we are only interested in using the column (feature) word.lower as the input data and nerlabel as the output label.  We will put them into a dataset using the DataFrame command as follows: "
   ]
  },
  {
   "cell_type": "code",
   "execution_count": 6,
   "metadata": {},
   "outputs": [
    {
     "data": {
      "text/html": [
       "<div>\n",
       "<style>\n",
       "    .dataframe thead tr:only-child th {\n",
       "        text-align: right;\n",
       "    }\n",
       "\n",
       "    .dataframe thead th {\n",
       "        text-align: left;\n",
       "    }\n",
       "\n",
       "    .dataframe tbody tr th {\n",
       "        vertical-align: top;\n",
       "    }\n",
       "</style>\n",
       "<table border=\"1\" class=\"dataframe\">\n",
       "  <thead>\n",
       "    <tr style=\"text-align: right;\">\n",
       "      <th></th>\n",
       "      <th>data</th>\n",
       "      <th>nerlabel</th>\n",
       "    </tr>\n",
       "  </thead>\n",
       "  <tbody>\n",
       "    <tr>\n",
       "      <th>0</th>\n",
       "      <td>melbourne</td>\n",
       "      <td>B-LOC</td>\n",
       "    </tr>\n",
       "    <tr>\n",
       "      <th>1</th>\n",
       "      <td>(</td>\n",
       "      <td>O</td>\n",
       "    </tr>\n",
       "    <tr>\n",
       "      <th>2</th>\n",
       "      <td>australia</td>\n",
       "      <td>B-LOC</td>\n",
       "    </tr>\n",
       "    <tr>\n",
       "      <th>3</th>\n",
       "      <td>)</td>\n",
       "      <td>O</td>\n",
       "    </tr>\n",
       "    <tr>\n",
       "      <th>4</th>\n",
       "      <td>,</td>\n",
       "      <td>O</td>\n",
       "    </tr>\n",
       "  </tbody>\n",
       "</table>\n",
       "</div>"
      ],
      "text/plain": [
       "        data nerlabel\n",
       "0  melbourne    B-LOC\n",
       "1          (        O\n",
       "2  australia    B-LOC\n",
       "3          )        O\n",
       "4          ,        O"
      ]
     },
     "execution_count": 6,
     "metadata": {},
     "output_type": "execute_result"
    }
   ],
   "source": [
    "dataset=pd.DataFrame({'data':nerds['word.lower()'],'nerlabel':nerds['nerlabel']})\n",
    "dataset.head()"
   ]
  },
  {
   "cell_type": "code",
   "execution_count": 7,
   "metadata": {},
   "outputs": [
    {
     "data": {
      "text/plain": [
       "de               17806\n",
       ",                14716\n",
       "la               10471\n",
       "el                8271\n",
       "que               7528\n",
       ".                 7263\n",
       "en                6935\n",
       "\"                 5691\n",
       "y                 5367\n",
       "a                 4443\n",
       "los               4019\n",
       "del               3772\n",
       "por               2653\n",
       "las               2544\n",
       "se                2537\n",
       ")                 2099\n",
       "(                 2094\n",
       "con               2080\n",
       "un                2047\n",
       "para              1799\n",
       "una               1684\n",
       "-                 1582\n",
       "su                1459\n",
       "al                1402\n",
       "no                1156\n",
       "efe                997\n",
       "ha                 964\n",
       "hoy                798\n",
       "es                 763\n",
       "como               756\n",
       "                 ...  \n",
       "españolista          1\n",
       "propugnó             1\n",
       "departamental        1\n",
       "modificará           1\n",
       "levanta              1\n",
       "visualizar           1\n",
       "peces-barba          1\n",
       "104'57'              1\n",
       "rectorado            1\n",
       "causación            1\n",
       "neozelandes          1\n",
       "regido               1\n",
       "expresara            1\n",
       "maran                1\n",
       "dennis               1\n",
       "22.00                1\n",
       "362.56               1\n",
       "nervios              1\n",
       "emblemáticos         1\n",
       "definiciones         1\n",
       "kee                  1\n",
       "hermanó              1\n",
       "verle                1\n",
       "sumergida            1\n",
       "db3885               1\n",
       "fifa                 1\n",
       "calor                1\n",
       "ligar                1\n",
       "terrassa             1\n",
       "ee.uu                1\n",
       "Name: data, Length: 23710, dtype: int64"
      ]
     },
     "execution_count": 7,
     "metadata": {},
     "output_type": "execute_result"
    }
   ],
   "source": [
    "dataset.data.value_counts()"
   ]
  },
  {
   "cell_type": "markdown",
   "metadata": {},
   "source": [
    "We then perform the following tasks\n",
    "1. Perform our one hot encoding on the whole dataset\n",
    "2. Split the data into training and test set\n"
   ]
  },
  {
   "cell_type": "code",
   "execution_count": null,
   "metadata": {
    "collapsed": true
   },
   "outputs": [],
   "source": [
    "from sklearn.model_selection import StratifiedShuffleSplit\n",
    "split = StratifiedShuffleSplit(n_splits=1, test_size=0.2, random_state=42)\n",
    "for train_index, test_index in split.split(housing, housing[\"ocean_proximity\"]):\n",
    "    strat_train_set = housing.loc[train_index]\n",
    "    strat_test_set = housing.loc[test_index]"
   ]
  },
  {
   "cell_type": "code",
   "execution_count": null,
   "metadata": {
    "collapsed": true
   },
   "outputs": [],
   "source": [
    "# ### SkLearn One Hot Encoder\n",
    "# In[30]:\n",
    "from sklearn.preprocessing import OneHotEncoder\n",
    "encoder=OneHotEncoder()\n",
    "housing_cat_1hot=encoder.fit_transform(housing_cat_encoded.reshape(-1,1))\n",
    "housing_cat_1hot\n",
    "\n",
    "# In[31]:\n",
    "housing_cat_1hot.toarray()"
   ]
  },
  {
   "cell_type": "markdown",
   "metadata": {},
   "source": [
    "### Lab Session Challenge Word Vectors vs Bag of Words<a id=\"sec-2-4\" name=\"sec-2-4\"></a>\n",
    "The above implementation of using one-hot encoding is known as the bag of words model.  There exists another model in which rather than treating words as independent entities, in the bag we try to establish relationships between them.  A particular model or class of models is called the Vord2Vector model.\n",
    "\n",
    "This model performs a form of encoding called a word embedding by mapping or learning a vector representation of words in context to other words.  This can be learned through various means see (Mikolov et. al, 2013).  In the next class we will see how Logistic regression can be use to discover these word vectors. One way to think of this model is using a co-occurrence matrix decomposition. Appendix 1 explains this co-occurrence model in detail.\n",
    "\n",
    "For this session challenge we will use a word2vec library to discover the word embeddings for our corpus. The results of this word2vec transformation will now be fed into our initial model instead of the original one-hot encoded vector and accuracies shall be compared using cross validation we considered in this laboratory session."
   ]
  },
  {
   "cell_type": "code",
   "execution_count": 2,
   "metadata": {},
   "outputs": [
    {
     "name": "stdout",
     "output_type": "stream",
     "text": [
      "Collecting gensim\n",
      "  Downloading gensim-3.2.0-cp36-cp36m-manylinux1_x86_64.whl (15.9MB)\n",
      "\u001b[K    100% |################################| 15.9MB 79kB/s  eta 0:00:01\n",
      "\u001b[?25hCollecting smart-open>=1.2.1 (from gensim)\n",
      "  Downloading smart_open-1.5.5.tar.gz\n",
      "Requirement already satisfied: six>=1.5.0 in /home/nbcommon/anaconda3_501/lib/python3.6/site-packages (from gensim)\n",
      "Requirement already satisfied: scipy>=0.18.1 in /home/nbcommon/anaconda3_501/lib/python3.6/site-packages (from gensim)\n",
      "Requirement already satisfied: numpy>=1.11.3 in /home/nbcommon/anaconda3_501/lib/python3.6/site-packages (from gensim)\n",
      "Requirement already satisfied: boto>=2.32 in /home/nbcommon/anaconda3_501/lib/python3.6/site-packages (from smart-open>=1.2.1->gensim)\n",
      "Collecting bz2file (from smart-open>=1.2.1->gensim)\n",
      "  Downloading bz2file-0.98.tar.gz\n",
      "Requirement already satisfied: requests in /home/nbcommon/anaconda3_501/lib/python3.6/site-packages (from smart-open>=1.2.1->gensim)\n",
      "Requirement already satisfied: boto3 in /home/nbcommon/anaconda3_501/lib/python3.6/site-packages (from smart-open>=1.2.1->gensim)\n",
      "Requirement already satisfied: chardet<3.1.0,>=3.0.2 in /home/nbcommon/anaconda3_501/lib/python3.6/site-packages (from requests->smart-open>=1.2.1->gensim)\n",
      "Requirement already satisfied: idna<2.7,>=2.5 in /home/nbcommon/anaconda3_501/lib/python3.6/site-packages (from requests->smart-open>=1.2.1->gensim)\n",
      "Requirement already satisfied: urllib3<1.23,>=1.21.1 in /home/nbcommon/anaconda3_501/lib/python3.6/site-packages (from requests->smart-open>=1.2.1->gensim)\n",
      "Requirement already satisfied: certifi>=2017.4.17 in /home/nbcommon/anaconda3_501/lib/python3.6/site-packages (from requests->smart-open>=1.2.1->gensim)\n",
      "Requirement already satisfied: s3transfer<0.2.0,>=0.1.10 in /home/nbcommon/anaconda3_501/lib/python3.6/site-packages (from boto3->smart-open>=1.2.1->gensim)\n",
      "Requirement already satisfied: botocore<1.9.0,>=1.8.0 in /home/nbcommon/anaconda3_501/lib/python3.6/site-packages (from boto3->smart-open>=1.2.1->gensim)\n",
      "Requirement already satisfied: jmespath<1.0.0,>=0.7.1 in /home/nbcommon/anaconda3_501/lib/python3.6/site-packages (from boto3->smart-open>=1.2.1->gensim)\n",
      "Requirement already satisfied: python-dateutil<3.0.0,>=2.1 in /home/nbcommon/anaconda3_501/lib/python3.6/site-packages (from botocore<1.9.0,>=1.8.0->boto3->smart-open>=1.2.1->gensim)\n",
      "Requirement already satisfied: docutils>=0.10 in /home/nbcommon/anaconda3_501/lib/python3.6/site-packages (from botocore<1.9.0,>=1.8.0->boto3->smart-open>=1.2.1->gensim)\n",
      "Building wheels for collected packages: smart-open, bz2file\n",
      "  Running setup.py bdist_wheel for smart-open ... \u001b[?25ldone\n",
      "\u001b[?25h  Stored in directory: /home/nbuser/.cache/pip/wheels/ed/64/56/a922ace26f5d32090849ec8d89192b2b9ff0d280a5be0a4b7b\n",
      "  Running setup.py bdist_wheel for bz2file ... \u001b[?25ldone\n",
      "\u001b[?25h  Stored in directory: /home/nbuser/.cache/pip/wheels/31/9c/20/996d65ca104cbca940b1b053299b68459391c01c774d073126\n",
      "Successfully built smart-open bz2file\n",
      "Installing collected packages: bz2file, smart-open, gensim\n",
      "Successfully installed bz2file-0.98 gensim-3.2.0 smart-open-1.5.5\n"
     ]
    }
   ],
   "source": [
    "!pip install gensim"
   ]
  },
  {
   "cell_type": "code",
   "execution_count": 3,
   "metadata": {
    "collapsed": true
   },
   "outputs": [],
   "source": [
    "import gensim"
   ]
  },
  {
   "cell_type": "code",
   "execution_count": null,
   "metadata": {
    "collapsed": true
   },
   "outputs": [],
   "source": []
  },
  {
   "cell_type": "markdown",
   "metadata": {
    "collapsed": true
   },
   "source": [
    "# Appendix 1: Word2Vec Co-occurrence Matrix Decomposition with SVD Model"
   ]
  },
  {
   "cell_type": "markdown",
   "metadata": {
    "collapsed": true
   },
   "source": [
    "For the co-occurrence model we count the number of times a certain number of words occur together take for example a vocuabulary of words and a count of the times two words co-occur together in the illustration below:\n",
    "![Co-occurrence Matrix](https://www.dropbox.com/s/pcl4c8lf5as56tl/svd1.png?dl=1)"
   ]
  },
  {
   "cell_type": "markdown",
   "metadata": {},
   "source": [
    "Example Corpus:\n",
    "- I like deep learning.\n",
    "- I like NLP.\n",
    "- I enjoy flying.\n",
    "\n",
    "The word vectors can therefore be determined using Singular Value Decomposition (SVD) as follows:\n"
   ]
  },
  {
   "cell_type": "code",
   "execution_count": 10,
   "metadata": {},
   "outputs": [
    {
     "data": {
      "image/png": "[encoded data removed]",
      "text/plain": [
       "<matplotlib.figure.Figure at 0x7fe30f6c89b0>"
      ]
     },
     "metadata": {},
     "output_type": "display_data"
    }
   ],
   "source": [
    "import numpy as np\n",
    "import matplotlib.pyplot as plt\n",
    "la=np.linalg\n",
    "words=['I','like','enjoy','deep','learning','NLP','flying','.']\n",
    "x=np.array([[0,2,1,0,0,0,0,0],\n",
    "            [2,0,0,1,0,1,0,0],\n",
    "            [1,0,0,0,0,0,1,0],\n",
    "            [0,1,0,0,1,0,0,0],\n",
    "            [0,0,0,1,0,0,0,1],\n",
    "            [0,1,0,0,0,0,0,1],\n",
    "            [0,0,1,0,0,0,0,1],\n",
    "            [0,0,0,0,1,1,1,0]\n",
    "           ])\n",
    "U,s,Vh=la.svd(x,full_matrices=False)\n",
    "for i in range(len(words)):\n",
    "    plt.text(U[i,0],U[i,1],words[i])\n",
    "plt.show()"
   ]
  },
  {
   "cell_type": "code",
   "execution_count": 11,
   "metadata": {},
   "outputs": [
    {
     "data": {
      "text/plain": [
       "array([[ -5.24124930e-01,  -5.72859145e-01,   9.54463014e-02,\n",
       "          3.83228493e-01,  -1.76963375e-01,  -1.76092183e-01,\n",
       "         -4.19185600e-01,  -5.57702732e-02],\n",
       "       [ -5.94438071e-01,   6.30120664e-01,  -1.70207779e-01,\n",
       "          3.10038363e-01,   1.84062339e-01,  -2.34777849e-01,\n",
       "          1.29535474e-01,   1.36813128e-01],\n",
       "       [ -2.56274005e-01,   2.74017533e-01,   1.59810848e-01,\n",
       "         -5.55111512e-16,  -5.78984617e-01,   6.36550929e-01,\n",
       "         -6.10622664e-16,  -3.05414877e-01],\n",
       "       [ -2.85637408e-01,  -2.47912130e-01,   3.54610324e-01,\n",
       "         -7.31901294e-02,   4.45784489e-01,   8.36141432e-02,\n",
       "          5.48721075e-01,  -4.68012411e-01],\n",
       "       [ -1.93139313e-01,   3.38495048e-02,  -5.00790405e-01,\n",
       "         -4.28462480e-01,   3.47110226e-01,   1.55483227e-01,\n",
       "         -4.68663749e-01,  -4.03576557e-01],\n",
       "       [ -3.05134684e-01,  -2.93988990e-01,  -2.23433593e-01,\n",
       "         -1.91614246e-01,   1.27460940e-01,   4.91219408e-01,\n",
       "          2.09592800e-01,   6.57535375e-01],\n",
       "       [ -1.82489837e-01,  -1.61027767e-01,  -3.97842428e-01,\n",
       "         -3.83228493e-01,  -5.12923221e-01,  -4.27574417e-01,\n",
       "          4.19185600e-01,  -1.18313828e-01],\n",
       "       [ -2.46898426e-01,   1.57254762e-01,   5.92991677e-01,\n",
       "         -6.20076727e-01,  -3.21868120e-02,  -2.31065080e-01,\n",
       "         -2.59070949e-01,   2.37976916e-01]])"
      ]
     },
     "execution_count": 11,
     "metadata": {},
     "output_type": "execute_result"
    }
   ],
   "source": [
    "U"
   ]
  }
 ],
 "metadata": {
  "kernelspec": {
   "display_name": "Python 3.6",
   "language": "python",
   "name": "python36"
  },
  "language_info": {
   "codemirror_mode": {
    "name": "ipython",
    "version": 3
   },
   "file_extension": ".py",
   "mimetype": "text/x-python",
   "name": "python",
   "nbconvert_exporter": "python",
   "pygments_lexer": "ipython3",
   "version": "3.6.3"
  }
 },
 "nbformat": 4,
 "nbformat_minor": 2
}
