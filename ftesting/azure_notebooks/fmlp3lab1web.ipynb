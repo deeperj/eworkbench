{
 "cells": [
  {
   "cell_type": "markdown",
   "metadata": {},
   "source": [
    "<img src=\"https://www.dropbox.com/s/l8v1b51kg1wrzib/fmlp3.PNG?dl=1\" width=300>\n",
    "# $fMLp^3$ Lab 1: Introduction to Machine Learning\n",
    "## Learning \n",
    "\n",
    "Learning, consists of remembering, adapting and generalising (Marsland, 2009). It also includes reasoning and logical deduction.\n",
    "\n",
    "## Machine Learning\n",
    "\n",
    "Making computers modify their actions so that the actions become more accurate.  According to Aurthur Samuel (1959),  Machine Learning is the field of study that gives computers the ability to learning without being explicitly being programmed.\n",
    "Tom Mitchell(1997):  A computer program is said to learn from experience E with respect to some task T and some performance measure P, if its performance improves with experience E."
   ]
  },
  {
   "cell_type": "markdown",
   "metadata": {},
   "source": [
    "## Types of Machine Learning\n",
    "\n",
    "In this lab we gloss over the major four types of machine learning. Other categorisations of machine learning are however omitted to keep this lab session focused.  These four machine learning types include supervised, unsupervised, reinforcement and evolutionary learning.  \n",
    "### Supervised Learning:\n",
    "\n",
    "Learning from examples. Includes regression and classification. Spam detection of emails constitutes an example of a binary classification problem. Predicting stock prices is an example of a regression problem. A few supervised Machine Learning algorithms include:\n",
    "1. k-Nearest Neighbours\n",
    "2. Linear Regression\n",
    "3. Logistic Regression\n",
    "4. Support Vector Machines\n",
    "5. Decision Trees and Random Forests\n",
    "6. Neural Networks\n",
    "\n",
    "### Unsupervised Learning:\n",
    "\n",
    "Classification by estimating features a.k.a density estimation. Density reduction can also be seen as an unsupervised problem. The major unsupervised machine learning algorithms include:\n",
    "1. Clustering\n",
    "    a. k-Means\n",
    "    b. Hierarchical Cluster Analysis (HCA)\n",
    "    c. Expectation-maximisation\n",
    "2. Dimensionality Reduction\n",
    "    a. Principal Component analysis\n",
    "    b. Kernel PCA\n",
    "    c. Local Linear Embedding (LLE)\n",
    "    d. t-distributed Stochastic Neigbour Embedding (TSNE)\n",
    "3. Association rule learning\n",
    "\n",
    "### Reinforcement Learning:\n",
    "\n",
    "Reward based learning.\n",
    "\n",
    "### Evolutionary Learning:\n",
    "\n",
    "Fitness on the goodness of the solution.  Vavious means of evaluating a artificial intelligence model. A common technique is cross-validation.\n",
    "\n",
    "### Properties of a Good Machine Learning System\n",
    "\n",
    "1. Features Extraction or Feature engineering\n",
    "2. Occam's Razor: The simplest classifier is more likely to generalise i. e.\n",
    "3. Does not overfit data with high variance\n",
    "4. Unbiased i.e. Doesn't underfit the data \n",
    "\n",
    "### Machine Learning Challenges\n",
    "1. Insufficient training data\n",
    "2. Non-representative training data aka outliers\n",
    "3. Overfitting\n",
    "4. Underfitting\n",
    "5. Curse of dimensionality\n",
    "\n",
    "On [this](https://www.kaggle.com/wiki/DataScienceUseCases) web site one can find a number of use cases where machine learning can be applied."
   ]
  },
  {
   "cell_type": "markdown",
   "metadata": {},
   "source": [
    "## Python Basics\n",
    "\n",
    "Having gone through some of the formal Machine learning literature,  Let's now turn our attention to the more exciting stuff. One of the major features of the python programming language is the inherent datastructures such as lists that are first class types in the python language.  It is this feature, I hypothize, that has possibly made python a forerunner in scientific applications that are data intensive. Let's talk a bit more about python and it's intrinsics types.\n",
    "\n",
    "### Python types and basic syntax\n",
    "#### Getting output using print\n",
    "\n"
   ]
  },
  {
   "cell_type": "code",
   "execution_count": null,
   "metadata": {
    "collapsed": true
   },
   "outputs": [],
   "source": [
    "print(\"hello world\")\n",
    "print(\"first value:\", 1,\"nice one\")"
   ]
  },
  {
   "cell_type": "markdown",
   "metadata": {},
   "source": [
    "#### Working with variables"
   ]
  },
  {
   "cell_type": "code",
   "execution_count": null,
   "metadata": {
    "collapsed": true
   },
   "outputs": [],
   "source": [
    "x = 1         # x is an integer\n",
    "x = 'hello'   # now x is a string\n",
    "x = [1, 2, 3] # now x is a list\n",
    "print(\"x =\", x)"
   ]
  },
  {
   "cell_type": "markdown",
   "metadata": {},
   "source": [
    "#### In python everything is an object"
   ]
  },
  {
   "cell_type": "code",
   "execution_count": null,
   "metadata": {
    "collapsed": true
   },
   "outputs": [],
   "source": [
    "L = [1, 2, 3]\n",
    "L.append(100)\n",
    "print(L)\n",
    "x = 4.5\n",
    "print(x.real, \"+\", x.imag, 'i')\n",
    "x = 4.5\n",
    "x.is_integer()"
   ]
  },
  {
   "cell_type": "markdown",
   "metadata": {},
   "source": [
    "#### Simple Types\n",
    "\n",
    "| Type     | Example   | Description                                                 |\n",
    "|----------|:----------|:------------------------------------------------------------|\n",
    "| int      | x = 1     | integers (i.e., whole numbers                               |\n",
    "| float    | x = 1.0   | floating point numbers (i.e., real numbers                  |\n",
    "| complex  | x = 1+2j  | Complex numbers (i.e. numbers with real and imaginary parts |\n",
    "| bool     | x = True  | Boolean: true or false values                               |\n",
    "| str      | x = 'abc' | String: characters or text                                  |\n",
    "| NoneType | x = None  | Special object indicating nulls.                            |\n",
    "\n",
    "#### Built in Data Structures\n",
    "\n",
    "| Type Name | Example               | Description                           |\n",
    "|-----------|-----------------------|:--------------------------------------|\n",
    "| List      | [1, 2, 3]             | Ordered collection                    |\n",
    "| tuple     | (1, 2, 3)             | Immutable ordered collection          |\n",
    "| dict      | {'a':1, 'b':2, 'c':3} | unordered (key,value) pairs           |\n",
    "| set       | {1,2,3}               | Unordered collection of unique values |\n",
    "\n",
    "### Operations on Built in Data Structures\n",
    "\n",
    "In this section we take a brief look at some common examples operations on built in data structures. A comprehensive quick reference guide for python can be found here [Python Quick Reference](http://rgruet.free.fr/PQR27/PQR2.7.html)\n",
    "#### Lists\n",
    "Lists are defined using comma separated values.  They are mutable (modifyable) ordered collection.  \n",
    "\n",
    "##### Example"
   ]
  },
  {
   "cell_type": "code",
   "execution_count": 5,
   "metadata": {
    "collapsed": true
   },
   "outputs": [],
   "source": [
    "L=[2,3,5,7,9]"
   ]
  },
  {
   "cell_type": "markdown",
   "metadata": {},
   "source": [
    "A list can also contain other types including sub-lists"
   ]
  },
  {
   "cell_type": "code",
   "execution_count": 6,
   "metadata": {
    "collapsed": true
   },
   "outputs": [],
   "source": [
    "L2=[2,4,6,'hello',3.14,[5,7,9]]"
   ]
  },
  {
   "cell_type": "markdown",
   "metadata": {},
   "source": [
    " Some operations on Lists include\n",
    " 1. length of a list *Len(L)*\n",
    " 2. Appending to a list *L.append(11)*\n",
    " 3. Concatenate lists with operator '+'\n",
    " 4. Arrange list using sor *L.sort()*\n",
    " 5. Indexing and slicing including the following\n",
    "    - Accessing a single element from left-to-right\n",
    "    - Accessing an element from right-to-left\n",
    "    - Accessing sub-set of elements left-to-right and right-to-left\n",
    "    - Accessing sub-set in steps\n",
    "\n",
    "##### Operations on lists: Examples"
   ]
  },
  {
   "cell_type": "code",
   "execution_count": 7,
   "metadata": {},
   "outputs": [
    {
     "data": {
      "text/plain": [
       "5"
      ]
     },
     "execution_count": 7,
     "metadata": {},
     "output_type": "execute_result"
    }
   ],
   "source": [
    " # 1. length of a list *Len(L)*\n",
    "len(L)"
   ]
  },
  {
   "cell_type": "code",
   "execution_count": 8,
   "metadata": {},
   "outputs": [
    {
     "data": {
      "text/plain": [
       "[2, 3, 5, 7, 9, 11]"
      ]
     },
     "execution_count": 8,
     "metadata": {},
     "output_type": "execute_result"
    }
   ],
   "source": [
    " # 2. Appending to a list *L.append(11)*\n",
    "L.append(11)\n",
    "L"
   ]
  },
  {
   "cell_type": "code",
   "execution_count": 10,
   "metadata": {},
   "outputs": [
    {
     "data": {
      "text/plain": [
       "[2, 3, 5, 7, 9, 11, 13, 17, 20, 1]"
      ]
     },
     "execution_count": 10,
     "metadata": {},
     "output_type": "execute_result"
    }
   ],
   "source": [
    "# 3. Concatenate lists with operator '+'\n",
    "L=L + [13, 17, 20, 1]\n",
    "L"
   ]
  },
  {
   "cell_type": "code",
   "execution_count": 11,
   "metadata": {},
   "outputs": [
    {
     "data": {
      "text/plain": [
       "[2, 3, 5, 7, 9, 11]"
      ]
     },
     "execution_count": 11,
     "metadata": {},
     "output_type": "execute_result"
    }
   ],
   "source": [
    "# 4. Arrange list using sor *L.sort()*\n",
    "L.sort()\n",
    "L"
   ]
  },
  {
   "cell_type": "code",
   "execution_count": 12,
   "metadata": {},
   "outputs": [
    {
     "data": {
      "text/plain": [
       "2"
      ]
     },
     "execution_count": 12,
     "metadata": {},
     "output_type": "execute_result"
    }
   ],
   "source": [
    "# 5. Indexing and slicing\n",
    "# first element (left-to-right)\n",
    "L[0]"
   ]
  },
  {
   "cell_type": "code",
   "execution_count": 13,
   "metadata": {},
   "outputs": [
    {
     "data": {
      "text/plain": [
       "11"
      ]
     },
     "execution_count": 13,
     "metadata": {},
     "output_type": "execute_result"
    }
   ],
   "source": [
    "# Last element (right-to-left)\n",
    "L[-1]"
   ]
  },
  {
   "cell_type": "code",
   "execution_count": 14,
   "metadata": {},
   "outputs": [
    {
     "data": {
      "text/plain": [
       "[2, 3, 5]"
      ]
     },
     "execution_count": 14,
     "metadata": {},
     "output_type": "execute_result"
    }
   ],
   "source": [
    "# Get elements from index 0 to index 3 (non inclusive)\n",
    "L[0:3]"
   ]
  },
  {
   "cell_type": "code",
   "execution_count": 15,
   "metadata": {},
   "outputs": [
    {
     "data": {
      "text/plain": [
       "[2, 3, 5]"
      ]
     },
     "execution_count": 15,
     "metadata": {},
     "output_type": "execute_result"
    }
   ],
   "source": [
    "# alternatively\n",
    "L[:3]"
   ]
  },
  {
   "cell_type": "markdown",
   "metadata": {},
   "source": [
    "Get the last 3 elements"
   ]
  },
  {
   "cell_type": "code",
   "execution_count": 16,
   "metadata": {},
   "outputs": [
    {
     "data": {
      "text/plain": [
       "[7, 9, 11]"
      ]
     },
     "execution_count": 16,
     "metadata": {},
     "output_type": "execute_result"
    }
   ],
   "source": [
    "L[-3:]"
   ]
  },
  {
   "cell_type": "markdown",
   "metadata": {},
   "source": [
    "Get all elements stepping index by 2 from index 0"
   ]
  },
  {
   "cell_type": "code",
   "execution_count": 17,
   "metadata": {},
   "outputs": [
    {
     "data": {
      "text/plain": [
       "[2, 5, 9]"
      ]
     },
     "execution_count": 17,
     "metadata": {},
     "output_type": "execute_result"
    }
   ],
   "source": [
    "L[::2]"
   ]
  },
  {
   "cell_type": "markdown",
   "metadata": {},
   "source": [
    "Reverse index method to reverse an array"
   ]
  },
  {
   "cell_type": "code",
   "execution_count": 1,
   "metadata": {},
   "outputs": [
    {
     "ename": "NameError",
     "evalue": "name 'L' is not defined",
     "output_type": "error",
     "traceback": [
      "\u001b[0;31m---------------------------------------------------------------------------\u001b[0m",
      "\u001b[0;31mNameError\u001b[0m                                 Traceback (most recent call last)",
      "\u001b[0;32m<ipython-input-1-f990e25723e9>\u001b[0m in \u001b[0;36m<module>\u001b[0;34m()\u001b[0m\n\u001b[0;32m----> 1\u001b[0;31m \u001b[0mL\u001b[0m\u001b[0;34m[\u001b[0m\u001b[0;34m:\u001b[0m\u001b[0;34m:\u001b[0m\u001b[0;34m-\u001b[0m\u001b[0;36m1\u001b[0m\u001b[0;34m]\u001b[0m\u001b[0;34m\u001b[0m\u001b[0m\n\u001b[0m",
      "\u001b[0;31mNameError\u001b[0m: name 'L' is not defined"
     ]
    }
   ],
   "source": [
    "L[::-1]"
   ]
  },
  {
   "cell_type": "markdown",
   "metadata": {},
   "source": [
    "###  Python Control Structures\n",
    "\n",
    "It is important to note that Control or block structure in python is represented by using indentation.  Therefore, functions and control statements can be identified by their indentation levels.  The code snippet below shows an example of this indentation syntax.\n",
    "\n",
    "#### Example Prime Numbers\n",
    "\n",
    "The example below outputs prime numbers from 0 to nmax which in the snippet below nmax=30."
   ]
  },
  {
   "cell_type": "code",
   "execution_count": 33,
   "metadata": {},
   "outputs": [
    {
     "data": {
      "text/plain": [
       "[2, 3, 5, 7, 11, 13, 17, 19, 23, 29]"
      ]
     },
     "execution_count": 33,
     "metadata": {},
     "output_type": "execute_result"
    }
   ],
   "source": [
    "L = []\n",
    "nmax = 30\n",
    "\n",
    "for n in range(2, nmax):\n",
    "    for factor in L:\n",
    "        if n % factor == 0:\n",
    "            break\n",
    "    else: # no break\n",
    "        L.append(n)\n",
    "        \n",
    "L"
   ]
  },
  {
   "cell_type": "markdown",
   "metadata": {},
   "source": [
    "In the above example we can see that there is a nested-for-loop within which is an if statement."
   ]
  },
  {
   "cell_type": "markdown",
   "metadata": {},
   "source": [
    "### Functions and Classes\n",
    "Functions are created using the 'def' keyword while classes are created using the 'class' keyword. Note that while functions and classes follow the code block indentation rule functions can have the following modifications:\n",
    "1. Default parameters\n",
    "2. Flexible parameters\n",
    "3. Lambda functions\n",
    "\n",
    "#### Examples of functions and classes"
   ]
  },
  {
   "cell_type": "code",
   "execution_count": 20,
   "metadata": {},
   "outputs": [
    {
     "data": {
      "text/plain": [
       "[1, 1, 2, 3, 5]"
      ]
     },
     "execution_count": 20,
     "metadata": {},
     "output_type": "execute_result"
    }
   ],
   "source": [
    "# function having a and b variables as default parameters\n",
    "def fibonacci(N, a=0, b=1):\n",
    "    L = []\n",
    "    while len(L) < N:\n",
    "        a, b = b, a + b\n",
    "        L.append(a)\n",
    "    return L\n",
    "\n",
    "fibonacci(5)"
   ]
  },
  {
   "cell_type": "code",
   "execution_count": 21,
   "metadata": {},
   "outputs": [
    {
     "ename": "MySpecialError",
     "evalue": "here's the message",
     "output_type": "error",
     "traceback": [
      "\u001b[1;31m---------------------------------------------------------------------------\u001b[0m",
      "\u001b[1;31mMySpecialError\u001b[0m                            Traceback (most recent call last)",
      "\u001b[1;32m<ipython-input-21-92a3565719b7>\u001b[0m in \u001b[0;36m<module>\u001b[1;34m()\u001b[0m\n\u001b[0;32m      3\u001b[0m     \u001b[1;32mpass\u001b[0m\u001b[1;33m\u001b[0m\u001b[0m\n\u001b[0;32m      4\u001b[0m \u001b[1;33m\u001b[0m\u001b[0m\n\u001b[1;32m----> 5\u001b[1;33m \u001b[1;32mraise\u001b[0m \u001b[0mMySpecialError\u001b[0m\u001b[1;33m(\u001b[0m\u001b[1;34m\"here's the message\"\u001b[0m\u001b[1;33m)\u001b[0m\u001b[1;33m\u001b[0m\u001b[0m\n\u001b[0m",
      "\u001b[1;31mMySpecialError\u001b[0m: here's the message"
     ]
    }
   ],
   "source": [
    "# Class definition\n",
    "class MySpecialError(ValueError):\n",
    "    pass\n",
    "\n",
    "raise MySpecialError(\"here's the message\")"
   ]
  },
  {
   "cell_type": "markdown",
   "metadata": {},
   "source": [
    "The above class inherits from python Error python error type 'ValueError' hence inherits the string constructor and the ability to raise exceptions by using the raise keyword and passing in the Error message parameter."
   ]
  },
  {
   "cell_type": "markdown",
   "metadata": {},
   "source": [
    "## Linear Algebra Review\n",
    "### Vectors and Matrices\n",
    "\n",
    "In programming we have the concept of n-dimensional arrays. Arrays are sets of ordered numbers i.e. a collection of numbers in a strict order such that each constituting number element can be accessed given it's unique index.  This concept was taken directly from linear algebra where a vector is a 1-dimensional array while an matrix is a 2-dimensional array.\n",
    "\n",
    "Note that in some programming languages such as python we start counting the index of the elements from zero while in linear algebra the first index count is one."
   ]
  },
  {
   "cell_type": "markdown",
   "metadata": {},
   "source": [
    "#### Matrix representation\n",
    "\n",
    "Below is an example of a matrix A\n",
    "$$ A=\\begin{bmatrix}234 & 292 \\\\444 & 422 \\\\999 & 846 \\end{bmatrix} $$\n",
    "The above matrix referred to as matrix A and it has 3 rows and 2 columns.  We normally refer to the rows first then the columns therefore it is a 3 by 2 or 3 x 2 matrix.  Notationally this is $ \\mathbb{R}^{3x2} $ where the number or rows and the number of columns are the dimensions of the matrix\n",
    "\n",
    "Also observe in the matrix A the following elements given by the identified by their indices as follows:\n",
    "$$\n",
    "\\begin{matrix}\n",
    "A_{11} & = & 234 \\\\\n",
    "A_{12} & = & 292 \\\\\n",
    "A_{32} & = & 846\n",
    "\\end{matrix}\n",
    "$$\n",
    "$A_{ij}$ is the \"i,j entry\" in the $i^{th}$ row and $j^{th}$ column.\n"
   ]
  },
  {
   "cell_type": "markdown",
   "metadata": {},
   "source": [
    "#### Vector representation\n",
    "\n",
    "A vector is an n x 1 matrix.  In the example below  $y_i = i^{th}$ element.\n",
    "$$ y=\\begin{bmatrix}460 \\\\444 \\\\ 425 \\\\179 \\\\ 646 \\end{bmatrix} $$\n",
    "Therefore,\n",
    "$$\n",
    "\\begin{matrix}\n",
    "y_{1} & = & 460 \\\\\n",
    "y_{2} & = & 444 \\\\\n",
    "y_{3} & = & 425 \\\\\n",
    "y_{5} & = & 646\n",
    "\\end{matrix}\n",
    "$$\n"
   ]
  },
  {
   "cell_type": "markdown",
   "metadata": {},
   "source": [
    "### Linear Algebra Operations\n",
    "#### Transposition\n",
    "\n",
    "Given an m x n matrix/vector. By transposing or exchanging the rows and columns the resulting matrix becomes a n x m matrix. For example, given\n",
    "$$z=\\begin{bmatrix}1&2\\\\3&4\\\\5&6\\\\7&8\\end{bmatrix}=\\mathbb{R}^{4\\times 2}$$ 4 rows by  2 columns matrix\n",
    "The resulting transpose of z becomes:\n",
    "$$z^\\top=\\begin{bmatrix}1&3&5&7\\\\2&4&6&8\\end{bmatrix}=\\mathbb{R}^{2\\times 4}$$ 2 rows by 4 columns matrix\n",
    "\n"
   ]
  },
  {
   "cell_type": "markdown",
   "metadata": {},
   "source": [
    "#### Matrix Addition and Subtraction\n",
    "##### Example\n",
    "\n",
    "$$\n",
    "\\begin{bmatrix}\n",
    "1 & 0 \\\\ 2 & 5 \\\\ 3 & 1\n",
    "\\end{bmatrix}+\n",
    "\\begin{bmatrix}\n",
    "4 & 5 \\\\ 2 & 1.5 \\\\ 0 & 1\n",
    "\\end{bmatrix}=\n",
    "\\begin{bmatrix}\n",
    "5 & 5 \\\\ 4 & 6.5 \\\\ 3 & 2\n",
    "\\end{bmatrix}\n",
    "$$\n",
    "\n",
    "##### Matrix Addition and Subtraction Properties\n",
    "\n",
    "- Operands must have the same dimension\n",
    "- Resulting value dimensions must be consistent with operand dimensions\n",
    "\n"
   ]
  },
  {
   "cell_type": "markdown",
   "metadata": {},
   "source": [
    "#### Scalar Multiplication\n",
    "##### Exampe\n",
    "\n",
    "$$\n",
    "3\\times\\begin{bmatrix}\n",
    "1 & 0 \\\\ 2 & 5 \\\\ 3 & 1\n",
    "\\end{bmatrix}=\n",
    "\\begin{bmatrix}\n",
    "3 & 0 \\\\ 6 & 15 \\\\ 9 & 3\n",
    "\\end{bmatrix}=\n",
    "\\begin{bmatrix}\n",
    "1 & 0 \\\\ 2 & 5 \\\\ 3 & 1\n",
    "\\end{bmatrix}\\times 3\n",
    "$$\n"
   ]
  },
  {
   "cell_type": "markdown",
   "metadata": {},
   "source": [
    "\n",
    "#### Scalar Product\n",
    "##### Example\n",
    "$$\n",
    "\\begin{bmatrix}\n",
    "1 \\\\ 2 \\\\ 3 \n",
    "\\end{bmatrix} \\bullet\n",
    "\\begin{bmatrix}\n",
    "4 \\\\ 1.5 \\\\ 1\n",
    "\\end{bmatrix}=\n",
    "\\begin{bmatrix}\n",
    "1 \\times 4 \\\\+\\\\ 2 \\times 1.5 \\\\+\\\\ 3 \\times 1\n",
    "\\end{bmatrix}=4+3+3=10\n",
    "$$\n",
    "Note that the scalar product is\n",
    "1. a Pair-wise Multiplication\n",
    "2. also known as vector-vector product or dot product\n"
   ]
  },
  {
   "cell_type": "markdown",
   "metadata": {},
   "source": [
    "#### Matrix Vector Product\n",
    "##### Example\n",
    "$$\n",
    "\\begin{bmatrix}\n",
    "1 & 3 \\\\ 4 & 0 \\\\ 2 & 1\n",
    "\\end{bmatrix}\\times\n",
    "\\begin{bmatrix}\n",
    "4 \\\\ 5 \n",
    "\\end{bmatrix}=\n",
    "\\begin{bmatrix}\n",
    "1 \\times 4 + 3 \\times 5  \\\\ 4 \\times 5 + 0 \\times 5  \\\\ 2 \\times 4 + 1 \\times 5\n",
    "\\end{bmatrix}=\n",
    "\\begin{bmatrix}\n",
    "4 + 15  \\\\ 20 + 0  \\\\ 8 + 5\n",
    "\\end{bmatrix}=\n",
    "\\begin{bmatrix}\n",
    "19  \\\\ 20  \\\\ 13\n",
    "\\end{bmatrix}\n",
    "$$\n",
    "- Scalar product is a special form of a matrix vector product.\n"
   ]
  },
  {
   "cell_type": "markdown",
   "metadata": {},
   "source": [
    "#### Matrix Matrix Multiplication\n",
    "##### Example\n",
    "$$\n",
    "\\begin{bmatrix}\n",
    "1 & 3 & 2 \\\\ 4 & 0 & 1 \n",
    "\\end{bmatrix}\\times\n",
    "\\begin{bmatrix}\n",
    "1 & 3\\\\ 0 & 1 \\\\ 5 & 2\n",
    "\\end{bmatrix}=\n",
    "\\begin{bmatrix}\n",
    "11 & 10 \\\\ 9 & 14\n",
    "\\end{bmatrix}\n",
    "$$\n",
    "$$\n",
    "\\begin{bmatrix}\n",
    "1 \\\\ 3 \\\\ 2 \n",
    "\\end{bmatrix}\\times\n",
    "\\begin{bmatrix}\n",
    "1 \\\\ 0 \\\\ 5\n",
    "\\end{bmatrix}=\n",
    "\\begin{bmatrix}\n",
    "1 \\times 1 \\\\+\\\\ 3 \\times 0 \\\\+\\\\ 2 \\times 5\n",
    "\\end{bmatrix}=1+0+10=11\n",
    "$$\n",
    "$$\n",
    "\\begin{bmatrix}\n",
    "1 \\\\ 3 \\\\ 2 \n",
    "\\end{bmatrix}\\times\n",
    "\\begin{bmatrix}\n",
    "3 \\\\ 1 \\\\ 2\n",
    "\\end{bmatrix}=\n",
    "\\begin{bmatrix}\n",
    "1 \\times 3 \\\\+\\\\ 3 \\times 1 \\\\+\\\\ 2 \\times 2\n",
    "\\end{bmatrix}=3+3+4=10\n",
    "$$\n",
    "\n",
    "##### Properties\n",
    "\n",
    "1. Associative $(AB)C=A(BC)$\n",
    "2. Not commutative $AB\\neq BA$\n",
    "3. m x n matrix multiplied by n x o matrix results in an m x o matrix.\n",
    "\n",
    "#### Procedure for Matrix Vector Product\n",
    "1. For each of the rows in the matrix do the following\n",
    "   1) A dot product of each of the columns in the second matrix\n",
    "   2) Fill the values of each dot product in a row-wise fashion.\n",
    "   \n",
    "So for the next two values in the matrix-matrix product we have\n",
    "\n"
   ]
  },
  {
   "cell_type": "markdown",
   "metadata": {},
   "source": [
    "$$\n",
    "\\begin{bmatrix}\n",
    "4 \\\\ 0 \\\\ 1 \n",
    "\\end{bmatrix}\\times\n",
    "\\begin{bmatrix}\n",
    "1 \\\\ 0 \\\\ 5\n",
    "\\end{bmatrix}=\n",
    "\\begin{bmatrix}\n",
    "4 \\times 1 \\\\+\\\\ 0 \\times 0 \\\\+\\\\ 1 \\times 5\n",
    "\\end{bmatrix}=4+0+5=9\n",
    "$$\n",
    "$$\n",
    "\\begin{bmatrix}\n",
    "4 \\\\ 0 \\\\ 1 \n",
    "\\end{bmatrix}\\times\n",
    "\\begin{bmatrix}\n",
    "3 \\\\ 1 \\\\ 2\n",
    "\\end{bmatrix}=\n",
    "\\begin{bmatrix}\n",
    "4 \\times 3 \\\\+\\\\ 0 \\times 1 \\\\+\\\\ 1 \\times 2\n",
    "\\end{bmatrix}=12+0+2=14\n",
    "$$"
   ]
  },
  {
   "cell_type": "markdown",
   "metadata": {},
   "source": [
    "#### Identity matrix\n",
    "In mathematics, the identity property is a concept by when a mathematical element is multiplied by an identity element the result is the original multiplying element.  In linear algebra when a matrix or vector is multiplied by its corresponding identity matrix i.e. (max dimension of multiplying matrix/vector) will be the the multiplying matrix or vector.  The Identity matrix is denoted by $I=I_{n\\times n}$ where n is the maximum dimension of the multiplying matrix of vector. Sybmolically for any Matrix $A$, $$A\\dot I = I \\dot A = A$$.\n",
    "##### Examples\n",
    "$$[1]\\text{ for }n=1$$\n",
    "$$\\begin{bmatrix}1&0\\\\0&1\\end{bmatrix}\\text{ for }n=2$$\n",
    "$$\\begin{bmatrix}1&0&0\\\\0&1&0\\\\0&0&1\\end{bmatrix}\\text{ for }n=3$$\n",
    "$$etc..$$\n",
    "#### Inverse Matrix\n",
    "Any matrix factor when multiplied by matrix A resulting in an identity matrix is the inverse of such a matrix following the mathematical definition of an inverse. Therefore symbolically speaking $$A(A^{-1})=A^{-1}A=I$$\n",
    "#####  Example\n",
    "$$\n",
    "\\begin{bmatrix}\n",
    "3 & 4\\\\ 2 & 16 \n",
    "\\end{bmatrix}\\times\n",
    "\\begin{bmatrix}\n",
    "0.4 & -0.1\\\\ -0.05 & 0.025\n",
    "\\end{bmatrix}=\n",
    "\\begin{bmatrix}\n",
    "1 & 0 \\\\ 0 & 1\n",
    "\\end{bmatrix}=I_{2 \\times 2}\n",
    "$$\n",
    "\n",
    "Note that matrices that do not have an inverse factor are known as singular matrices or degenerate matrices.\n",
    "\n",
    "#### Euclidean Norms\n",
    "Also known as the $L_2$ Norm of a vector, the Euclidean norm is the square root dot product of the vector and itself. i.e. Given vector A, its Euclidean Norm, denoted by ||A||, is $\\sqrt{A\\bullet A}$.\n"
   ]
  },
  {
   "cell_type": "markdown",
   "metadata": {
    "collapsed": true
   },
   "source": [
    "### Linear Algebra in Python Exercises \n",
    "#### Example 1\n",
    "Given a Vector $A=\\begin{bmatrix}1\\\\2\\\\3\\end{bmatrix}$. Using python, find the Euclidean norm of A=||A||.\n",
    "#### Solution \n",
    " Given that the Euclidean Norm of a vector A is given as $\\sqrt{A\\bullet A}$.\n",
    " \n",
    " $$A.A=\\begin{bmatrix}1\\\\2\\\\3\\end{bmatrix}\\bullet \\begin{bmatrix}1\\\\2\\\\3\\end{bmatrix}$$\n",
    " $$A.A=1\\times 1+2 \\times 2+3\\times 3=1+4+9=13$$\n",
    " therefore ||A||= $\\sqrt{A\\bullet A}=\\sqrt{13}$.  For this we use the help of the square root function of the math library"
   ]
  },
  {
   "cell_type": "code",
   "execution_count": 26,
   "metadata": {},
   "outputs": [
    {
     "name": "stdout",
     "output_type": "stream",
     "text": [
      "||A||= 3.605551275463989\n"
     ]
    }
   ],
   "source": [
    "import math\n",
    "print(\"||A||=\",math.sqrt(13))"
   ]
  },
  {
   "cell_type": "markdown",
   "metadata": {},
   "source": [
    "#### Example 2\n",
    "Solve the following equation\n",
    "$\\begin{bmatrix}5&2\\\\-2&4\\end{bmatrix}\n",
    "=\\begin{bmatrix}5\\\\2 \\end{bmatrix}$\n"
   ]
  },
  {
   "cell_type": "markdown",
   "metadata": {},
   "source": [
    "#### Solution\n",
    "To put this into perspective the above equation is equivalent to\n",
    "$$\\begin{matrix}5x+2y=5\\\\-2x+4y=2\\end{matrix}$$"
   ]
  },
  {
   "cell_type": "markdown",
   "metadata": {},
   "source": [
    "There are various methods of arriving at a solution to this simultaneous equation.  However not to digress from our linear algebra topic, we are   going to be interested in the linear algebra solution. Within the field of lienar algebra, not surprisingly, within linear algebra there are also myriad algorithms to solve a system of equations.  A general solution however, is one given as follows:  Given the matrix representation"
   ]
  },
  {
   "cell_type": "markdown",
   "metadata": {},
   "source": [
    "$$\\begin{bmatrix}5&2\\\\-2&4\\end{bmatrix}\n",
    "\\begin{bmatrix}x\\\\y \\end{bmatrix}\n",
    "=\\begin{bmatrix}5\\\\2 \\end{bmatrix} - - - (1)$$"
   ]
  },
  {
   "cell_type": "markdown",
   "metadata": {},
   "source": [
    "This can  be shortened to $$\\mathbf{Ax=B} - - - (2)$$\n",
    "where $$\\mathbf{A}=\\begin{bmatrix}5&2\\\\-2&4\\end{bmatrix},\n",
    "\\mathbf{x}=\\begin{bmatrix}x\\\\y \\end{bmatrix}\\text{, and  }\n",
    "\\mathbf{B}=\\begin{bmatrix}5\\\\2 \\end{bmatrix}$$"
   ]
  },
  {
   "cell_type": "markdown",
   "metadata": {},
   "source": [
    "From general algebra, x in Equation (2) can be calculated as $\\mathbf{B/A\\equiv A^{-1}B}$"
   ]
  },
  {
   "cell_type": "markdown",
   "metadata": {},
   "source": [
    "Applying this to Equation (1) this gives:\n",
    "$$\\begin{bmatrix}5&2\\\\-2&4\\end{bmatrix}^{-1}\n",
    "\\begin{bmatrix}5\\\\2 \\end{bmatrix}\n",
    "=\\begin{bmatrix}x\\\\y \\end{bmatrix} - - - (3)$$"
   ]
  },
  {
   "cell_type": "markdown",
   "metadata": {},
   "source": [
    "Equation (3) Can be solved in 2 super steps namely \n",
    "1. Determine the inverse of matrix A\n",
    "2. Multiply the result of step 1 by vector B.\n",
    "\n",
    "##### Step 1;\n",
    "Not surprisingly as well, there are various methods for determining the inverse of a matrix in step 1.  We choose to go with the python Gauss Jordan implementation shown below\n",
    "\n",
    "First Let us Define matrix A and Vector B\n"
   ]
  },
  {
   "cell_type": "code",
   "execution_count": 7,
   "metadata": {
    "collapsed": true
   },
   "outputs": [],
   "source": [
    "A=[[5, 2],[-2,4]]\n",
    "B=[5,2]\n"
   ]
  },
  {
   "cell_type": "markdown",
   "metadata": {},
   "source": [
    "Define the Gauss Jordan Reduction and inverse functions"
   ]
  },
  {
   "cell_type": "code",
   "execution_count": 8,
   "metadata": {
    "collapsed": true
   },
   "outputs": [],
   "source": [
    "# Gauss Jordadn Implementation to reduce Matrix to Identity\n",
    "\n",
    "def gauss_jordan(m, eps = 1.0/(10**10)):\n",
    "  \"\"\"Puts given matrix (2D array) into the Reduced Row Echelon Form.\n",
    "     Returns True if successful, False if 'm' is singular.\n",
    "     NOTE: make sure all the matrix items support fractions! Int matrix will NOT work!\n",
    "     Written by Jarno Elonen in April 2005, released into Public Domain\"\"\"\n",
    "  (h, w) = (len(m), len(m[0]))\n",
    "  for y in range(0,h):\n",
    "    maxrow = y\n",
    "    for y2 in range(y+1, h):    # Find max pivot\n",
    "      if abs(m[y2][y]) > abs(m[maxrow][y]):\n",
    "        maxrow = y2\n",
    "    (m[y], m[maxrow]) = (m[maxrow], m[y])\n",
    "    if abs(m[y][y]) <= eps:     # Singular?\n",
    "      return False\n",
    "    for y2 in range(y+1, h):    # Eliminate column y\n",
    "      c = m[y2][y] / m[y][y]\n",
    "      for x in range(y, w):\n",
    "        m[y2][x] -= m[y][x] * c\n",
    "  for y in range(h-1, 0-1, -1): # Backsubstitute\n",
    "    c  = m[y][y]\n",
    "    for y2 in range(0,y):\n",
    "      for x in range(w-1, y-1, -1):\n",
    "        m[y2][x] -=  m[y][x] * m[y2][y] / c\n",
    "    m[y][y] /= c\n",
    "    for x in range(h, w):       # Normalize row y\n",
    "      m[y][x] /= c\n",
    "  return True\n",
    "\n",
    "# Use Gauss Jordan to obtain matrix inverse.\n",
    "\n",
    "def inv(M):\n",
    "  \"\"\"\n",
    "  return the inv of the matrix M\n",
    "  \"\"\"\n",
    "  #clone the matrix and append the identity matrix\n",
    "  # [int(i==j) for j in range_M] is nothing but the i(th row of the identity matrix\n",
    "  m2 = [row[:]+[int(i==j) for j in range(len(M) )] for i,row in enumerate(M) ]\n",
    "  # extract the appended matrix (kind of m2[m:,...]\n",
    "  return [row[len(M[0]):] for row in m2] if gauss_jordan(m2) else None"
   ]
  },
  {
   "cell_type": "markdown",
   "metadata": {},
   "source": [
    "Next we call the defined inverse function which internally calls the Gauss Jordan function to obtain the matrix inverse"
   ]
  },
  {
   "cell_type": "code",
   "execution_count": 9,
   "metadata": {
    "collapsed": true
   },
   "outputs": [],
   "source": [
    "Ainv=inv(A)"
   ]
  },
  {
   "cell_type": "markdown",
   "metadata": {},
   "source": [
    "##### Step 2\n",
    "The easier part of this exercise is matrix multiplicatin which he have already seen. We follow the following sub-steps"
   ]
  },
  {
   "cell_type": "markdown",
   "metadata": {},
   "source": [
    "a. Do the inner product of The first row of Ainv times vector B"
   ]
  },
  {
   "cell_type": "code",
   "execution_count": 10,
   "metadata": {},
   "outputs": [
    {
     "name": "stdout",
     "output_type": "stream",
     "text": [
      "x = 0.6666666666666665\n"
     ]
    }
   ],
   "source": [
    "x=Ainv[0][0]*B[0]+Ainv[0][1]*B[1]\n",
    "print(\"x =\",x)"
   ]
  },
  {
   "cell_type": "markdown",
   "metadata": {},
   "source": [
    "b. Do the same inner product for the second row"
   ]
  },
  {
   "cell_type": "code",
   "execution_count": 11,
   "metadata": {},
   "outputs": [
    {
     "name": "stdout",
     "output_type": "stream",
     "text": [
      "y = 0.8333333333333335\n"
     ]
    }
   ],
   "source": [
    "y=Ainv[1][0]*B[0]+Ainv[1][1]*B[1]\n",
    "print(\"y =\",y)"
   ]
  },
  {
   "cell_type": "code",
   "execution_count": 12,
   "metadata": {},
   "outputs": [
    {
     "name": "stdout",
     "output_type": "stream",
     "text": [
      "5.0\n",
      "2.000000000000001\n"
     ]
    }
   ],
   "source": [
    "print(5*x+2*y) # = 5\n",
    "print(-2*x+4*y) # = 2"
   ]
  },
  {
   "cell_type": "markdown",
   "metadata": {},
   "source": [
    "##### Putting step 2 into a function"
   ]
  },
  {
   "cell_type": "code",
   "execution_count": 13,
   "metadata": {
    "collapsed": true
   },
   "outputs": [],
   "source": [
    "def matmult(A,B):\n",
    "    if type(B)!=list or type(A)!=list:\n",
    "        print( \"invalid types\")\n",
    "        return\n",
    "    if type(A[0])!=list:\n",
    "        print(\"invalid types\")\n",
    "        return\n",
    "    if len(A[0])!=len(B):\n",
    "        print(\"dimension mismatch\")\n",
    "        return\n",
    "    return   [sum([A[i][j]*B[j] for j in range(len(B))]) for i in range(len(A))]"
   ]
  },
  {
   "cell_type": "code",
   "execution_count": 14,
   "metadata": {},
   "outputs": [
    {
     "data": {
      "text/plain": [
       "[0.6666666666666665, 0.8333333333333335]"
      ]
     },
     "execution_count": 14,
     "metadata": {},
     "output_type": "execute_result"
    }
   ],
   "source": [
    "matmult(Ainv, B)"
   ]
  },
  {
   "cell_type": "code",
   "execution_count": 16,
   "metadata": {},
   "outputs": [
    {
     "data": {
      "text/plain": [
       "2"
      ]
     },
     "execution_count": 16,
     "metadata": {},
     "output_type": "execute_result"
    }
   ],
   "source": [
    "ncols=len(B)\n",
    "ncols"
   ]
  },
  {
   "cell_type": "markdown",
   "metadata": {},
   "source": [
    "### NumPy: Python's Linear Algebra Solution"
   ]
  },
  {
   "cell_type": "markdown",
   "metadata": {
    "collapsed": true
   },
   "source": [
    "So far we have seen that it is possible to carry out linear algebra operations on lists.  However, there is a much simpler and cooler way of doing this.  This is where we begin to introduce the python Machine Learning Stack.  The library for performing mathematical operations in python is called NumPy (which I am presuming is short for numerical python).  NumPy is in essence a linear algebra library that is useful for performing operations on n-dimensional matrices, that recently has taken up the alias TENSOR. These operations range from matrix operations to common math functions and beyond to plotting capabilities witht he help of matlop lib.  Two other similar libraries python has to offer is the symbolic python (SymPy) for performing analytical math operations and SciPy for scientific and statistical computation.   In this Course however, we restrict ourselves mostly strictly to the core machine learning stack of which NumPy is at the core.  So let us look at what NumPy has to offer us.  \n",
    "\n",
    "To solve our earlier equation in exercise (2) NumPy offers us a function to perform matrix inverse as well as a function to perform matrix multiplication. There is however a small caveat, because we are performing operations as Tensors rather than on an element by element basis the input to the functions need to be in the right orientation.  So for example, to perform matrix multiplication a row has to be multiplied by a colunn and we are multiplying Matrix A by Vector B hence, vector B has to be in column form.  To solve this, Numpy also provides us with a transpose function to change a row vector to a column vector and vice versa.  Let's examine how this works.\n",
    "\n",
    "First let us import the NumPy library and give it's common alias np and then use np to call the relevant functions. Our solution which we obtained in two super steps can now be solved in one convoluted step as follows"
   ]
  },
  {
   "cell_type": "code",
   "execution_count": 17,
   "metadata": {
    "collapsed": true
   },
   "outputs": [],
   "source": [
    "import numpy as np"
   ]
  },
  {
   "cell_type": "code",
   "execution_count": 18,
   "metadata": {},
   "outputs": [
    {
     "name": "stdout",
     "output_type": "stream",
     "text": [
      "x = 0.666666666667\n",
      "y = 0.833333333333\n"
     ]
    }
   ],
   "source": [
    "(x,y)=np.matmul(np.linalg.inv(A),np.transpose(B))\n",
    "print(\"x =\",x)\n",
    "print(\"y =\",y)"
   ]
  },
  {
   "cell_type": "code",
   "execution_count": 11,
   "metadata": {},
   "outputs": [
    {
     "name": "stdout",
     "output_type": "stream",
     "text": [
      "5.0\n",
      "2.0\n"
     ]
    }
   ],
   "source": [
    "print(5*x+2*y) # = 5\n",
    "print(-2*x+4*y) # = 2"
   ]
  },
  {
   "cell_type": "markdown",
   "metadata": {},
   "source": [
    "Numpy provides us with an Array datatype or structure that can be used to perform operations on n-dimensional arrays unlike lists that can only be operated on on a element-wise basis.  Therefore linear algebra operations in numpy arrays are different from list operations.  For example while the '+' operator in lists is used to concatanete ordinary lists the same operation using numpy will perform a pair-wise addition operation."
   ]
  },
  {
   "cell_type": "code",
   "execution_count": 12,
   "metadata": {},
   "outputs": [
    {
     "data": {
      "text/plain": [
       "[1, 2, 3, 1, 2, 3]"
      ]
     },
     "execution_count": 12,
     "metadata": {},
     "output_type": "execute_result"
    }
   ],
   "source": [
    "[1,2,3]+[1,2,3]"
   ]
  },
  {
   "cell_type": "code",
   "execution_count": 19,
   "metadata": {},
   "outputs": [
    {
     "data": {
      "text/plain": [
       "array([2, 4, 6])"
      ]
     },
     "execution_count": 19,
     "metadata": {},
     "output_type": "execute_result"
    }
   ],
   "source": [
    "np.array([1,2,3])+np.array([1,2,3])"
   ]
  },
  {
   "cell_type": "code",
   "execution_count": 20,
   "metadata": {},
   "outputs": [
    {
     "data": {
      "text/plain": [
       "0.0"
      ]
     },
     "execution_count": 20,
     "metadata": {},
     "output_type": "execute_result"
    }
   ],
   "source": [
    "np.linalg.det(np.array([[1,1],[1,1]]))"
   ]
  },
  {
   "cell_type": "markdown",
   "metadata": {},
   "source": [
    "As mentioned before, NumPy forms the bedrock of the Python Machine Learning stack, so we will be using NumPy tensors a lot either deliberately or behind the hood.  Rather than giving a tutorial on NumPy which can be found [here](http://scipy.github.io/old-wiki/pages/Tentative_NumPy_Tutorial).  We will see numpy in action in today's challenge and throughout this course. A basic numpy reference can be found at [http://mathesaurus.sourceforge.net/matlab-numpy.html](http://mathesaurus.sourceforge.net/matlab-numpy.html)"
   ]
  },
  {
   "cell_type": "markdown",
   "metadata": {},
   "source": [
    "## Session Challenge: Linear Discriminant Analysis\n",
    "\n",
    "LDA is a method developed by R. A. Fisher to perform classification task based on the statistical properties namely mean and variance of a data set.  As simple as this technique may look it performs a relatively decent job when the data is in the right format.  So what do we mean by the right format?  The LDA criterion makes two assumptions:\n",
    "1. That the dataset is Gaussian, i.e. one that has a uniform mean and standard deviation that tends zero the further away from the mean the values are.\n",
    "2. That each attribute has roughly the same variance on average. In other words there should be very few or eliminated outliers.\n",
    "\n",
    "Therefore once we have been able to remove outliers, ensure a standard normal distribution of the data having roughly same variance, the linear discriminant function becomes:\n",
    "$$D_k(x)=x\\times\\frac{\\mu_k}{\\sigma^2_k}-\\frac{\\mu_k^2}{2\\times\\sigma^2_k}+\\ln(P(k)) - - - (1)$$\n",
    "where\n",
    "$$\\begin{matrix}\n",
    " D_k(x)&=&\\text{Classification of data, x}& \\\\\n",
    " k&=&\\text{class k}& \\\\\n",
    " \\mu_k &=& \\frac{1}{n_k}\\sum_{i=1}^nx_i\n",
    "& \\text{mean of class k} - - - (2)\\end{matrix}$$\n",
    "$$\\begin{matrix}\n",
    " \\sigma_k^2 &=& \\frac{1}{n-K}\\sum_{i=1}^n(x_i-\\mu_k)^2 & \\text{variance of class k}\n",
    "\\end{matrix} - - - (3)$$\n",
    "\n",
    "The Discriminant criterion becomes the class with the largest $D_k(x)$ value. Note that for x having more than one feature, the average of the means of each feature will be used and the covariance matrix of the features  will also be applied instead of the variance.\n",
    "\n",
    "One major advantage of LDA is the fact that it still performs reasonably accurately for small amounts of data as well.  In addition, it can be used for multinomial classification as opposed to logistic regression which is suited for binary classification.\n",
    "\n"
   ]
  },
  {
   "cell_type": "markdown",
   "metadata": {},
   "source": [
    "### Implementing LDA with Pandas\n",
    "\n",
    "After getting to grips with the NumPy library, the next building block on top of NumPy is called Pandas library.  The pandas library is one in python that enables users to work with large datasets and contains a number of useful features to handle data cleaning, data preparation and data manipulation.  In this implementation we import the seaborn dataset that contains the iris database of wild flowers and their characteristics as a pandas dataset.  Let us therefore, use pandas to explore this database.  The documentation for pandas can be found [here](https://pandas.pydata.org/pandas-docs/)."
   ]
  },
  {
   "cell_type": "code",
   "execution_count": 23,
   "metadata": {},
   "outputs": [
    {
     "data": {
      "text/html": [
       "<div>\n",
       "<style>\n",
       "    .dataframe thead tr:only-child th {\n",
       "        text-align: right;\n",
       "    }\n",
       "\n",
       "    .dataframe thead th {\n",
       "        text-align: left;\n",
       "    }\n",
       "\n",
       "    .dataframe tbody tr th {\n",
       "        vertical-align: top;\n",
       "    }\n",
       "</style>\n",
       "<table border=\"1\" class=\"dataframe\">\n",
       "  <thead>\n",
       "    <tr style=\"text-align: right;\">\n",
       "      <th></th>\n",
       "      <th>sepal_length</th>\n",
       "      <th>sepal_width</th>\n",
       "      <th>petal_length</th>\n",
       "      <th>petal_width</th>\n",
       "      <th>species</th>\n",
       "    </tr>\n",
       "  </thead>\n",
       "  <tbody>\n",
       "    <tr>\n",
       "      <th>0</th>\n",
       "      <td>5.1</td>\n",
       "      <td>3.5</td>\n",
       "      <td>1.4</td>\n",
       "      <td>0.2</td>\n",
       "      <td>setosa</td>\n",
       "    </tr>\n",
       "    <tr>\n",
       "      <th>1</th>\n",
       "      <td>4.9</td>\n",
       "      <td>3.0</td>\n",
       "      <td>1.4</td>\n",
       "      <td>0.2</td>\n",
       "      <td>setosa</td>\n",
       "    </tr>\n",
       "    <tr>\n",
       "      <th>2</th>\n",
       "      <td>4.7</td>\n",
       "      <td>3.2</td>\n",
       "      <td>1.3</td>\n",
       "      <td>0.2</td>\n",
       "      <td>setosa</td>\n",
       "    </tr>\n",
       "    <tr>\n",
       "      <th>3</th>\n",
       "      <td>4.6</td>\n",
       "      <td>3.1</td>\n",
       "      <td>1.5</td>\n",
       "      <td>0.2</td>\n",
       "      <td>setosa</td>\n",
       "    </tr>\n",
       "    <tr>\n",
       "      <th>4</th>\n",
       "      <td>5.0</td>\n",
       "      <td>3.6</td>\n",
       "      <td>1.4</td>\n",
       "      <td>0.2</td>\n",
       "      <td>setosa</td>\n",
       "    </tr>\n",
       "  </tbody>\n",
       "</table>\n",
       "</div>"
      ],
      "text/plain": [
       "   sepal_length  sepal_width  petal_length  petal_width species\n",
       "0           5.1          3.5           1.4          0.2  setosa\n",
       "1           4.9          3.0           1.4          0.2  setosa\n",
       "2           4.7          3.2           1.3          0.2  setosa\n",
       "3           4.6          3.1           1.5          0.2  setosa\n",
       "4           5.0          3.6           1.4          0.2  setosa"
      ]
     },
     "execution_count": 23,
     "metadata": {},
     "output_type": "execute_result"
    }
   ],
   "source": [
    "import seaborn as sns # this is a pandas dataset library normally we use\n",
    "import numpy as np\n",
    "iris = sns.load_dataset('iris') # this is a pandas object\n",
    "iris.head()"
   ]
  },
  {
   "cell_type": "code",
   "execution_count": 24,
   "metadata": {
    "scrolled": true
   },
   "outputs": [
    {
     "data": {
      "image/png": "[encoded data removed]",
      "text/plain": [
       "<matplotlib.figure.Figure at 0x7eff11ec37f0>"
      ]
     },
     "metadata": {},
     "output_type": "display_data"
    }
   ],
   "source": [
    "%matplotlib inline\n",
    "import seaborn as sns; sns.set()\n",
    "sns.pairplot(iris, hue='species', size=1.5);"
   ]
  },
  {
   "cell_type": "code",
   "execution_count": 25,
   "metadata": {
    "collapsed": true
   },
   "outputs": [],
   "source": [
    "iris_X=iris['petal_width']"
   ]
  },
  {
   "cell_type": "code",
   "execution_count": 26,
   "metadata": {
    "collapsed": true
   },
   "outputs": [],
   "source": [
    "iris_Y=iris['species']"
   ]
  },
  {
   "cell_type": "code",
   "execution_count": 27,
   "metadata": {},
   "outputs": [
    {
     "data": {
      "text/plain": [
       "setosa        50\n",
       "versicolor    50\n",
       "virginica     50\n",
       "Name: species, dtype: int64"
      ]
     },
     "execution_count": 27,
     "metadata": {},
     "output_type": "execute_result"
    }
   ],
   "source": [
    "iris['species'].value_counts()"
   ]
  },
  {
   "cell_type": "code",
   "execution_count": 28,
   "metadata": {
    "scrolled": true
   },
   "outputs": [
    {
     "data": {
      "text/plain": [
       "50"
      ]
     },
     "execution_count": 28,
     "metadata": {},
     "output_type": "execute_result"
    }
   ],
   "source": [
    "len(iris.loc[iris.species=='setosa'])"
   ]
  },
  {
   "cell_type": "code",
   "execution_count": 29,
   "metadata": {},
   "outputs": [
    {
     "data": {
      "text/plain": [
       "150"
      ]
     },
     "execution_count": 29,
     "metadata": {},
     "output_type": "execute_result"
    }
   ],
   "source": [
    "len(iris_Y)"
   ]
  },
  {
   "cell_type": "code",
   "execution_count": 30,
   "metadata": {},
   "outputs": [
    {
     "data": {
      "text/plain": [
       "0.3333333333333333"
      ]
     },
     "execution_count": 30,
     "metadata": {},
     "output_type": "execute_result"
    }
   ],
   "source": [
    "p_virg=p_vers=p_set=50/150\n",
    "p_vers"
   ]
  },
  {
   "cell_type": "code",
   "execution_count": 31,
   "metadata": {
    "collapsed": true,
    "scrolled": true
   },
   "outputs": [],
   "source": [
    "dset=iris.loc[iris.species=='setosa']"
   ]
  },
  {
   "cell_type": "code",
   "execution_count": 32,
   "metadata": {
    "collapsed": true
   },
   "outputs": [],
   "source": [
    "dvirg=iris.loc[iris.species=='virginica']"
   ]
  },
  {
   "cell_type": "code",
   "execution_count": 33,
   "metadata": {
    "collapsed": true
   },
   "outputs": [],
   "source": [
    "dvers=iris.loc[iris.species=='versicolor']"
   ]
  },
  {
   "cell_type": "code",
   "execution_count": 34,
   "metadata": {},
   "outputs": [
    {
     "name": "stdout",
     "output_type": "stream",
     "text": [
      "<class 'pandas.core.frame.DataFrame'>\n",
      "Int64Index: 50 entries, 0 to 49\n",
      "Data columns (total 5 columns):\n",
      "sepal_length    50 non-null float64\n",
      "sepal_width     50 non-null float64\n",
      "petal_length    50 non-null float64\n",
      "petal_width     50 non-null float64\n",
      "species         50 non-null object\n",
      "dtypes: float64(4), object(1)\n",
      "memory usage: 2.3+ KB\n"
     ]
    }
   ],
   "source": [
    "dset.info()"
   ]
  },
  {
   "cell_type": "code",
   "execution_count": 35,
   "metadata": {
    "scrolled": true
   },
   "outputs": [
    {
     "data": {
      "text/html": [
       "<div>\n",
       "<style>\n",
       "    .dataframe thead tr:only-child th {\n",
       "        text-align: right;\n",
       "    }\n",
       "\n",
       "    .dataframe thead th {\n",
       "        text-align: left;\n",
       "    }\n",
       "\n",
       "    .dataframe tbody tr th {\n",
       "        vertical-align: top;\n",
       "    }\n",
       "</style>\n",
       "<table border=\"1\" class=\"dataframe\">\n",
       "  <thead>\n",
       "    <tr style=\"text-align: right;\">\n",
       "      <th></th>\n",
       "      <th>sepal_length</th>\n",
       "      <th>sepal_width</th>\n",
       "      <th>petal_length</th>\n",
       "      <th>petal_width</th>\n",
       "    </tr>\n",
       "  </thead>\n",
       "  <tbody>\n",
       "    <tr>\n",
       "      <th>count</th>\n",
       "      <td>50.00000</td>\n",
       "      <td>50.000000</td>\n",
       "      <td>50.000000</td>\n",
       "      <td>50.000000</td>\n",
       "    </tr>\n",
       "    <tr>\n",
       "      <th>mean</th>\n",
       "      <td>5.00600</td>\n",
       "      <td>3.428000</td>\n",
       "      <td>1.462000</td>\n",
       "      <td>0.246000</td>\n",
       "    </tr>\n",
       "    <tr>\n",
       "      <th>std</th>\n",
       "      <td>0.35249</td>\n",
       "      <td>0.379064</td>\n",
       "      <td>0.173664</td>\n",
       "      <td>0.105386</td>\n",
       "    </tr>\n",
       "    <tr>\n",
       "      <th>min</th>\n",
       "      <td>4.30000</td>\n",
       "      <td>2.300000</td>\n",
       "      <td>1.000000</td>\n",
       "      <td>0.100000</td>\n",
       "    </tr>\n",
       "    <tr>\n",
       "      <th>25%</th>\n",
       "      <td>4.80000</td>\n",
       "      <td>3.200000</td>\n",
       "      <td>1.400000</td>\n",
       "      <td>0.200000</td>\n",
       "    </tr>\n",
       "    <tr>\n",
       "      <th>50%</th>\n",
       "      <td>5.00000</td>\n",
       "      <td>3.400000</td>\n",
       "      <td>1.500000</td>\n",
       "      <td>0.200000</td>\n",
       "    </tr>\n",
       "    <tr>\n",
       "      <th>75%</th>\n",
       "      <td>5.20000</td>\n",
       "      <td>3.675000</td>\n",
       "      <td>1.575000</td>\n",
       "      <td>0.300000</td>\n",
       "    </tr>\n",
       "    <tr>\n",
       "      <th>max</th>\n",
       "      <td>5.80000</td>\n",
       "      <td>4.400000</td>\n",
       "      <td>1.900000</td>\n",
       "      <td>0.600000</td>\n",
       "    </tr>\n",
       "  </tbody>\n",
       "</table>\n",
       "</div>"
      ],
      "text/plain": [
       "       sepal_length  sepal_width  petal_length  petal_width\n",
       "count      50.00000    50.000000     50.000000    50.000000\n",
       "mean        5.00600     3.428000      1.462000     0.246000\n",
       "std         0.35249     0.379064      0.173664     0.105386\n",
       "min         4.30000     2.300000      1.000000     0.100000\n",
       "25%         4.80000     3.200000      1.400000     0.200000\n",
       "50%         5.00000     3.400000      1.500000     0.200000\n",
       "75%         5.20000     3.675000      1.575000     0.300000\n",
       "max         5.80000     4.400000      1.900000     0.600000"
      ]
     },
     "execution_count": 35,
     "metadata": {},
     "output_type": "execute_result"
    }
   ],
   "source": [
    "dset.describe()"
   ]
  },
  {
   "cell_type": "code",
   "execution_count": 36,
   "metadata": {
    "collapsed": true
   },
   "outputs": [],
   "source": [
    "set_m=dset.petal_width.mean()\n",
    "vers_m=dvers.petal_width.mean()\n",
    "virg_m=dvirg.petal_width.mean()"
   ]
  },
  {
   "cell_type": "code",
   "execution_count": 37,
   "metadata": {
    "collapsed": true,
    "scrolled": true
   },
   "outputs": [],
   "source": [
    "set_v=dset.petal_width.var()\n",
    "vers_v=dvers.petal_width.var()\n",
    "virg_v=dvirg.petal_width.var()"
   ]
  },
  {
   "cell_type": "code",
   "execution_count": 38,
   "metadata": {},
   "outputs": [
    {
     "data": {
      "text/plain": [
       "1.7144307102293521"
      ]
     },
     "execution_count": 38,
     "metadata": {},
     "output_type": "execute_result"
    }
   ],
   "source": [
    "def dx(mk,vk,pk,xx):\n",
    "    return xx*mk/vk-mk**2/(2*vk)+np.log(pk)\n",
    "x=0.25\n",
    "dx(set_m,set_v,p_set,x)"
   ]
  },
  {
   "cell_type": "code",
   "execution_count": 39,
   "metadata": {},
   "outputs": [
    {
     "data": {
      "text/plain": [
       "-21.59156775644583"
      ]
     },
     "execution_count": 39,
     "metadata": {},
     "output_type": "execute_result"
    }
   ],
   "source": [
    "dx(virg_m,virg_v,p_virg,x)"
   ]
  },
  {
   "cell_type": "code",
   "execution_count": 40,
   "metadata": {},
   "outputs": [
    {
     "data": {
      "text/plain": [
       "-15.102506454204065"
      ]
     },
     "execution_count": 40,
     "metadata": {},
     "output_type": "execute_result"
    }
   ],
   "source": [
    "dx(vers_m,vers_v,p_vers,x)"
   ]
  },
  {
   "cell_type": "code",
   "execution_count": 41,
   "metadata": {},
   "outputs": [
    {
     "data": {
      "text/plain": [
       "array([  1.71443071, -21.59156776, -15.10250645])"
      ]
     },
     "execution_count": 41,
     "metadata": {},
     "output_type": "execute_result"
    }
   ],
   "source": [
    "res=dx(np.array([set_m,virg_m,vers_m]),np.array([set_v,virg_v,vers_v]),np.array([p_set,p_virg,p_vers]),x)\n",
    "res"
   ]
  },
  {
   "cell_type": "code",
   "execution_count": 42,
   "metadata": {
    "scrolled": true
   },
   "outputs": [
    {
     "data": {
      "text/plain": [
       "'setosa'"
      ]
     },
     "execution_count": 42,
     "metadata": {},
     "output_type": "execute_result"
    }
   ],
   "source": [
    " 'setosa' if np.argmax(res)==0 else 'virginica' if np.argmax(res)==1 else 'versicolor'"
   ]
  },
  {
   "cell_type": "code",
   "execution_count": null,
   "metadata": {
    "collapsed": true
   },
   "outputs": [],
   "source": [
    "class LDA:\n",
    "    self.data=[]\n",
    "    self.labels=[]\n",
    "    def __init__(self, data,labels):\n",
    "        self.data=data\n",
    "        self.labels=labels\n",
    "        \n",
    "    def fit(data=self.data, labels=self.labels):\n",
    "        self.data=data\n",
    "        self.labels=labels\n",
    "        if len(self.data)==0 or len(self.labels)==0:\n",
    "            return print(\"No Data Available\")\n",
    "        \n",
    "    def classify(x):\n",
    "        self.true_labels\n",
    "        "
   ]
  },
  {
   "cell_type": "code",
   "execution_count": 19,
   "metadata": {
    "collapsed": true
   },
   "outputs": [],
   "source": [
    "x=iris['species'].value_counts()"
   ]
  },
  {
   "cell_type": "code",
   "execution_count": 27,
   "metadata": {},
   "outputs": [
    {
     "data": {
      "text/plain": [
       "'virginica'"
      ]
     },
     "execution_count": 27,
     "metadata": {},
     "output_type": "execute_result"
    }
   ],
   "source": [
    "x.index[0]"
   ]
  },
  {
   "cell_type": "code",
   "execution_count": null,
   "metadata": {
    "collapsed": true
   },
   "outputs": [],
   "source": []
  },
  {
   "cell_type": "code",
   "execution_count": null,
   "metadata": {
    "collapsed": true
   },
   "outputs": [],
   "source": []
  },
  {
   "cell_type": "markdown",
   "metadata": {},
   "source": [
    "### LDA Lab\n",
    "### Lab Challenge: Multi Variable LDA\n",
    "\n",
    "For the multivariable case\n",
    "$$D_k(x)=x\\times\\frac{\\sum_{i=1}^m\\frac{\\mu_k}{m}}{\\Delta\\Sigma^2_k}-\\frac{\\sum_{i=1}^m\\frac{\\mu_k^2}{m}}{2\\times \\Delta\\Sigma^2_k}+\\ln(P(k)) - - - (1)$$\n",
    "where\n",
    "$$\\begin{matrix}\n",
    " D_k(x)&=&\\text{Classification of data, x}& \\\\\n",
    " k&=&\\text{class k}& \\\\\n",
    " \\mu_k &=& \\frac{1}{n_k}\\sum_{i=1}^nx_i\n",
    "& \\text{mean of class k} - - - (2)\\end{matrix}$$\n",
    "$$\\begin{matrix}\n",
    " \\Delta\\Sigma^2_k &=& det\\left[\\frac{1}{n-K}\\sum_{i=1}^n(x_i-\\mu_{ik})(x_j-\\mu_{jk})\\right] & \\text{determinant of covariance matrix of class k}\n",
    "\\end{matrix} - - - (3)$$\n",
    "\n"
   ]
  },
  {
   "cell_type": "markdown",
   "metadata": {},
   "source": [
    "### Lab Challenge:LDA alternative\n",
    "\n",
    "There is another presentation of the LDA algorithm found at http://www.saedsayad.com/lda.htm.  This is a slightly more convoluted approach than the one previously described.  In this method, the coefficients of the linear combination of variables (predictors) that best separates two classes (targets) are first determined.\n",
    "$$\\beta=C^{-1}(\\mu_k-\\Sigma_{i=1}^m\\mu_i/m)$$\n",
    "where\n",
    "$$\\beta=Coefficients, \\mu=\\text{average values in class k}$$\n",
    "$$\\begin{aligned}C&=&\\text{pooled covariance matrix}\\\\\n",
    "\t\t&=&(\\Sigma n_k)^{-1}(\\Sigma n_kC_k)\\end{aligned}$$\n",
    " Next, to capture the notion of separability, the following score function is derived.\n",
    "![score function](https://www.dropbox.com/s/1kuc5lnceztrlt2/LDA_score.png?dl=1)\n",
    "\n",
    "The score function estimates the linear coefficients that maximize the score.\n",
    "Ultimately, the effectiveness of the discrimination is determined the Mahalanobis distance between two groups. A distance greater than 3 means that in two averages differ by more than 3 standard deviations. This means that probability of misclassification is quite small.\n",
    "\n",
    "Finally, a new point is classified as $C_k$ if:\n",
    "$$\\beta^\\top(x-\\Sigma \\mu_k/m)>\\log{\\frac{p(c_k)}{p(\\sim c_k)}}$$\n",
    "or\n",
    "$$\\beta^\\top(x-\\mu_k)>\\log{\\frac{p(c_k)}{1-p(c_k)}}$$\n",
    "\n",
    "\n",
    "### Lab Exercises:\n",
    "\n",
    "1. Based off upon the NumPy Library equations solver example, is it possible to implement a more efficient or easier linear algebra equation solver?\n",
    "2. Implement the multivariable LDA solver and compare the results with the single variable case.\n",
    "2. Implement the alternative LDA algorithm and compare your answers.  If they are different, explain why this could be. Which algorithm is better based on\n",
    "   a. Accuracy\n",
    "   b. Ease of implementation\n",
    "   c. Computation Resource efficiency (time & space complexity)\n"
   ]
  },
  {
   "cell_type": "markdown",
   "metadata": {},
   "source": [
    "## Appendices\n",
    "### Appendix 1: Crammers rule\n",
    "![crammers rule part 1](cram1.jpeg)\n",
    "![crammers rule part 1](cram2.jpeg)"
   ]
  },
  {
   "cell_type": "markdown",
   "metadata": {},
   "source": [
    "### Gauss Jordan Method to Compute Matrix Inverse\n",
    "Example given the following mattrix $$\\begin{bmatrix}1&2\\\\3&9\\end{bmatrix}$$"
   ]
  },
  {
   "cell_type": "markdown",
   "metadata": {},
   "source": [
    "We begin by creating the augmented matrix consisting of the original matrix and it's equivalent identity matrix as follows:\n",
    " $$\\left[\\begin{matrix}1&2\\\\3&9\\end{matrix}\\middle|\\begin{matrix}1&0\\\\0&1\\end{matrix}\\right]$$"
   ]
  },
  {
   "cell_type": "markdown",
   "metadata": {},
   "source": [
    "Next, want to achieve an elementary operations on the augmented matrix such that original matrix within the augmented matrix is transformed to become the identity matrix while the simultaneously transforming the identity matrix into the inverse matrix.  This is achieced by performing the following generic steps:\n",
    "1. For each Row from the top:\n",
    "  1. Ensure that the diagonal element is reduced to one by dividing the row by the diagonal element. i.e. $R_i\\leftarrow \\frac{1}{R[i,i]}\\times R_i$\n",
    "  2. For all other elements in current row before the diagonal element, multiply the corresponding diagonal row element by the current column value  and subtract from current row to reduce the current value to zero. i.e. $R_X\\leftarrow R_X-R[X,c]\\times R_c$\n",
    "2. For each row from the bottom,\n",
    "  1. Perform the same element row operation in step 1.2 but in the backward manner"
   ]
  },
  {
   "cell_type": "markdown",
   "metadata": {},
   "source": [
    "In the above example we perform the following three steps.\n",
    " 1. $R_2 \\leftarrow R_2 - 3R_1$.  We obtain $$\\left[\\begin{matrix}1&2\\\\0&3\\end{matrix}\\middle|\\begin{matrix}1&0\\\\-3&1\\end{matrix}\\right]$$\n",
    " 2. $R_2 \\leftarrow \\frac{1}{3}R_2$   $$\\left[\\begin{matrix}1&2\\\\0&1\\end{matrix}\\middle|\\begin{matrix}1&0\\\\-1&\\frac{1}{3}\\end{matrix}\\right]$$\n",
    " 3. $R_1 \\leftarrow R_1 - 2R_2$  $$\\left[\\begin{matrix}1&0\\\\0&1\\end{matrix}\\middle|\\begin{matrix}3&-\\frac{2}{3}\\\\-1&\\frac{1}{3}\\end{matrix}\\right]$$"
   ]
  },
  {
   "cell_type": "markdown",
   "metadata": {
    "collapsed": true
   },
   "source": [
    "## Appendix 2: Selected Challenge Solutions\n",
    "\n",
    "### Solution to exercise 1 using Crammer's Rule\n",
    "For this solution we require $\\Delta, \\Delta_1$ and $\\Delta_2$ defined as follows\n",
    "$$\\begin{align} \\Delta &= |a11*a22-a12*a21| \\\\\n",
    "\\Delta_1 &= |b1*a22-a12*b1| \\\\\n",
    "\\Delta_2 &= |a11*b2-b1*a21| \\\\Therefore \\\\\n",
    "x &=\\frac{\\Delta_1}{\\Delta}\\\\\n",
    "y &=\\frac{\\Delta_2}{\\Delta}\n",
    "\\end{align}$$ \n"
   ]
  },
  {
   "cell_type": "code",
   "execution_count": 9,
   "metadata": {},
   "outputs": [
    {
     "name": "stdout",
     "output_type": "stream",
     "text": [
      "0.6666666666666666\n",
      "0.8333333333333334\n"
     ]
    }
   ],
   "source": [
    "# recall our original equations are 5x+2y=5 and -2x+4y=2\n",
    "a11=5 #something\n",
    "a12=2 #something\n",
    "a21=-2 #something\n",
    "a22=4 #something\n",
    "b1=5 #something\n",
    "b2=2 #something\n",
    "d=abs(a11*a22-a12*a21) \n",
    "d1=abs(b1*a22-a12*b2)\n",
    "d2=abs(a11*b2-b1*a21)\n",
    "x=d1/d\n",
    "y=d2/d\n",
    "print(x)\n",
    "print(y)\n"
   ]
  },
  {
   "cell_type": "code",
   "execution_count": 10,
   "metadata": {},
   "outputs": [
    {
     "data": {
      "text/plain": [
       "array([ 0.66666667,  0.83333333])"
      ]
     },
     "execution_count": 10,
     "metadata": {},
     "output_type": "execute_result"
    }
   ],
   "source": [
    "import numpy as np\n",
    "A=[[5,2],[-2,4]]\n",
    "b=[5,2]\n",
    "np.linalg.solve(A,b)"
   ]
  },
  {
   "cell_type": "code",
   "execution_count": null,
   "metadata": {
    "collapsed": true
   },
   "outputs": [],
   "source": []
  }
 ],
 "metadata": {
  "anaconda-cloud": {},
  "kernelspec": {
   "display_name": "Python 3.6",
   "language": "python",
   "name": "python36"
  },
  "language_info": {
   "codemirror_mode": {
    "name": "ipython",
    "version": 3
   },
   "file_extension": ".py",
   "mimetype": "text/x-python",
   "name": "python",
   "nbconvert_exporter": "python",
   "pygments_lexer": "ipython3",
   "version": "3.6.3"
  }
 },
 "nbformat": 4,
 "nbformat_minor": 2
}
