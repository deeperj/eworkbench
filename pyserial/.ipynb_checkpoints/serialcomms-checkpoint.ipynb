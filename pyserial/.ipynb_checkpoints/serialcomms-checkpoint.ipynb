{
 "cells": [
  {
   "cell_type": "raw",
   "metadata": {
    "collapsed": false
   },
   "source": [
    "import serial.tools.list_ports\n",
    "class MySerial(serial.Serial ):\n",
    "    def _reconfigure_port( self, *args, **kwargs ):\n",
    "        try:\n",
    "            super()._reconfigure_port( *args, **kwargs )\n",
    "        except serial.SerialException:\n",
    "            pass"
   ]
  },
  {
   "cell_type": "code",
   "execution_count": null,
   "metadata": {
    "collapsed": false
   },
   "outputs": [],
   "source": [
    "import sys\n",
    "from PyQt5.QtCore import Qt\n",
    "from PyQt5.QtWidgets import (QApplication, QCheckBox, QGridLayout, QGroupBox,\n",
    "                             QMenu, QPushButton, QRadioButton, QVBoxLayout, QWidget, QSlider)\n",
    "\n",
    "class Window(QWidget):\n",
    "    def __init__(self, parent=None):\n",
    "        super(Window, self).__init__(parent)\n",
    "\n",
    "        grid = QGridLayout()\n",
    "        grid.addWidget(self.createSlider(), 0, 0)\n",
    "        grid.addWidget(self.createExampleGroup(), 1, 0)\n",
    "        #grid.addWidget(self.createExampleGroup(), 0, 1)\n",
    "        #grid.addWidget(self.createExampleGroup(), 1, 1)\n",
    "        self.setLayout(grid)\n",
    "\n",
    "        self.setWindowTitle(\"PyQt5 Sliders\")\n",
    "        self.resize(400, 300)\n",
    "\n",
    "    def createSlider(self):\n",
    "        groupBox = QGroupBox(\"Set Frequency\")\n",
    "\n",
    "        slider = QSlider(Qt.Horizontal)\n",
    "        slider.setFocusPolicy(Qt.StrongFocus)\n",
    "        slider.setTickPosition(QSlider.TicksBothSides)\n",
    "        slider.setTickInterval(10)\n",
    "        slider.setSingleStep(1)\n",
    "\n",
    "        vbox = QVBoxLayout()\n",
    "        vbox.addWidget(slider)\n",
    "        #vbox.addStretch(1)\n",
    "        groupBox.setLayout(vbox)\n",
    "\n",
    "        return groupBox\n",
    "    \n",
    "    def createExampleGroup(self):\n",
    "        groupBox = QGroupBox(\"Slider Example\")\n",
    "\n",
    "        radio1 = QRadioButton(\"&Radio horizontal slider\")\n",
    "\n",
    "        slider = QSlider(Qt.Horizontal)\n",
    "        slider.setFocusPolicy(Qt.StrongFocus)\n",
    "        slider.setTickPosition(QSlider.TicksBothSides)\n",
    "        slider.setTickInterval(10)\n",
    "        slider.setSingleStep(1)\n",
    "\n",
    "        radio1.setChecked(True)\n",
    "\n",
    "        vbox = QVBoxLayout()\n",
    "        vbox.addWidget(radio1)\n",
    "        vbox.addWidget(slider)\n",
    "        vbox.addStretch(1)\n",
    "        groupBox.setLayout(vbox)\n",
    "\n",
    "        return groupBox\n",
    "\n",
    "if __name__ == '__main__':\n",
    "    app = QApplication(sys.argv)\n",
    "    clock = Window()\n",
    "    clock.show()\n",
    "    sys.exit(app.exec_())"
   ]
  },
  {
   "cell_type": "code",
   "execution_count": 1,
   "metadata": {
    "collapsed": false
   },
   "outputs": [],
   "source": [
    "import serial.tools.list_ports\n",
    "c=list(serial.tools.list_ports.comports())"
   ]
  },
  {
   "cell_type": "code",
   "execution_count": 19,
   "metadata": {
    "collapsed": false
   },
   "outputs": [
    {
     "data": {
      "text/plain": [
       "'COM6'"
      ]
     },
     "execution_count": 19,
     "metadata": {},
     "output_type": "execute_result"
    }
   ],
   "source": [
    "for m in serial.tools.list_ports.comports():\n",
    "    if 'VID:PID=1F00:2012' in m.usb_info():\n",
    "        port=m.device\n",
    "port"
   ]
  },
  {
   "cell_type": "code",
   "execution_count": 5,
   "metadata": {
    "collapsed": false
   },
   "outputs": [
    {
     "name": "stdout",
     "output_type": "stream",
     "text": [
      "False\n"
     ]
    }
   ],
   "source": [
    "print(ser.is_open)"
   ]
  },
  {
   "cell_type": "code",
   "execution_count": 6,
   "metadata": {
    "collapsed": false
   },
   "outputs": [],
   "source": [
    "ser.open()"
   ]
  },
  {
   "cell_type": "code",
   "execution_count": 8,
   "metadata": {
    "collapsed": false
   },
   "outputs": [
    {
     "data": {
      "text/plain": [
       "b'I am a virtual serial port: 13\\r\\n'"
      ]
     },
     "execution_count": 8,
     "metadata": {},
     "output_type": "execute_result"
    }
   ],
   "source": [
    "ser.readline()"
   ]
  },
  {
   "cell_type": "code",
   "execution_count": 20,
   "metadata": {
    "collapsed": false
   },
   "outputs": [
    {
     "name": "stdout",
     "output_type": "stream",
     "text": [
      "COM1 - Communications Port (COM1)\n",
      "COM3 - Intel(R) Active Management Technology - SOL (COM3)\n",
      "COM5 - USB Serial Device (COM5)\n",
      "COM6 - USB Serial Device (COM6)\n"
     ]
    }
   ],
   "source": [
    "import serial.tools.list_ports as port_list\n",
    "ports = list(port_list.comports())\n",
    "for p in ports: print (p)"
   ]
  }
 ],
 "metadata": {
  "anaconda-cloud": {},
  "kernelspec": {
   "display_name": "Python 3",
   "language": "python",
   "name": "python3"
  },
  "language_info": {
   "codemirror_mode": {
    "name": "ipython",
    "version": 3
   },
   "file_extension": ".py",
   "mimetype": "text/x-python",
   "name": "python",
   "nbconvert_exporter": "python",
   "pygments_lexer": "ipython3",
   "version": "3.5.2"
  }
 },
 "nbformat": 4,
 "nbformat_minor": 1
}
