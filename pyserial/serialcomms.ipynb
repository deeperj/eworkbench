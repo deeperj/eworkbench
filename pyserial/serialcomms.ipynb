{
 "cells": [
  {
   "cell_type": "code",
   "execution_count": null,
   "metadata": {
    "collapsed": false
   },
   "outputs": [],
   "source": [
    "import sys\n",
    "from PyQt5.QtCore import Qt\n",
    "from PyQt5.QtWidgets import (QApplication, QCheckBox, QGridLayout, QGroupBox,\n",
    "                             QMenu, QPushButton, QRadioButton, QVBoxLayout, QWidget, QSlider)\n",
    "\n",
    "class Window(QWidget):\n",
    "    def __init__(self, parent=None):\n",
    "        super(Window, self).__init__(parent)\n",
    "\n",
    "        grid = QGridLayout()\n",
    "        grid.addWidget(self.createExampleGroup(), 0, 0)\n",
    "        grid.addWidget(self.createExampleGroup(), 1, 0)\n",
    "        #grid.addWidget(self.createExampleGroup(), 0, 1)\n",
    "        #grid.addWidget(self.createExampleGroup(), 1, 1)\n",
    "        self.setLayout(grid)\n",
    "\n",
    "        self.setWindowTitle(\"PyQt5 Sliders\")\n",
    "        self.resize(400, 300)\n",
    "\n",
    "    def createExampleGroup(self):\n",
    "        groupBox = QGroupBox(\"Slider Example\")\n",
    "\n",
    "        radio1 = QRadioButton(\"&Radio horizontal slider\")\n",
    "\n",
    "        slider = QSlider(Qt.Horizontal)\n",
    "        slider.setFocusPolicy(Qt.StrongFocus)\n",
    "        slider.setTickPosition(QSlider.TicksBothSides)\n",
    "        slider.setTickInterval(10)\n",
    "        slider.setSingleStep(1)\n",
    "\n",
    "        radio1.setChecked(True)\n",
    "\n",
    "        vbox = QVBoxLayout()\n",
    "        vbox.addWidget(radio1)\n",
    "        vbox.addWidget(slider)\n",
    "        vbox.addStretch(1)\n",
    "        groupBox.setLayout(vbox)\n",
    "\n",
    "        return groupBox\n",
    "\n",
    "if __name__ == '__main__':\n",
    "    app = QApplication(sys.argv)\n",
    "    clock = Window()\n",
    "    clock.show()\n",
    "    sys.exit(app.exec_())"
   ]
  },
  {
   "cell_type": "code",
   "execution_count": null,
   "metadata": {
    "collapsed": true
   },
   "outputs": [],
   "source": []
  }
 ],
 "metadata": {
  "anaconda-cloud": {},
  "kernelspec": {
   "display_name": "Python [conda root]",
   "language": "python",
   "name": "conda-root-py"
  },
  "language_info": {
   "codemirror_mode": {
    "name": "ipython",
    "version": 3
   },
   "file_extension": ".py",
   "mimetype": "text/x-python",
   "name": "python",
   "nbconvert_exporter": "python",
   "pygments_lexer": "ipython3",
   "version": "3.5.2"
  }
 },
 "nbformat": 4,
 "nbformat_minor": 1
}
